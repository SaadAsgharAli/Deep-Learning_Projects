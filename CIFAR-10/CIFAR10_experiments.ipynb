{
  "nbformat": 4,
  "nbformat_minor": 0,
  "metadata": {
    "colab": {
      "name": "CIFAR10 experiments.ipynb",
      "provenance": [],
      "collapsed_sections": []
    },
    "kernelspec": {
      "name": "python3",
      "display_name": "Python 3"
    },
    "language_info": {
      "name": "python"
    },
    "accelerator": "GPU",
    "gpuClass": "standard"
  },
  "cells": [
    {
      "cell_type": "markdown",
      "source": [
        "Initially taking book's code as a reference"
      ],
      "metadata": {
        "id": "Dy7EZETaNvC-"
      }
    },
    {
      "cell_type": "code",
      "source": [
        "from tensorflow.keras.datasets import cifar10\n",
        "import matplotlib.pyplot as plt\n",
        "from tensorflow.keras.optimizers import Adam\n",
        "from tensorflow.keras.models import Model, Sequential\n",
        "from tensorflow.keras.layers import Conv2D, BatchNormalization, MaxPooling2D, Dropout, Dense, Flatten"
      ],
      "metadata": {
        "id": "5tkI2gi5MuQb"
      },
      "execution_count": null,
      "outputs": []
    },
    {
      "cell_type": "code",
      "source": [
        "# The CIFAR10 dataset contains 60,000 color images in 10 classes, \n",
        "# with 6,000 images in each class. The dataset is divided into 50,000 training\n",
        "# images and 10,000 testing images.\n",
        "data = cifar10\n",
        "(X_train, Y_train), (X_test, Y_test) = data.load_data()"
      ],
      "metadata": {
        "colab": {
          "base_uri": "https://localhost:8080/"
        },
        "id": "4f3oVkPrMuS-",
        "outputId": "e705615d-da35-4524-b68e-ee6decb6e30c"
      },
      "execution_count": null,
      "outputs": [
        {
          "output_type": "stream",
          "name": "stdout",
          "text": [
            "Downloading data from https://www.cs.toronto.edu/~kriz/cifar-10-python.tar.gz\n",
            "170500096/170498071 [==============================] - 13s 0us/step\n",
            "170508288/170498071 [==============================] - 13s 0us/step\n"
          ]
        }
      ]
    },
    {
      "cell_type": "code",
      "source": [
        "X_train= X_train.astype(\"float32\") / 255\n",
        "X_test = X_test.astype(\"float32\") / 255"
      ],
      "metadata": {
        "id": "rWl2U_GZdE9E"
      },
      "execution_count": null,
      "outputs": []
    },
    {
      "cell_type": "code",
      "execution_count": null,
      "metadata": {
        "colab": {
          "base_uri": "https://localhost:8080/"
        },
        "id": "EQveM9KfLjaB",
        "outputId": "0c603967-3333-4bfd-8583-ca355b16f978"
      },
      "outputs": [
        {
          "output_type": "stream",
          "name": "stdout",
          "text": [
            "Model: \"model_6\"\n",
            "_________________________________________________________________\n",
            " Layer (type)                Output Shape              Param #   \n",
            "=================================================================\n",
            " input_7 (InputLayer)        [(None, 32, 32, 3)]       0         \n",
            "                                                                 \n",
            " conv2d_18 (Conv2D)          (None, 30, 30, 32)        896       \n",
            "                                                                 \n",
            " batch_normalization_18 (Bat  (None, 30, 30, 32)       128       \n",
            " chNormalization)                                                \n",
            "                                                                 \n",
            " max_pooling2d_12 (MaxPoolin  (None, 15, 15, 32)       0         \n",
            " g2D)                                                            \n",
            "                                                                 \n",
            " conv2d_19 (Conv2D)          (None, 15, 15, 64)        18496     \n",
            "                                                                 \n",
            " batch_normalization_19 (Bat  (None, 15, 15, 64)       256       \n",
            " chNormalization)                                                \n",
            "                                                                 \n",
            " max_pooling2d_13 (MaxPoolin  (None, 7, 7, 64)         0         \n",
            " g2D)                                                            \n",
            "                                                                 \n",
            " conv2d_20 (Conv2D)          (None, 7, 7, 128)         73856     \n",
            "                                                                 \n",
            " batch_normalization_20 (Bat  (None, 7, 7, 128)        512       \n",
            " chNormalization)                                                \n",
            "                                                                 \n",
            " flatten_6 (Flatten)         (None, 6272)              0         \n",
            "                                                                 \n",
            " dense_6 (Dense)             (None, 10)                62730     \n",
            "                                                                 \n",
            "=================================================================\n",
            "Total params: 156,874\n",
            "Trainable params: 156,426\n",
            "Non-trainable params: 448\n",
            "_________________________________________________________________\n"
          ]
        }
      ],
      "source": [
        "from tensorflow import keras\n",
        "from tensorflow.keras import layers\n",
        "inputs = keras.Input(shape=(32, 32, 3))\n",
        "x = layers.Conv2D(filters=32, kernel_size=3, activation=\"relu\")(inputs)\n",
        "x = layers.BatchNormalization()(x) # added\n",
        "x = layers.MaxPooling2D(pool_size=2)(x)\n",
        "x = layers.Conv2D(filters=64, kernel_size=3, activation=\"relu\", padding='same')(x)\n",
        "x = layers.BatchNormalization()(x) # added\n",
        "x = layers.MaxPooling2D(pool_size=2)(x)\n",
        "x = layers.Conv2D(filters=128, kernel_size=3, activation=\"relu\", padding='same')(x)\n",
        "x = layers.BatchNormalization()(x) # added\n",
        "x = layers.Flatten()(x)\n",
        "outputs = layers.Dense(10, activation=\"softmax\")(x)\n",
        "\n",
        "model = keras.Model(inputs=inputs, outputs=outputs)\n",
        "model.summary()"
      ]
    },
    {
      "cell_type": "code",
      "source": [
        "# NOTES:\n",
        "# Consider batch size and normalization as in the book's code\n",
        "# You can also consider padding in the Conv2D layer\n",
        "# Compare Adam optimizer and rmsprop\n",
        "# Consider batch normalization\n",
        "# Consider dropout"
      ],
      "metadata": {
        "id": "ajDh8vwRMOHd"
      },
      "execution_count": null,
      "outputs": []
    },
    {
      "cell_type": "code",
      "source": [
        "model.compile(loss='sparse_categorical_crossentropy', optimizer=\"Adam\", metrics=['accuracy'])"
      ],
      "metadata": {
        "id": "QcGpRGcnMOKN"
      },
      "execution_count": null,
      "outputs": []
    },
    {
      "cell_type": "code",
      "source": [
        "history = model.fit(X_train,Y_train,epochs=70,batch_size=64)"
      ],
      "metadata": {
        "colab": {
          "base_uri": "https://localhost:8080/"
        },
        "id": "1lkU13IAOF1l",
        "outputId": "2cd01c7e-0b22-4b3d-a634-65939483e229"
      },
      "execution_count": null,
      "outputs": [
        {
          "output_type": "stream",
          "name": "stdout",
          "text": [
            "Epoch 1/70\n",
            "782/782 [==============================] - 18s 21ms/step - loss: 1.6747 - accuracy: 0.4253\n",
            "Epoch 2/70\n",
            "782/782 [==============================] - 17s 22ms/step - loss: 1.0359 - accuracy: 0.6329\n",
            "Epoch 3/70\n",
            "782/782 [==============================] - 17s 22ms/step - loss: 0.8346 - accuracy: 0.7112\n",
            "Epoch 4/70\n",
            "782/782 [==============================] - 17s 22ms/step - loss: 0.7122 - accuracy: 0.7547\n",
            "Epoch 5/70\n",
            "782/782 [==============================] - 17s 22ms/step - loss: 0.6346 - accuracy: 0.7843\n",
            "Epoch 6/70\n",
            "782/782 [==============================] - 17s 22ms/step - loss: 0.5747 - accuracy: 0.8054\n",
            "Epoch 7/70\n",
            "782/782 [==============================] - 17s 22ms/step - loss: 0.5263 - accuracy: 0.8206\n",
            "Epoch 8/70\n",
            "782/782 [==============================] - 17s 22ms/step - loss: 0.4802 - accuracy: 0.8359\n",
            "Epoch 9/70\n",
            "782/782 [==============================] - 17s 22ms/step - loss: 0.4520 - accuracy: 0.8478\n",
            "Epoch 10/70\n",
            "782/782 [==============================] - 17s 22ms/step - loss: 0.4117 - accuracy: 0.8594\n",
            "Epoch 11/70\n",
            "782/782 [==============================] - 17s 22ms/step - loss: 0.3875 - accuracy: 0.8682\n",
            "Epoch 12/70\n",
            "782/782 [==============================] - 17s 22ms/step - loss: 0.3574 - accuracy: 0.8764\n",
            "Epoch 13/70\n",
            "782/782 [==============================] - 17s 22ms/step - loss: 0.3373 - accuracy: 0.8837\n",
            "Epoch 14/70\n",
            "782/782 [==============================] - 17s 22ms/step - loss: 0.3190 - accuracy: 0.8907\n",
            "Epoch 15/70\n",
            "782/782 [==============================] - 17s 22ms/step - loss: 0.3001 - accuracy: 0.8973\n",
            "Epoch 16/70\n",
            "782/782 [==============================] - 17s 22ms/step - loss: 0.2851 - accuracy: 0.9030\n",
            "Epoch 17/70\n",
            "782/782 [==============================] - 17s 22ms/step - loss: 0.2696 - accuracy: 0.9086\n",
            "Epoch 18/70\n",
            "782/782 [==============================] - 17s 22ms/step - loss: 0.2524 - accuracy: 0.9137\n",
            "Epoch 19/70\n",
            "782/782 [==============================] - 17s 22ms/step - loss: 0.2470 - accuracy: 0.9159\n",
            "Epoch 20/70\n",
            "782/782 [==============================] - 17s 22ms/step - loss: 0.2397 - accuracy: 0.9177\n",
            "Epoch 21/70\n",
            "782/782 [==============================] - 17s 22ms/step - loss: 0.2268 - accuracy: 0.9226\n",
            "Epoch 22/70\n",
            "782/782 [==============================] - 17s 22ms/step - loss: 0.2185 - accuracy: 0.9254\n",
            "Epoch 23/70\n",
            "782/782 [==============================] - 17s 22ms/step - loss: 0.2071 - accuracy: 0.9286\n",
            "Epoch 24/70\n",
            "782/782 [==============================] - 17s 22ms/step - loss: 0.1994 - accuracy: 0.9303\n",
            "Epoch 25/70\n",
            "782/782 [==============================] - 17s 22ms/step - loss: 0.1935 - accuracy: 0.9331\n",
            "Epoch 26/70\n",
            "782/782 [==============================] - 17s 22ms/step - loss: 0.1852 - accuracy: 0.9355\n",
            "Epoch 27/70\n",
            "782/782 [==============================] - 17s 22ms/step - loss: 0.1772 - accuracy: 0.9399\n",
            "Epoch 28/70\n",
            "782/782 [==============================] - 17s 22ms/step - loss: 0.1685 - accuracy: 0.9424\n",
            "Epoch 29/70\n",
            "782/782 [==============================] - 17s 22ms/step - loss: 0.1690 - accuracy: 0.9409\n",
            "Epoch 30/70\n",
            "782/782 [==============================] - 17s 21ms/step - loss: 0.1636 - accuracy: 0.9437\n",
            "Epoch 31/70\n",
            "782/782 [==============================] - 17s 21ms/step - loss: 0.1531 - accuracy: 0.9464\n",
            "Epoch 32/70\n",
            "782/782 [==============================] - 17s 22ms/step - loss: 0.1513 - accuracy: 0.9468\n",
            "Epoch 33/70\n",
            "782/782 [==============================] - 17s 22ms/step - loss: 0.1517 - accuracy: 0.9481\n",
            "Epoch 34/70\n",
            "782/782 [==============================] - 17s 21ms/step - loss: 0.1392 - accuracy: 0.9519\n",
            "Epoch 35/70\n",
            "782/782 [==============================] - 17s 22ms/step - loss: 0.1406 - accuracy: 0.9516\n",
            "Epoch 36/70\n",
            "782/782 [==============================] - 17s 22ms/step - loss: 0.1360 - accuracy: 0.9538\n",
            "Epoch 37/70\n",
            "782/782 [==============================] - 17s 22ms/step - loss: 0.1377 - accuracy: 0.9524\n",
            "Epoch 38/70\n",
            "782/782 [==============================] - 17s 22ms/step - loss: 0.1334 - accuracy: 0.9547\n",
            "Epoch 39/70\n",
            "782/782 [==============================] - 17s 22ms/step - loss: 0.1241 - accuracy: 0.9572\n",
            "Epoch 40/70\n",
            "782/782 [==============================] - 17s 22ms/step - loss: 0.1247 - accuracy: 0.9559\n",
            "Epoch 41/70\n",
            "782/782 [==============================] - 17s 22ms/step - loss: 0.1257 - accuracy: 0.9577\n",
            "Epoch 42/70\n",
            "782/782 [==============================] - 17s 22ms/step - loss: 0.1215 - accuracy: 0.9587\n",
            "Epoch 43/70\n",
            "782/782 [==============================] - 17s 22ms/step - loss: 0.1193 - accuracy: 0.9590\n",
            "Epoch 44/70\n",
            "782/782 [==============================] - 17s 22ms/step - loss: 0.1156 - accuracy: 0.9605\n",
            "Epoch 45/70\n",
            "782/782 [==============================] - 17s 22ms/step - loss: 0.1131 - accuracy: 0.9610\n",
            "Epoch 46/70\n",
            "782/782 [==============================] - 17s 22ms/step - loss: 0.1093 - accuracy: 0.9629\n",
            "Epoch 47/70\n",
            "782/782 [==============================] - 17s 22ms/step - loss: 0.1071 - accuracy: 0.9636\n",
            "Epoch 48/70\n",
            "782/782 [==============================] - 17s 22ms/step - loss: 0.1061 - accuracy: 0.9637\n",
            "Epoch 49/70\n",
            "782/782 [==============================] - 17s 22ms/step - loss: 0.1051 - accuracy: 0.9637\n",
            "Epoch 50/70\n",
            "782/782 [==============================] - 17s 22ms/step - loss: 0.1045 - accuracy: 0.9646\n",
            "Epoch 51/70\n",
            "782/782 [==============================] - 17s 22ms/step - loss: 0.1051 - accuracy: 0.9643\n",
            "Epoch 52/70\n",
            "782/782 [==============================] - 17s 22ms/step - loss: 0.0996 - accuracy: 0.9664\n",
            "Epoch 53/70\n",
            "782/782 [==============================] - 17s 22ms/step - loss: 0.0976 - accuracy: 0.9658\n",
            "Epoch 54/70\n",
            "782/782 [==============================] - 17s 22ms/step - loss: 0.1004 - accuracy: 0.9660\n",
            "Epoch 55/70\n",
            "782/782 [==============================] - 17s 22ms/step - loss: 0.0930 - accuracy: 0.9682\n",
            "Epoch 56/70\n",
            "782/782 [==============================] - 17s 22ms/step - loss: 0.0928 - accuracy: 0.9682\n",
            "Epoch 57/70\n",
            "782/782 [==============================] - 17s 22ms/step - loss: 0.0939 - accuracy: 0.9676\n",
            "Epoch 58/70\n",
            "782/782 [==============================] - 17s 22ms/step - loss: 0.0899 - accuracy: 0.9689\n",
            "Epoch 59/70\n",
            "782/782 [==============================] - 17s 22ms/step - loss: 0.0868 - accuracy: 0.9699\n",
            "Epoch 60/70\n",
            "782/782 [==============================] - 17s 22ms/step - loss: 0.0885 - accuracy: 0.9694\n",
            "Epoch 61/70\n",
            "782/782 [==============================] - 17s 22ms/step - loss: 0.0840 - accuracy: 0.9711\n",
            "Epoch 62/70\n",
            "782/782 [==============================] - 17s 22ms/step - loss: 0.0859 - accuracy: 0.9708\n",
            "Epoch 63/70\n",
            "782/782 [==============================] - 17s 22ms/step - loss: 0.0843 - accuracy: 0.9718\n",
            "Epoch 64/70\n",
            "782/782 [==============================] - 17s 22ms/step - loss: 0.0885 - accuracy: 0.9698\n",
            "Epoch 65/70\n",
            "782/782 [==============================] - 17s 22ms/step - loss: 0.0823 - accuracy: 0.9724\n",
            "Epoch 66/70\n",
            "782/782 [==============================] - 17s 22ms/step - loss: 0.0811 - accuracy: 0.9717\n",
            "Epoch 67/70\n",
            "782/782 [==============================] - 17s 22ms/step - loss: 0.0816 - accuracy: 0.9729\n",
            "Epoch 68/70\n",
            "782/782 [==============================] - 17s 22ms/step - loss: 0.0817 - accuracy: 0.9724\n",
            "Epoch 69/70\n",
            "782/782 [==============================] - 17s 22ms/step - loss: 0.0808 - accuracy: 0.9720\n",
            "Epoch 70/70\n",
            "782/782 [==============================] - 17s 22ms/step - loss: 0.0762 - accuracy: 0.9739\n"
          ]
        }
      ]
    },
    {
      "cell_type": "code",
      "source": [
        "# Plot Model Loss and Accuracy During Training\n",
        "%matplotlib inline\n",
        "acc = history.history['accuracy']\n",
        "loss = history.history['loss']\n",
        "epochs = range(1, len(acc) + 1)\n",
        "plt.plot(epochs, acc, 'b', label='Training accuracy')\n",
        "plt.title('Training accuracy')\n",
        "plt.legend()\n",
        "plt.figure()\n",
        "plt.plot(epochs, loss, 'b', label='Training loss', color='r')\n",
        "plt.title('Training loss')\n",
        "plt.legend()\n",
        "plt.show()"
      ],
      "metadata": {
        "colab": {
          "base_uri": "https://localhost:8080/",
          "height": 545
        },
        "id": "9RIzbjlhOP9e",
        "outputId": "2619a145-4b84-472b-f53c-a55b2f573c78"
      },
      "execution_count": null,
      "outputs": [
        {
          "output_type": "display_data",
          "data": {
            "text/plain": [
              "<Figure size 432x288 with 1 Axes>"
            ],
            "image/png": "[encoded data removed]"
          },
          "metadata": {
            "needs_background": "light"
          }
        },
        {
          "output_type": "display_data",
          "data": {
            "text/plain": [
              "<Figure size 432x288 with 1 Axes>"
            ],
            "image/png": "[encoded data removed]"
          },
          "metadata": {
            "needs_background": "light"
          }
        }
      ]
    },
    {
      "cell_type": "code",
      "source": [
        "# Training time = 10m (6s per epoch)\n",
        "# Training acc = 89%\n",
        "\n",
        "# Graph observation: A lot of fluctuations as compared to Waleed's"
      ],
      "metadata": {
        "id": "HMZb4DAJQX3a"
      },
      "execution_count": null,
      "outputs": []
    },
    {
      "cell_type": "code",
      "source": [
        "# EVALUATION:\n",
        "# ACCURACY = 58% [useless]\n",
        "model.evaluate(X_test,Y_test)"
      ],
      "metadata": {
        "colab": {
          "base_uri": "https://localhost:8080/"
        },
        "id": "INQWxk2AOQiF",
        "outputId": "bd24466a-40ef-4f8f-c0dd-91a2195a4ced"
      },
      "execution_count": null,
      "outputs": [
        {
          "output_type": "stream",
          "name": "stdout",
          "text": [
            "313/313 [==============================] - 1s 3ms/step - loss: 2.3093 - accuracy: 0.7000\n"
          ]
        },
        {
          "output_type": "execute_result",
          "data": {
            "text/plain": [
              "[2.309290885925293, 0.699999988079071]"
            ]
          },
          "metadata": {},
          "execution_count": 45
        }
      ]
    },
    {
      "cell_type": "code",
      "source": [
        "# When I interrputed the model at 10 epochs. It gave a test acc of 61%"
      ],
      "metadata": {
        "id": "MHjn_Fl5PBel"
      },
      "execution_count": null,
      "outputs": []
    },
    {
      "cell_type": "markdown",
      "source": [
        "####**MY EXPERIMENTS**"
      ],
      "metadata": {
        "id": "athFRNt3Z5BV"
      }
    },
    {
      "cell_type": "code",
      "source": [
        "# Experiment 1:\n",
        "  # Mentioned batch_size of 64 for training\n",
        "  # Training time = 6m (3s per epoch)\n",
        "  # Training acc = 61%"
      ],
      "metadata": {
        "id": "FC1pNo_hZlq3"
      },
      "execution_count": null,
      "outputs": []
    },
    {
      "cell_type": "code",
      "source": [
        "# EVALUATION:\n",
        "# ACCURACY = 58% [same]\n",
        "model.evaluate(X_test,Y_test)"
      ],
      "metadata": {
        "id": "80L9ZOKBeK4m"
      },
      "execution_count": null,
      "outputs": []
    },
    {
      "cell_type": "code",
      "source": [
        "# Experiment 1B:\n",
        "  # Reducing epochs to 50\n",
        "  # ACCURACY = 62% [useless]\n",
        "model.evaluate(X_test,Y_test)"
      ],
      "metadata": {
        "id": "G3OBA3Q9jbsu"
      },
      "execution_count": null,
      "outputs": []
    },
    {
      "cell_type": "code",
      "source": [
        "# Experiment 1C:\n",
        "  # rmsprop needs 20 epochs only.\n",
        "  # ACCURACY = 60% [useless]\n",
        "model.evaluate(X_test,Y_test)"
      ],
      "metadata": {
        "id": "ilt_3-s2j2TF"
      },
      "execution_count": null,
      "outputs": []
    },
    {
      "cell_type": "code",
      "source": [
        "# QUERIES:\n",
        "  # Does rmsprop optimizer has any dependency with the model architecture, no. of layers, and batchnormalization layer\n",
        "  # Does Adam optimizer has any dependency with dropout "
      ],
      "metadata": {
        "id": "hLH4UqqzkEnR"
      },
      "execution_count": null,
      "outputs": []
    },
    {
      "cell_type": "code",
      "source": [
        "# CONCLUSION:\n",
        "# Batch size has reduced the training time by half"
      ],
      "metadata": {
        "id": "UhqnDvDnYtVR"
      },
      "execution_count": null,
      "outputs": []
    },
    {
      "cell_type": "code",
      "source": [
        "# Experiment 2:\n",
        "  # Continuation of Exp1 and Exp1B\n",
        "  # Adding batchnormalization after each conv2d layer\n",
        "    # Training time = 4m (4s per epoch)\n",
        "    # Training acc = 98%"
      ],
      "metadata": {
        "id": "2kk_qJrLPBhN"
      },
      "execution_count": null,
      "outputs": []
    },
    {
      "cell_type": "code",
      "source": [
        "# EVALUATION:\n",
        "# ACCURACY = 70\n",
        "model.evaluate(X_test,Y_test)"
      ],
      "metadata": {
        "id": "WU89NJxvPBk8"
      },
      "execution_count": null,
      "outputs": []
    },
    {
      "cell_type": "code",
      "source": [
        "# Experiment 2B:\n",
        "  # Reducing epochs to 30"
      ],
      "metadata": {
        "id": "rvX7c1_VrTBU"
      },
      "execution_count": null,
      "outputs": []
    },
    {
      "cell_type": "code",
      "source": [
        "# EVALUATION:\n",
        "# ACCURACY = 71\n",
        "model.evaluate(X_test,Y_test)"
      ],
      "metadata": {
        "id": "lZrFoSiXNpHn"
      },
      "execution_count": null,
      "outputs": []
    },
    {
      "cell_type": "code",
      "source": [
        "# Conclusion: We have improved the accuracy from 60 to 70% through batch normalization"
      ],
      "metadata": {
        "id": "CVz-gJY9OmXP"
      },
      "execution_count": null,
      "outputs": []
    },
    {
      "cell_type": "code",
      "source": [
        "# Slow internet connection"
      ],
      "metadata": {
        "id": "a8WUDgQQgWW3"
      },
      "execution_count": null,
      "outputs": []
    },
    {
      "cell_type": "code",
      "source": [
        "# Experiment 3:\n",
        "  # Continuation of Exp2\n",
        "  # Normalize the data and convert data-type to float\n",
        "    # Training time = 3m (4s per epoch)\n",
        "    # Training acc = 97%"
      ],
      "metadata": {
        "id": "vOluFRDCqZKN"
      },
      "execution_count": null,
      "outputs": []
    },
    {
      "cell_type": "code",
      "source": [
        "# EVALUATION:\n",
        "# ACCURACY = 70\n",
        "model.evaluate(X_test,Y_test)"
      ],
      "metadata": {
        "id": "7ynya--QfEeo"
      },
      "execution_count": null,
      "outputs": []
    },
    {
      "cell_type": "code",
      "source": [
        "# Conclusion: no effect on acc by experiment 3"
      ],
      "metadata": {
        "id": "AP4Np3XXn0fb"
      },
      "execution_count": null,
      "outputs": []
    },
    {
      "cell_type": "code",
      "source": [
        "# Experiment 4:\n",
        "  # Continuation of Exp3\n",
        "  # Converted padding type to 'same' in the last two Conv2D layers\n",
        "    # Training time = 3m (4s per epoch)\n",
        "    # Training acc = 98%"
      ],
      "metadata": {
        "id": "2MxIduL9hGrZ"
      },
      "execution_count": null,
      "outputs": []
    },
    {
      "cell_type": "code",
      "source": [
        "# EVALUATION:\n",
        "# ACCURACY = 70\n",
        "model.evaluate(X_test,Y_test)"
      ],
      "metadata": {
        "id": "sKCQ08lZhGtt"
      },
      "execution_count": null,
      "outputs": []
    },
    {
      "cell_type": "code",
      "source": [
        "# Experiment 5:\n",
        "  # Continuation of Exp4\n",
        "  # \"Changing the positions of Max Pooling layers\"\n",
        "    # Training time = 5m (7s per epoch)\n",
        "    # Training acc = 98%"
      ],
      "metadata": {
        "id": "TkIiW8xwhGv2"
      },
      "execution_count": null,
      "outputs": []
    },
    {
      "cell_type": "markdown",
      "source": [
        "**BETTER MODEL**"
      ],
      "metadata": {
        "id": "_MF1FWzMMuDp"
      }
    },
    {
      "cell_type": "code",
      "source": [
        "from tensorflow import keras\n",
        "from tensorflow.keras import layers\n",
        "inputs = keras.Input(shape=(32, 32, 3))\n",
        "x = layers.Conv2D(filters=32, kernel_size=3, activation=\"relu\")(inputs)\n",
        "x = layers.BatchNormalization()(x)      # added\n",
        "                                        # removed Max Pooling\n",
        "x = layers.Conv2D(filters=64, kernel_size=3, activation=\"relu\", padding='same')(x)\n",
        "x = layers.BatchNormalization()(x)      # added\n",
        "x = layers.MaxPooling2D(pool_size=2)(x)\n",
        "x = layers.Conv2D(filters=128, kernel_size=3, activation=\"relu\", padding='same')(x)\n",
        "x = layers.BatchNormalization()(x)      # added\n",
        "x = layers.MaxPooling2D(pool_size=2)(x) # added\n",
        "x = layers.Dropout(0.5)(x)              # added\n",
        "x = layers.Flatten()(x)\n",
        "outputs = layers.Dense(10, activation=\"softmax\")(x)\n",
        "\n",
        "model = keras.Model(inputs=inputs, outputs=outputs)\n",
        "#model.summary()"
      ],
      "metadata": {
        "id": "eYMNPo2ijTJs"
      },
      "execution_count": null,
      "outputs": []
    },
    {
      "cell_type": "code",
      "source": [
        "# EVALUATION:\n",
        "# ACCURACY = 73\n",
        "model.evaluate(X_test,Y_test)"
      ],
      "metadata": {
        "id": "byVy3fCflr0x"
      },
      "execution_count": null,
      "outputs": []
    },
    {
      "cell_type": "code",
      "source": [
        "# Experiment 5B:\n",
        "    # Removing one more Max Pooling layer (the upper one)\n",
        "    # Training time = 7m (11s per epoch)\n",
        "    # Training acc = 98%"
      ],
      "metadata": {
        "id": "5iOCORlBjTMC"
      },
      "execution_count": null,
      "outputs": []
    },
    {
      "cell_type": "code",
      "source": [
        "# EVALUATION:\n",
        "# ACCURACY = 67 [useless]\n",
        "model.evaluate(X_test,Y_test)"
      ],
      "metadata": {
        "id": "xhiTKoockTxw"
      },
      "execution_count": null,
      "outputs": []
    },
    {
      "cell_type": "code",
      "source": [
        "# Experiment 6:\n",
        "    # Introducing dropout\n",
        "  # Continuation of Exp5 orig\n",
        "    # Training time = 5m (7s per epoch)\n",
        "    # Training acc ="
      ],
      "metadata": {
        "id": "tHk7Vr4_kT0J"
      },
      "execution_count": null,
      "outputs": []
    },
    {
      "cell_type": "code",
      "source": [
        "# Dropout has changed the curve a lot. Great!\n",
        "# Lets try more epochs = 50\n",
        "    # Training time = 13m (7s per epoch)\n",
        "    # Training acc = 95%"
      ],
      "metadata": {
        "id": "KEuyTH1arvY2"
      },
      "execution_count": null,
      "outputs": []
    },
    {
      "cell_type": "code",
      "source": [
        "# EVALUATION:\n",
        "# ACCURACY = 80 [Good improvement]\n",
        "model.evaluate(X_test,Y_test)"
      ],
      "metadata": {
        "id": "tIsAbvdTwFpo"
      },
      "execution_count": null,
      "outputs": []
    },
    {
      "cell_type": "code",
      "source": [
        "# Conclusion: We have improved the accuracy from 73 to 80% through dropout"
      ],
      "metadata": {
        "id": "931bsADnPkrm"
      },
      "execution_count": null,
      "outputs": []
    },
    {
      "cell_type": "code",
      "source": [
        "# Lets try more epochs = 100\n",
        "    # Training time = 7m (7s per epoch)\n",
        "    # Training acc = 92%"
      ],
      "metadata": {
        "id": "-OdCGKfSwOgo"
      },
      "execution_count": null,
      "outputs": []
    },
    {
      "cell_type": "code",
      "source": [
        "# EVALUATION:\n",
        "# ACCURACY = 80\n",
        "model.evaluate(X_test,Y_test)"
      ],
      "metadata": {
        "id": "cpj7YWxT6J1v"
      },
      "execution_count": null,
      "outputs": []
    },
    {
      "cell_type": "code",
      "source": [
        "# Conclusion: 50 epochs are enough with dropout"
      ],
      "metadata": {
        "id": "ILx-xBCxM7iL"
      },
      "execution_count": null,
      "outputs": []
    },
    {
      "cell_type": "code",
      "source": [
        "# Experiment 7:\n",
        "  # Removing all batch_normalization layers\n",
        "    # Training time =  (6s per epoch)\n",
        "    # Training acc = 89%\n",
        "\n",
        "# EVALUATION:\n",
        "# ACCURACY = 79\n",
        "model.evaluate(X_test,Y_test)"
      ],
      "metadata": {
        "id": "w02aRulmNzlQ"
      },
      "execution_count": null,
      "outputs": []
    },
    {
      "cell_type": "code",
      "source": [
        "# Conslusion: Don't remove batch_normalization layers"
      ],
      "metadata": {
        "id": "v4RStMa-ViWm"
      },
      "execution_count": null,
      "outputs": []
    },
    {
      "cell_type": "code",
      "source": [
        "# Try 100 epochs then pull it back to 50\n",
        "    # Training time =  10m (6s per epoch)\n",
        "    # Training acc = 92%\n",
        "\n",
        "# EVALUATION:\n",
        "# ACCURACY = 78.4 [useless]\n",
        "model.evaluate(X_test,Y_test)"
      ],
      "metadata": {
        "id": "lP-3e_yyR3UN"
      },
      "execution_count": null,
      "outputs": []
    },
    {
      "cell_type": "code",
      "source": [
        "# Experiment 8:\n",
        "  # Adding one dropout layer of 0.4\n",
        "    # Training time = (7s per epoch)\n",
        "    # Training acc = 84%\n",
        "\n",
        "# EVALUATION:\n",
        "# ACCURACY = 76%\n",
        "model.evaluate(X_test,Y_test)"
      ],
      "metadata": {
        "id": "n2osaZTLOC7Q"
      },
      "execution_count": null,
      "outputs": []
    },
    {
      "cell_type": "code",
      "source": [
        "# Conclusion: One dropout layer is enough\n",
        "# Removing the last added layer"
      ],
      "metadata": {
        "id": "qZu78E1lYdXR"
      },
      "execution_count": null,
      "outputs": []
    },
    {
      "cell_type": "code",
      "source": [
        "# Experiment 9:\n",
        "  # Big changes: Added 03 Conv2D layers (one in each set)\n",
        "    # Training time = 10m (12s per epoch)\n",
        "    # Training acc = 97%\n",
        "\n",
        "# EVALUATION:\n",
        "# ACCURACY = 82.6%\n",
        "model.evaluate(X_test,Y_test)"
      ],
      "metadata": {
        "id": "hPzsVrUIVni0"
      },
      "execution_count": null,
      "outputs": []
    },
    {
      "cell_type": "markdown",
      "source": [
        "**Another Model**"
      ],
      "metadata": {
        "id": "pSzohO_jZS9B"
      }
    },
    {
      "cell_type": "code",
      "source": [
        "from tensorflow import keras\n",
        "from tensorflow.keras import layers\n",
        "inputs = keras.Input(shape=(32, 32, 3))\n",
        "x = layers.Conv2D(filters=32, kernel_size=3, activation=\"relu\")(inputs)\n",
        "x = layers.BatchNormalization()(x)      # added\n",
        "x = layers.Conv2D(filters=32, kernel_size=3, activation=\"relu\", padding='same')(x)\n",
        "x = layers.BatchNormalization()(x)      # added\n",
        "x = layers.Conv2D(filters=32, kernel_size=3, activation=\"relu\", padding='same')(x)\n",
        "x = layers.BatchNormalization()(x)      # added\n",
        "                                        # removed Max Pooling\n",
        "x = layers.Dropout(0.3)(x)              # added\n",
        "\n",
        "x = layers.Conv2D(filters=64, kernel_size=3, activation=\"relu\", padding='same')(x)\n",
        "x = layers.BatchNormalization()(x)      # added\n",
        "x = layers.Conv2D(filters=64, kernel_size=3, activation=\"relu\", padding='same')(x)\n",
        "x = layers.BatchNormalization()(x)      # added\n",
        "x = layers.Conv2D(filters=64, kernel_size=3, activation=\"relu\", padding='same')(x)\n",
        "x = layers.BatchNormalization()(x)      # added\n",
        "x = layers.MaxPooling2D(pool_size=2)(x)\n",
        "x = layers.Dropout(0.4)(x)              # added\n",
        "\n",
        "x = layers.Conv2D(filters=128, kernel_size=3, activation=\"relu\", padding='same')(x)\n",
        "x = layers.BatchNormalization()(x)      # added\n",
        "x = layers.Conv2D(filters=128, kernel_size=3, activation=\"relu\", padding='same')(x)\n",
        "x = layers.BatchNormalization()(x)      # added\n",
        "x = layers.Conv2D(filters=128, kernel_size=3, activation=\"relu\", padding='same')(x)\n",
        "x = layers.BatchNormalization()(x)      # added\n",
        "x = layers.MaxPooling2D(pool_size=2)(x) # added\n",
        "x = layers.Dropout(0.5)(x)              # added\n",
        "\n",
        "x = layers.Flatten()(x)\n",
        "outputs = layers.Dense(10, activation=\"softmax\")(x)\n",
        "\n",
        "model = keras.Model(inputs=inputs, outputs=outputs)\n",
        "model.summary()"
      ],
      "metadata": {
        "id": "jR21tHNrZPFS"
      },
      "execution_count": null,
      "outputs": []
    },
    {
      "cell_type": "code",
      "source": [
        "# Experiment 10:\n",
        "  # Adding 02 more dropout layer as in the waleed's code\n",
        "    # Training time =  10m (13s per epoch)\n",
        "    # Training acc = 92%\n",
        "\n",
        "# EVALUATION:\n",
        "# ACCURACY = 85.2%\n",
        "model.evaluate(X_test,Y_test)"
      ],
      "metadata": {
        "id": "AGmrIGf4ZPHl"
      },
      "execution_count": null,
      "outputs": []
    },
    {
      "cell_type": "code",
      "source": [
        "# NICE IMPROVEMENT! with 03 dropout layer"
      ],
      "metadata": {
        "id": "5LY8V6ylhuwU"
      },
      "execution_count": null,
      "outputs": []
    },
    {
      "cell_type": "code",
      "source": [
        "# Experiment 11:\n",
        "  # Adding batch normalization layer in between each set of Conv2D layers as in the waleed's code\n",
        "    # Training time = 12m (16s per epoch)\n",
        "    # Training acc = 93\n",
        "\n",
        "# EVALUATION:\n",
        "# ACCURACY = 86.4%\n",
        "model.evaluate(X_test,Y_test)"
      ],
      "metadata": {
        "id": "_-frNdO4VnlL"
      },
      "execution_count": null,
      "outputs": []
    },
    {
      "cell_type": "markdown",
      "source": [
        "**NOTE:**"
      ],
      "metadata": {
        "id": "DqVyPEleqyBo"
      }
    },
    {
      "cell_type": "code",
      "source": [
        "# 1) WARNING:\n",
        "  # Consider type of padding in the first Conv2D layer"
      ],
      "metadata": {
        "id": "PanHLEFLiXDR"
      },
      "execution_count": null,
      "outputs": []
    },
    {
      "cell_type": "code",
      "source": [
        "# 2) CONSIDER:\n",
        "  # Batch_size"
      ],
      "metadata": {
        "id": "db4p3p_Cg_nS"
      },
      "execution_count": null,
      "outputs": []
    },
    {
      "cell_type": "code",
      "source": [
        "# Now compare the no. of CNN nodes with your MNIST or CatsDogs code\n",
        "  # We can add a dense layer of our choice ----- done\n",
        "  # We will change the last Conv2D layer nodes to 256 ----- done\n",
        "  # Then we will add one, one Conv2D layer in each set ----- done"
      ],
      "metadata": {
        "id": "PlZU0Q-pqI0n"
      },
      "execution_count": null,
      "outputs": []
    },
    {
      "cell_type": "code",
      "source": [
        "# Last work: Play with wrong predicitons"
      ],
      "metadata": {
        "id": "3QHffkUgqJWn"
      },
      "execution_count": null,
      "outputs": []
    },
    {
      "cell_type": "code",
      "source": [
        "# Experiment 12:\n",
        "  # Changed the last Conv2D layer nodes to 256\n",
        "    # Training time = 13m (16s per epoch)\n",
        "    # Training acc = 93\n",
        "    # Conclusion: By seeing the graph, I think we can improve acc by giving more epochs \n",
        "\n",
        "# EVALUATION:\n",
        "# ACCURACY = 84.0% [lower]\n",
        "model.evaluate(X_test,Y_test)"
      ],
      "metadata": {
        "id": "crdxmTAUqJY1"
      },
      "execution_count": null,
      "outputs": []
    },
    {
      "cell_type": "code",
      "source": [
        "# Experiment 13:\n",
        "  # Continuation of Exp 11\n",
        "  # Adding one, one, Conv2D layer in each set\n",
        "    # Training time = 19m (21s per epoch)\n",
        "    # Training acc = 96\n",
        "    # Conclusion: Maybe more epochs would be better\n",
        "\n",
        "# EVALUATION:\n",
        "# ACCURACY = 85.7% [lower]\n",
        "model.evaluate(X_test,Y_test)"
      ],
      "metadata": {
        "id": "3rkzfKyhwAJe"
      },
      "execution_count": null,
      "outputs": []
    },
    {
      "cell_type": "code",
      "source": [
        "# Experiment 14:\n",
        "  # Continuation of Exp 13\n",
        "  # Adding dense layer of 128 after flatten\n",
        "    # Training time = 19m (21s per epoch)\n",
        "    # Training acc = 95\n",
        "\n",
        "# EVALUATION:\n",
        "# ACCURACY = 88.4%\n",
        "model.evaluate(X_test,Y_test)"
      ],
      "metadata": {
        "colab": {
          "base_uri": "https://localhost:8080/"
        },
        "id": "kUmUMlSC1b0C",
        "outputId": "80e0f7ff-0357-403a-d14d-5835c3bc757c"
      },
      "execution_count": null,
      "outputs": [
        {
          "output_type": "stream",
          "name": "stdout",
          "text": [
            "313/313 [==============================] - 2s 6ms/step - loss: 0.4241 - accuracy: 0.8839\n"
          ]
        },
        {
          "output_type": "execute_result",
          "data": {
            "text/plain": [
              "[0.424057275056839, 0.883899986743927]"
            ]
          },
          "metadata": {},
          "execution_count": 19
        }
      ]
    },
    {
      "cell_type": "markdown",
      "source": [
        "#### **THE BEST MODEL**"
      ],
      "metadata": {
        "id": "m0G0HNQnPge9"
      }
    },
    {
      "cell_type": "code",
      "source": [
        "from tensorflow import keras\n",
        "from tensorflow.keras import layers\n",
        "inputs = keras.Input(shape=(32, 32, 3))\n",
        "x = layers.Conv2D(filters=32, kernel_size=3, activation=\"relu\")(inputs)\n",
        "x = layers.BatchNormalization()(x)      \n",
        "x = layers.Conv2D(filters=32, kernel_size=3, activation=\"relu\", padding='same')(x)\n",
        "x = layers.BatchNormalization()(x)      \n",
        "  # removed MaxPooling                                        \n",
        "x = layers.Dropout(0.2)(x)             \n",
        "\n",
        "x = layers.Conv2D(filters=64, kernel_size=3, activation=\"relu\", padding='same')(x)\n",
        "x = layers.BatchNormalization()(x)      \n",
        "x = layers.Conv2D(filters=64, kernel_size=3, activation=\"relu\", padding='same')(x)\n",
        "x = layers.BatchNormalization()(x)      \n",
        "x = layers.MaxPooling2D(pool_size=2)(x)\n",
        "x = layers.Dropout(0.3)(x)         \n",
        "\n",
        "x = layers.Conv2D(filters=128, kernel_size=3, activation=\"relu\", padding='same')(x)\n",
        "x = layers.BatchNormalization()(x)   \n",
        "x = layers.Conv2D(filters=128, kernel_size=3, activation=\"relu\", padding='same')(x)\n",
        "x = layers.BatchNormalization()(x)   \n",
        "x = layers.MaxPooling2D(pool_size=2)(x)\n",
        "x = layers.Dropout(0.4)(x)\n",
        "\n",
        "x = layers.Conv2D(filters=256, kernel_size=3, activation=\"relu\", padding='same')(x)\n",
        "x = layers.BatchNormalization()(x)   \n",
        "x = layers.Conv2D(filters=256, kernel_size=3, activation=\"relu\", padding='same')(x)\n",
        "x = layers.BatchNormalization()(x)   \n",
        "x = layers.MaxPooling2D(pool_size=2)(x)\n",
        "x = layers.Dropout(0.5)(x)     \n",
        "\n",
        "x = layers.Flatten()(x)\n",
        "x = layers.Dense(128, activation='relu')(x)\n",
        "x = layers.BatchNormalization()(x)\n",
        "x = layers.Dropout(0.5)(x)              # added\n",
        "outputs = layers.Dense(10, activation=\"softmax\")(x)\n",
        "\n",
        "model = keras.Model(inputs=inputs, outputs=outputs)\n",
        "model.summary()"
      ],
      "metadata": {
        "id": "92xdZKuW2S5-"
      },
      "execution_count": null,
      "outputs": []
    },
    {
      "cell_type": "code",
      "source": [
        "# Experiment 15:\n",
        "  # Continuation of Exp 14\n",
        "  # Set two Conv2D layers in each set\n",
        "    # Training time = 12m (15s per epoch)\n",
        "    # Training acc = 92\n",
        "\n",
        "# EVALUATION:\n",
        "# ACCURACY = 86.5%\n",
        "model.evaluate(X_test,Y_test)"
      ],
      "metadata": {
        "id": "FcE9CcH8e6Zu"
      },
      "execution_count": null,
      "outputs": []
    },
    {
      "cell_type": "code",
      "source": [
        "# Experiment 16:\n",
        "  # Continuation of Exp 15\n",
        "  # Add a set of 256 Conv2D\n",
        "    # Training time =  (17s per epoch)\n",
        "    # Training acc = 97\n",
        "    # OBSERVATION: Final dimensions after CNN operation is 3 by 3.\n",
        "\n",
        "# EVALUATION:\n",
        "# ACCURACY = 89.2% [best]\n",
        "model.evaluate(X_test,Y_test)"
      ],
      "metadata": {
        "colab": {
          "base_uri": "https://localhost:8080/"
        },
        "id": "48GQSqq5jD81",
        "outputId": "5e7b3de7-2dfa-4ce4-832e-cb84a7817d62"
      },
      "execution_count": null,
      "outputs": [
        {
          "output_type": "stream",
          "name": "stdout",
          "text": [
            "313/313 [==============================] - 2s 5ms/step - loss: 0.4285 - accuracy: 0.8918\n"
          ]
        },
        {
          "output_type": "execute_result",
          "data": {
            "text/plain": [
              "[0.42845094203948975, 0.8917999863624573]"
            ]
          },
          "metadata": {},
          "execution_count": 14
        }
      ]
    },
    {
      "cell_type": "markdown",
      "source": [
        "Congratulations! You beat the record"
      ],
      "metadata": {
        "id": "Zc0TqOQJoaO3"
      }
    },
    {
      "cell_type": "code",
      "source": [
        "# Lets try 70 epochs with batch_size = 128\n",
        "    # Training time = 18m (15s per epoch)\n",
        "    # Training acc = 97\n",
        "\n",
        "# EVALUATION:\n",
        "# ACCURACY = 88%\n",
        "model.evaluate(X_test,Y_test)"
      ],
      "metadata": {
        "id": "j0pdOVurosFf"
      },
      "execution_count": null,
      "outputs": []
    },
    {
      "cell_type": "code",
      "source": [
        "# Experiment 17:\n",
        "  # Continuation of Exp 16\n",
        "  # Adding one more dense layer of 256 nodes above 128's.\n",
        "  # Pull Epochs back to 50, batch_size = 128\n",
        "    # Training time = 13m (15s per epoch)\n",
        "    # Training acc = 97\n",
        "\n",
        "# EVALUATION:\n",
        "# ACCURACY = 88.8%\n",
        "model.evaluate(X_test,Y_test)"
      ],
      "metadata": {
        "id": "2E0tDOS8t3aZ"
      },
      "execution_count": null,
      "outputs": []
    },
    {
      "cell_type": "code",
      "source": [
        "# Lets try batch_size = 64\n",
        "    # Training time = (17s per epoch)\n",
        "    # Training acc = 97\n",
        "\n",
        "# EVALUATION:\n",
        "# ACCURACY = 88.6%\n",
        "model.evaluate(X_test,Y_test)"
      ],
      "metadata": {
        "id": "ESz0InJqvmPG"
      },
      "execution_count": null,
      "outputs": []
    },
    {
      "cell_type": "code",
      "source": [
        "# Experiment 18:\n",
        "  # Delete 256 dense layer. Batch_size = 64, set same padding for the first CNN layer.\n",
        "  # Now you have only one hidden dense layer of 128. \n",
        "\n",
        "# EVALUATION:\n",
        "# ACCURACY = 89.07%\n",
        "model.evaluate(X_test,Y_test)"
      ],
      "metadata": {
        "colab": {
          "base_uri": "https://localhost:8080/"
        },
        "id": "eK5F-sFI6iK8",
        "outputId": "29e3270e-8217-472d-a293-ee7591704307"
      },
      "execution_count": null,
      "outputs": [
        {
          "output_type": "stream",
          "name": "stdout",
          "text": [
            "313/313 [==============================] - 2s 6ms/step - loss: 0.4348 - accuracy: 0.8907\n"
          ]
        },
        {
          "output_type": "execute_result",
          "data": {
            "text/plain": [
              "[0.43483662605285645, 0.8906999826431274]"
            ]
          },
          "metadata": {},
          "execution_count": 42
        }
      ]
    },
    {
      "cell_type": "code",
      "source": [
        "# Conclusion:\n",
        "  # No use of same padding in the first layer"
      ],
      "metadata": {
        "id": "M8lw5l5oBXGi"
      },
      "execution_count": null,
      "outputs": []
    },
    {
      "cell_type": "code",
      "source": [
        "# THE BEST MODEL:\n",
        "  # Remove the same padding in the first layer\n",
        "  # Epoch = 70\n",
        "    # Training time = 20m (17s per epoch)\n",
        "    # Training acc = 97\n",
        "\n",
        "# EVALUATION:\n",
        "# ACCURACY = 89.3%\n",
        "model.evaluate(X_test,Y_test)"
      ],
      "metadata": {
        "colab": {
          "base_uri": "https://localhost:8080/"
        },
        "id": "kV-hduaeBmtN",
        "outputId": "a2fee3b5-19c9-4c3f-d9d3-23a7d53fac3c"
      },
      "execution_count": null,
      "outputs": [
        {
          "output_type": "stream",
          "name": "stdout",
          "text": [
            "313/313 [==============================] - 2s 5ms/step - loss: 0.4492 - accuracy: 0.8926\n"
          ]
        },
        {
          "output_type": "execute_result",
          "data": {
            "text/plain": [
              "[0.449187695980072, 0.8925999999046326]"
            ]
          },
          "metadata": {},
          "execution_count": 47
        }
      ]
    },
    {
      "cell_type": "code",
      "source": [
        "# NOTE: You can also try 50 epochs\n",
        "# 50 epochs will probably give an accuracy 89.2%"
      ],
      "metadata": {
        "id": "2lNw2hRmPrrm"
      },
      "execution_count": null,
      "outputs": []
    },
    {
      "cell_type": "markdown",
      "source": [
        "**THE END**"
      ],
      "metadata": {
        "id": "JFBQPfsd3fz0"
      }
    },
    {
      "cell_type": "code",
      "source": [
        "# Refer experiment-notebook in which we PLAYED WITH WRONG PREDICTIONS"
      ],
      "metadata": {
        "id": "ewvxVwKH2S-q"
      },
      "execution_count": null,
      "outputs": []
    }
  ]
}