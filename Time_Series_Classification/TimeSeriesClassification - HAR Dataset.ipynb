{
 "cells": [
  {
   "cell_type": "markdown",
   "id": "866b9407",
   "metadata": {},
   "source": [
    "#### Practice by Saad Asghar Ali"
   ]
  },
  {
   "cell_type": "markdown",
   "id": "209a86d8",
   "metadata": {},
   "source": [
    "Credits: Indiantechwarrior"
   ]
  },
  {
   "cell_type": "code",
   "execution_count": 1,
   "id": "6c398beb",
   "metadata": {},
   "outputs": [],
   "source": [
    "# !wget https://archive.ics.uci.edu/ml/machine-learning-databases/00240/UCI%20HAR%20Dataset.zip"
   ]
  },
  {
   "cell_type": "code",
   "execution_count": 2,
   "id": "d34a2bcd",
   "metadata": {},
   "outputs": [],
   "source": [
    "# cnn model\n",
    "from numpy import mean\n",
    "from numpy import std\n",
    "from numpy import dstack\n",
    "from pandas import read_csv\n",
    "from matplotlib import pyplot\n",
    "from tensorflow.keras.models import Sequential\n",
    "from tensorflow.keras.layers import Dense\n",
    "from tensorflow.keras.layers import Flatten\n",
    "from tensorflow.keras.layers import Dropout\n",
    "from tensorflow.keras.layers import Conv1D\n",
    "from tensorflow.keras.layers import MaxPool1D\n",
    "from tensorflow.keras.utils import to_categorical"
   ]
  },
  {
   "cell_type": "code",
   "execution_count": 3,
   "id": "9304f84e",
   "metadata": {},
   "outputs": [],
   "source": [
    "# load a single file as a numpy array\n",
    "def load_file(filepath):\n",
    "\tdataframe = read_csv(filepath, header=None, delim_whitespace=True)\n",
    "\treturn dataframe.values\n",
    "\n",
    "# load a list of files and return as a 3d numpy array\n",
    "def load_group(filenames, prefix=''):\n",
    "\tloaded = list()\n",
    "\tfor name in filenames:\n",
    "\t\tdata = load_file(prefix + name)\n",
    "\t\tloaded.append(data)\n",
    "\t# stack group so that features are the 3rd dimension\n",
    "\tloaded = dstack(loaded)\n",
    "\treturn loaded"
   ]
  },
  {
   "cell_type": "code",
   "execution_count": 4,
   "id": "240a13f4",
   "metadata": {},
   "outputs": [],
   "source": [
    "# load a dataset group, such as train or test\n",
    "def load_dataset_group(group, prefix=''):\n",
    "\tfilepath = prefix + group + '/Inertial Signals/'\n",
    "\t# load all 9 files as a single array\n",
    "\tfilenames = list()\n",
    "\t# total acceleration\n",
    "\tfilenames += ['total_acc_x_'+group+'.txt', 'total_acc_y_'+group+'.txt', 'total_acc_z_'+group+'.txt']\n",
    "\t# body acceleration\n",
    "\tfilenames += ['body_acc_x_'+group+'.txt', 'body_acc_y_'+group+'.txt', 'body_acc_z_'+group+'.txt']\n",
    "\t# body gyroscope\n",
    "\tfilenames += ['body_gyro_x_'+group+'.txt', 'body_gyro_y_'+group+'.txt', 'body_gyro_z_'+group+'.txt']\n",
    "\t# load input data\n",
    "\tX = load_group(filenames, filepath)\n",
    "\t# load class output\n",
    "\ty = load_file(prefix + group + '/y_'+group+'.txt') # to pull y_train and y_test.txt\n",
    "\treturn X, y\n",
    "\n",
    "# load the dataset, returns train and test X and y elements\n",
    "def load_dataset(prefix=''):\n",
    "\t# load all train\n",
    "\ttrainX, trainy = load_dataset_group('train', prefix + 'C:/Users/MST/Documents/SAAD ASGHAR ALI/WORK/Work - Fiverr/saurabh/DATA SET/UCI HAR/UCI HAR Dataset/UCI HAR Dataset/')\n",
    "\tprint('Shape of trainX and trainY:\\n', trainX.shape, trainy.shape)\n",
    "\t#print(trainy[:20],trainy[-20:]) # line by me # = 5,2\n",
    "\t# load all test\n",
    "\ttestX, testy = load_dataset_group('test', prefix + 'C:/Users/MST/Documents/SAAD ASGHAR ALI/WORK/Work - Fiverr/saurabh/DATA SET/UCI HAR/UCI HAR Dataset/UCI HAR Dataset/')\n",
    "\tprint('Shape of testX and testY:\\n', testX.shape, testy.shape)\n",
    "\t# zero-offset class values\n",
    "\ttrainy = trainy - 1\n",
    "\ttesty = testy - 1\n",
    "\t# one hot encode y\n",
    "\ttrainy = to_categorical(trainy)\n",
    "\ttesty = to_categorical(testy)\n",
    "\tprint('doing zero-offset and onehotencod on Y')\n",
    "\tprint('Final Shape of train and test:\\n', trainX.shape, trainy.shape, testX.shape, testy.shape)\n",
    "\treturn trainX, trainy, testX, testy"
   ]
  },
  {
   "cell_type": "code",
   "execution_count": 5,
   "id": "c3bfb378",
   "metadata": {},
   "outputs": [
    {
     "name": "stdout",
     "output_type": "stream",
     "text": [
      "Shape of trainX and trainY:\n",
      " (7352, 128, 9) (7352, 1)\n",
      "Shape of testX and testY:\n",
      " (2947, 128, 9) (2947, 1)\n",
      "doing zero-offset and onehotencod on Y\n",
      "Final Shape of train and test:\n",
      " (7352, 128, 9) (7352, 6) (2947, 128, 9) (2947, 6)\n"
     ]
    }
   ],
   "source": [
    "# load data\n",
    "trainX, trainy, testX, testy = load_dataset()"
   ]
  },
  {
   "cell_type": "code",
   "execution_count": 6,
   "id": "cf307b56",
   "metadata": {},
   "outputs": [
    {
     "data": {
      "text/plain": [
       "array([0., 0., 0., 0., 1., 0.], dtype=float32)"
      ]
     },
     "execution_count": 6,
     "metadata": {},
     "output_type": "execute_result"
    }
   ],
   "source": [
    "# dtype of X data is float64, Y data is float32\n",
    "# Type of all the data is numpy.ndarray\n",
    "#trainX[0].shape # =(128,9)\n",
    "# print(trainX[0][0].round(2))\n",
    "import numpy as np\n",
    "#np.amax(trainX) # =5.75  #np.amin(trainX) # =-5.97  #np.mean(trainX) # =0.1\n",
    "#np.amax(testX) # =3.47   # np.amin(testX) # =-3.43   # np.mean(testX) # =0.1\n",
    "trainy[0]"
   ]
  },
  {
   "cell_type": "code",
   "execution_count": 7,
   "id": "dc70570c",
   "metadata": {},
   "outputs": [
    {
     "name": "stdout",
     "output_type": "stream",
     "text": [
      "128 9 6\n"
     ]
    }
   ],
   "source": [
    "n_timesteps, n_features, n_outputs = trainX.shape[1], trainX.shape[2], trainy.shape[1]\n",
    "print(n_timesteps, n_features, n_outputs)"
   ]
  },
  {
   "cell_type": "code",
   "execution_count": 8,
   "id": "ce247a70",
   "metadata": {},
   "outputs": [],
   "source": [
    "# fit and evaluate a model\n",
    "def evaluate_model(trainX, trainy, testX, testy):\n",
    "\tverbose, epochs, batch_size = 0, 10, 32\n",
    "\tn_timesteps, n_features, n_outputs = trainX.shape[1], trainX.shape[2], trainy.shape[1]\n",
    "\tmodel = Sequential()\n",
    "\tmodel.add(Conv1D(filters=64, kernel_size=3, activation='relu', input_shape=(n_timesteps,n_features)))\n",
    "\tmodel.add(Conv1D(filters=64, kernel_size=3, activation='relu'))\n",
    "\tmodel.add(Dropout(0.5))\n",
    "\tmodel.add(MaxPool1D(pool_size=2))\n",
    "\tmodel.add(Flatten())\n",
    "\tmodel.add(Dense(100, activation='relu'))\n",
    "\tmodel.add(Dense(n_outputs, activation='softmax'))\n",
    "\tmodel.compile(loss='categorical_crossentropy', optimizer='adam', metrics=['accuracy'])\n",
    "\t# fit network\n",
    "\tmodel.fit(trainX, trainy, epochs=epochs, batch_size=batch_size, verbose=verbose)\n",
    "\t# evaluate model\n",
    "\t_, accuracy = model.evaluate(testX, testy, batch_size=batch_size, verbose=0)\n",
    "\treturn accuracy"
   ]
  },
  {
   "cell_type": "code",
   "execution_count": 10,
   "id": "5087a395",
   "metadata": {},
   "outputs": [
    {
     "name": "stdout",
     "output_type": "stream",
     "text": [
      "Shape of trainX and trainY:\n",
      " (7352, 128, 9) (7352, 1)\n",
      "Shape of testX and testY:\n",
      " (2947, 128, 9) (2947, 1)\n",
      "doing zero-offset and onehotencod on Y\n",
      "Final Shape of train and test:\n",
      " (7352, 128, 9) (7352, 6) (2947, 128, 9) (2947, 6)\n",
      ">#1: 91.449\n",
      ">#2: 92.535\n",
      ">#3: 90.058\n",
      "[91.44893288612366, 92.53478050231934, 90.05768299102783]\n",
      "Accuracy: 91.347% (+/-1.014)\n"
     ]
    }
   ],
   "source": [
    "# summarize scores\n",
    "def summarize_results(scores):\n",
    "\tprint(scores)\n",
    "\tm, s = mean(scores), std(scores)\n",
    "\tprint('Accuracy: %.3f%% (+/-%.3f)' % (m, s))\n",
    "\n",
    "# run an experiment\n",
    "def run_experiment(repeats=3):\n",
    "\t# load data\n",
    "\ttrainX, trainy, testX, testy = load_dataset()\n",
    "\t# repeat experiment\n",
    "\tscores = list()\n",
    "\tfor r in range(repeats):\n",
    "\t\tscore = evaluate_model(trainX, trainy, testX, testy)\n",
    "\t\tscore = score * 100.0\n",
    "\t\tprint('>#%d: %.3f' % (r+1, score))\n",
    "\t\tscores.append(score)\n",
    "\t# summarize results\n",
    "\tsummarize_results(scores)\n",
    "\n",
    "# run the experiment\n",
    "run_experiment()"
   ]
  },
  {
   "cell_type": "markdown",
   "id": "f2c509e1",
   "metadata": {},
   "source": [
    "##### NICE ACCURACY OF 91.3%"
   ]
  },
  {
   "cell_type": "code",
   "execution_count": null,
   "id": "ba94689f",
   "metadata": {},
   "outputs": [],
   "source": [
    "# Problem: Low visibility of the output\n",
    "# Solution: I just solved this problem by installing gast:\n",
    "#pip install --user gast==0.2.2"
   ]
  },
  {
   "cell_type": "markdown",
   "id": "05e7e980",
   "metadata": {},
   "source": [
    "#### CONGRATULATIONS!\n",
    "##### Practice done"
   ]
  }
 ],
 "metadata": {
  "kernelspec": {
   "display_name": "Python 3",
   "language": "python",
   "name": "python3"
  },
  "language_info": {
   "codemirror_mode": {
    "name": "ipython",
    "version": 3
   },
   "file_extension": ".py",
   "mimetype": "text/x-python",
   "name": "python",
   "nbconvert_exporter": "python",
   "pygments_lexer": "ipython3",
   "version": "3.7.7"
  }
 },
 "nbformat": 4,
 "nbformat_minor": 5
}
