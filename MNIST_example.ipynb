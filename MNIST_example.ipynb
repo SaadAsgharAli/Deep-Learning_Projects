{
  "nbformat": 4,
  "nbformat_minor": 0,
  "metadata": {
    "colab": {
      "name": "MNIST_example.ipynb",
      "provenance": [],
      "collapsed_sections": []
    },
    "kernelspec": {
      "name": "python3",
      "display_name": "Python 3"
    }
  },
  "cells": [
    {
      "cell_type": "code",
      "metadata": {
        "id": "VQrpMvk2u1K2",
        "colab_type": "code",
        "colab": {}
      },
      "source": [
        "# MNIST dataset contains grayscale images of handwritten digits\n",
        "# MNIST is the hello world of deep learning\n",
        "\n",
        "# Total images: 70,000\n",
        "  # Training: 60,000\n",
        "  # Test: 10,000"
      ],
      "execution_count": 0,
      "outputs": []
    },
    {
      "cell_type": "code",
      "metadata": {
        "id": "0I6Zvyy_wWhD",
        "colab_type": "code",
        "outputId": "ac41811f-0bab-44f3-b19f-8f3cf2dd65cc",
        "colab": {
          "base_uri": "https://localhost:8080/",
          "height": 83
        }
      },
      "source": [
        "import tensorflow as tf\n",
        "print(tf.__version__)"
      ],
      "execution_count": 0,
      "outputs": [
        {
          "output_type": "display_data",
          "data": {
            "text/html": [
              "<p style=\"color: red;\">\n",
              "The default version of TensorFlow in Colab will soon switch to TensorFlow 2.x.<br>\n",
              "We recommend you <a href=\"https://www.tensorflow.org/guide/migrate\" target=\"_blank\">upgrade</a> now \n",
              "or ensure your notebook will continue to use TensorFlow 1.x via the <code>%tensorflow_version 1.x</code> magic:\n",
              "<a href=\"https://colab.research.google.com/notebooks/tensorflow_version.ipynb\" target=\"_blank\">more info</a>.</p>\n"
            ],
            "text/plain": [
              "<IPython.core.display.HTML object>"
            ]
          },
          "metadata": {
            "tags": []
          }
        },
        {
          "output_type": "stream",
          "text": [
            "1.15.0\n"
          ],
          "name": "stdout"
        }
      ]
    },
    {
      "cell_type": "code",
      "metadata": {
        "id": "-gP43X6UwmBz",
        "colab_type": "code",
        "colab": {}
      },
      "source": [
        "!pip install --upgrade tensorflow"
      ],
      "execution_count": 0,
      "outputs": []
    },
    {
      "cell_type": "code",
      "metadata": {
        "id": "wzW2mHdAxYmz",
        "colab_type": "code",
        "colab": {}
      },
      "source": [
        "# Upgradation done!"
      ],
      "execution_count": 0,
      "outputs": []
    },
    {
      "cell_type": "code",
      "metadata": {
        "id": "H0WBo95kxiSJ",
        "colab_type": "code",
        "outputId": "b0d19f0c-6ac5-47de-e5d8-458442d7fce3",
        "colab": {
          "base_uri": "https://localhost:8080/",
          "height": 35
        }
      },
      "source": [
        "import tensorflow as tf\n",
        "print(tf.__version__)"
      ],
      "execution_count": 111,
      "outputs": [
        {
          "output_type": "stream",
          "text": [
            "2.1.0\n"
          ],
          "name": "stdout"
        }
      ]
    },
    {
      "cell_type": "markdown",
      "metadata": {
        "id": "0vQ1PAYE7l4t",
        "colab_type": "text"
      },
      "source": [
        "### **1-** **Loading the dataset**"
      ]
    },
    {
      "cell_type": "code",
      "metadata": {
        "id": "Y2p4R0fQxq_o",
        "colab_type": "code",
        "colab": {
          "base_uri": "https://localhost:8080/",
          "height": 53
        },
        "outputId": "e3303695-bb72-4741-d4ba-fc3d08f2309a"
      },
      "source": [
        "from tensorflow.keras.datasets import mnist\n",
        "(train_images, train_labels), (test_images, test_labels) = mnist.load_data()"
      ],
      "execution_count": 2,
      "outputs": [
        {
          "output_type": "stream",
          "text": [
            "Downloading data from https://storage.googleapis.com/tensorflow/tf-keras-datasets/mnist.npz\n",
            "11493376/11490434 [==============================] - 0s 0us/step\n"
          ],
          "name": "stdout"
        }
      ]
    },
    {
      "cell_type": "code",
      "metadata": {
        "id": "CqyqqD8Y0d4Y",
        "colab_type": "code",
        "outputId": "f6dffb72-fcf3-424d-b4af-03b2dedfeca7",
        "colab": {
          "base_uri": "https://localhost:8080/",
          "height": 35
        }
      },
      "source": [
        "train_images.shape"
      ],
      "execution_count": 0,
      "outputs": [
        {
          "output_type": "execute_result",
          "data": {
            "text/plain": [
              "(60000, 28, 28)"
            ]
          },
          "metadata": {
            "tags": []
          },
          "execution_count": 4
        }
      ]
    },
    {
      "cell_type": "code",
      "metadata": {
        "id": "dqhtDmk-4HAS",
        "colab_type": "code",
        "outputId": "00017648-80ea-441f-a00c-7492584bd209",
        "colab": {
          "base_uri": "https://localhost:8080/",
          "height": 35
        }
      },
      "source": [
        "test_images.shape"
      ],
      "execution_count": 0,
      "outputs": [
        {
          "output_type": "execute_result",
          "data": {
            "text/plain": [
              "(10000, 28, 28)"
            ]
          },
          "metadata": {
            "tags": []
          },
          "execution_count": 19
        }
      ]
    },
    {
      "cell_type": "code",
      "metadata": {
        "id": "vjGSK_T71O7J",
        "colab_type": "code",
        "outputId": "89f06cce-6a1e-4069-b97b-58b54ef0fa53",
        "colab": {
          "base_uri": "https://localhost:8080/",
          "height": 72
        }
      },
      "source": [
        "train_images[0]\n",
        "print('ndim:',train_images[0].ndim)\n",
        "print('shape of the first training image:', train_images[0].shape)\n",
        "print('max value:',train_images[0].max())"
      ],
      "execution_count": 0,
      "outputs": [
        {
          "output_type": "stream",
          "text": [
            "ndim: 2\n",
            "shape of the first training image: (28, 28)\n",
            "max value: 255\n"
          ],
          "name": "stdout"
        }
      ]
    },
    {
      "cell_type": "code",
      "metadata": {
        "id": "e-YIxzi410S9",
        "colab_type": "code",
        "outputId": "aac3efd0-b970-4f34-b5a7-5915fb1c1c06",
        "colab": {
          "base_uri": "https://localhost:8080/",
          "height": 53
        }
      },
      "source": [
        "print('ndim:',test_images[0].ndim)\n",
        "print('shape of the first test image:', test_images[0].shape)"
      ],
      "execution_count": 0,
      "outputs": [
        {
          "output_type": "stream",
          "text": [
            "ndim: 2\n",
            "shape of the first test image: (28, 28)\n"
          ],
          "name": "stdout"
        }
      ]
    },
    {
      "cell_type": "code",
      "metadata": {
        "id": "IxMCHkB610zN",
        "colab_type": "code",
        "outputId": "74ff81e2-8f61-4467-ec6c-4efd4dadd666",
        "colab": {
          "base_uri": "https://localhost:8080/",
          "height": 108
        }
      },
      "source": [
        "print('About train_labels: \\nsize:', train_labels.size)\n",
        "print('ndim:',train_labels.ndim)\n",
        "train_labels[0:20]"
      ],
      "execution_count": 0,
      "outputs": [
        {
          "output_type": "stream",
          "text": [
            "About train_labels: \n",
            "size: 60000\n",
            "ndim: 1\n"
          ],
          "name": "stdout"
        },
        {
          "output_type": "execute_result",
          "data": {
            "text/plain": [
              "array([5, 0, 4, 1, 9, 2, 1, 3, 1, 4, 3, 5, 3, 6, 1, 7, 2, 8, 6, 9],\n",
              "      dtype=uint8)"
            ]
          },
          "metadata": {
            "tags": []
          },
          "execution_count": 42
        }
      ]
    },
    {
      "cell_type": "markdown",
      "metadata": {
        "id": "jaXtM3iu8G7F",
        "colab_type": "text"
      },
      "source": [
        "### **2- Network Architecture**"
      ]
    },
    {
      "cell_type": "code",
      "metadata": {
        "id": "fciZymlt101h",
        "colab_type": "code",
        "colab": {}
      },
      "source": [
        "# Now we will import models and layers from tensorflow.keras\n",
        "# There are two types of models: Sequential & Functional API\n",
        "# Dense layer or Fully connected layer: A layer in which each neuron is connected with all the previous neurons"
      ],
      "execution_count": 0,
      "outputs": []
    },
    {
      "cell_type": "code",
      "metadata": {
        "id": "gNQVDDaGANEz",
        "colab_type": "code",
        "colab": {}
      },
      "source": [
        "from tensorflow.keras import models\n",
        "from tensorflow.keras import layers\n",
        "my_network = models.Sequential()\n",
        "my_network.add(layers.Dense(512, activation = 'relu', input_shape=(28*28,)))\n",
        "my_network.add(layers.Dense(10, activation = 'softmax'))"
      ],
      "execution_count": 0,
      "outputs": []
    },
    {
      "cell_type": "code",
      "metadata": {
        "id": "cHTHdxMHByVu",
        "colab_type": "code",
        "colab": {}
      },
      "source": [
        "# Activation function converts linearity to non-linearity\n",
        "# The activation function of LAST layer depends upon the problem type\n",
        "  # We are using softmax here (in the last layer mnist model)\n",
        "    # Softmax returns the probability value against each output "
      ],
      "execution_count": 0,
      "outputs": []
    },
    {
      "cell_type": "markdown",
      "metadata": {
        "id": "otqsOx6OiDq7",
        "colab_type": "text"
      },
      "source": [
        ""
      ]
    },
    {
      "cell_type": "markdown",
      "metadata": {
        "colab_type": "text",
        "id": "z9ZYWWo2iEBu"
      },
      "source": [
        "### **3- The Compilation Step**"
      ]
    },
    {
      "cell_type": "code",
      "metadata": {
        "id": "v8-iD-8BDQK_",
        "colab_type": "code",
        "colab": {}
      },
      "source": [
        "my_network.compile(optimizer = 'rmsprop',\n",
        "                   loss = 'categorical_crossentropy',\n",
        "                   metrics = ['accuracy'])"
      ],
      "execution_count": 0,
      "outputs": []
    },
    {
      "cell_type": "code",
      "metadata": {
        "id": "U9uyP_yjFl5L",
        "colab_type": "code",
        "colab": {}
      },
      "source": [
        "# rmsprop is a gradient descent optimizer\n",
        "# categorical_crossentropy: This loss function is used for classification problem"
      ],
      "execution_count": 0,
      "outputs": []
    },
    {
      "cell_type": "markdown",
      "metadata": {
        "id": "m1Gs2RhoiP6p",
        "colab_type": "text"
      },
      "source": [
        ""
      ]
    },
    {
      "cell_type": "markdown",
      "metadata": {
        "colab_type": "text",
        "id": "VABwhbC2iQS-"
      },
      "source": [
        "#### **4- Preparing the image data**"
      ]
    },
    {
      "cell_type": "code",
      "metadata": {
        "id": "4E39c613K1JO",
        "colab_type": "code",
        "colab": {}
      },
      "source": [
        "# Preparing the image data:\n",
        "train_images = train_images.reshape((60000,28*28))   # converting 3d to 2d\n",
        "train_images = train_images.astype('float32') / 255\n",
        "\n",
        "test_images = test_images.reshape((10000,28*28))\n",
        "test_images = test_images.astype('float32') / 255"
      ],
      "execution_count": 0,
      "outputs": []
    },
    {
      "cell_type": "code",
      "metadata": {
        "id": "QzyTGGgIK1MV",
        "colab_type": "code",
        "outputId": "915fe48a-08a0-41ca-9eae-970129b912ca",
        "colab": {
          "base_uri": "https://localhost:8080/",
          "height": 53
        }
      },
      "source": [
        "print('ndim of whole test_images: ', train_images.ndim)\n",
        "print('  it was \\'3\\' before')"
      ],
      "execution_count": 0,
      "outputs": [
        {
          "output_type": "stream",
          "text": [
            "ndim of whole test_images:  2\n",
            "  it was '3' before\n"
          ],
          "name": "stdout"
        }
      ]
    },
    {
      "cell_type": "code",
      "metadata": {
        "id": "l58MOckdK1Gn",
        "colab_type": "code",
        "outputId": "95bd09c8-0673-4049-a521-4f6e0e4ee9b2",
        "colab": {
          "base_uri": "https://localhost:8080/",
          "height": 35
        }
      },
      "source": [
        "(train_images[0])\n",
        "print(train_images[0].max())"
      ],
      "execution_count": 0,
      "outputs": [
        {
          "output_type": "stream",
          "text": [
            "1.0\n"
          ],
          "name": "stdout"
        }
      ]
    },
    {
      "cell_type": "markdown",
      "metadata": {
        "colab_type": "text",
        "id": "eDtNJahXisCC"
      },
      "source": [
        "#### **5- Preparing the labels**"
      ]
    },
    {
      "cell_type": "code",
      "metadata": {
        "id": "W_rZlAQzglfl",
        "colab_type": "code",
        "colab": {}
      },
      "source": [
        "from tensorflow.keras.utils import to_categorical\n",
        "train_labels = to_categorical(train_labels)\n",
        "test_labels = to_categorical(test_labels)"
      ],
      "execution_count": 0,
      "outputs": []
    },
    {
      "cell_type": "code",
      "metadata": {
        "id": "Zlz4Nvi8jk2g",
        "colab_type": "code",
        "outputId": "df87301b-6a2c-462c-e9c8-b6b33affa34f",
        "colab": {
          "base_uri": "https://localhost:8080/",
          "height": 72
        }
      },
      "source": [
        "print(train_labels[0])\n",
        "print(train_labels[0].max())\n",
        "train_labels.shape"
      ],
      "execution_count": 0,
      "outputs": [
        {
          "output_type": "stream",
          "text": [
            "[0. 0. 0. 0. 0. 1. 0. 0. 0. 0.]\n",
            "1.0\n"
          ],
          "name": "stdout"
        },
        {
          "output_type": "execute_result",
          "data": {
            "text/plain": [
              "(60000, 10)"
            ]
          },
          "metadata": {
            "tags": []
          },
          "execution_count": 36
        }
      ]
    },
    {
      "cell_type": "code",
      "metadata": {
        "id": "dbKm6hLKkC7g",
        "colab_type": "code",
        "outputId": "8f3d5362-ab89-4e12-d4b2-76f417d37954",
        "colab": {
          "base_uri": "https://localhost:8080/",
          "height": 108
        }
      },
      "source": [
        "print(train_labels[0:5])"
      ],
      "execution_count": 0,
      "outputs": [
        {
          "output_type": "stream",
          "text": [
            "[[0. 0. 0. 0. 0. 1. 0. 0. 0. 0.]\n",
            " [1. 0. 0. 0. 0. 0. 0. 0. 0. 0.]\n",
            " [0. 0. 0. 0. 1. 0. 0. 0. 0. 0.]\n",
            " [0. 1. 0. 0. 0. 0. 0. 0. 0. 0.]\n",
            " [0. 0. 0. 0. 0. 0. 0. 0. 0. 1.]]\n"
          ],
          "name": "stdout"
        }
      ]
    },
    {
      "cell_type": "markdown",
      "metadata": {
        "id": "SBwFVwf23BXX",
        "colab_type": "text"
      },
      "source": [
        "#### **7- Training**"
      ]
    },
    {
      "cell_type": "code",
      "metadata": {
        "id": "RyigQjGnzwkz",
        "colab_type": "code",
        "outputId": "9e66f44e-bcf7-43b9-ad9d-cf48ed270270",
        "colab": {
          "base_uri": "https://localhost:8080/",
          "height": 235
        }
      },
      "source": [
        "# Training is started now - Only training data is involved here:\n",
        "my_network.fit(train_images, train_labels, epochs=5, batch_size=128)"
      ],
      "execution_count": 7,
      "outputs": [
        {
          "output_type": "stream",
          "text": [
            "Train on 60000 samples\n",
            "Epoch 1/5\n",
            "60000/60000 [==============================] - 5s 87us/sample - loss: 0.2592 - accuracy: 0.9252\n",
            "Epoch 2/5\n",
            "60000/60000 [==============================] - 5s 77us/sample - loss: 0.1054 - accuracy: 0.9687\n",
            "Epoch 3/5\n",
            "60000/60000 [==============================] - 5s 78us/sample - loss: 0.0694 - accuracy: 0.9793\n",
            "Epoch 4/5\n",
            "60000/60000 [==============================] - 5s 82us/sample - loss: 0.0507 - accuracy: 0.9849\n",
            "Epoch 5/5\n",
            "60000/60000 [==============================] - 4s 74us/sample - loss: 0.0379 - accuracy: 0.9888\n"
          ],
          "name": "stdout"
        },
        {
          "output_type": "execute_result",
          "data": {
            "text/plain": [
              "<tensorflow.python.keras.callbacks.History at 0x7f737d550128>"
            ]
          },
          "metadata": {
            "tags": []
          },
          "execution_count": 7
        }
      ]
    },
    {
      "cell_type": "markdown",
      "metadata": {
        "id": "QdulKvUqxR1r",
        "colab_type": "text"
      },
      "source": [
        "#### **8- Evaluation**"
      ]
    },
    {
      "cell_type": "code",
      "metadata": {
        "id": "sBUxxcfM4I8H",
        "colab_type": "code",
        "outputId": "1677021f-af8e-467f-af5f-84711c35dcef",
        "colab": {
          "base_uri": "https://localhost:8080/",
          "height": 35
        }
      },
      "source": [
        "# Now evaluation is performed on the test data:\n",
        "# .evaluate function returns 2 outputs: loss and accuracy\n",
        "test_loss, test_acc = my_network.evaluate(test_images,test_labels)"
      ],
      "execution_count": 9,
      "outputs": [
        {
          "output_type": "stream",
          "text": [
            "10000/10000 [==============================] - 1s 64us/sample - loss: 0.0719 - accuracy: 0.9777\n"
          ],
          "name": "stdout"
        }
      ]
    },
    {
      "cell_type": "markdown",
      "metadata": {
        "id": "vrl1BnS1xQOn",
        "colab_type": "text"
      },
      "source": [
        "##### - You can predict a particular test image:"
      ]
    },
    {
      "cell_type": "code",
      "metadata": {
        "id": "BEISpFQh5zxs",
        "colab_type": "code",
        "outputId": "e1605af1-9caa-4b3f-b5c0-16507aa3dc8a",
        "colab": {
          "base_uri": "https://localhost:8080/",
          "height": 199
        }
      },
      "source": [
        "# You can also predict:\n",
        "print(my_network.predict(test_images)[0:4])\n",
        "print()\n",
        "my_network.predict(test_images)[0:4].max(axis=1)"
      ],
      "execution_count": 35,
      "outputs": [
        {
          "output_type": "stream",
          "text": [
            "[[1.8003284e-08 1.8014153e-10 2.8579414e-06 1.0830265e-05 3.9230955e-11\n",
            "  1.2471627e-08 2.2661242e-13 9.9997759e-01 5.4079610e-08 8.6339487e-06]\n",
            " [6.5537242e-11 1.2374713e-07 9.9999988e-01 5.6204561e-09 1.6682215e-20\n",
            "  1.8538310e-11 2.9032927e-11 5.7781519e-18 3.1709899e-10 9.8262353e-17]\n",
            " [2.2143045e-07 9.9916971e-01 1.6351574e-04 1.1748055e-05 5.6295128e-05\n",
            "  5.7656816e-06 1.2419429e-05 3.8047388e-04 1.9282397e-04 7.0076421e-06]\n",
            " [9.9990380e-01 2.5969578e-12 4.9638937e-05 3.2691659e-08 8.3994244e-08\n",
            "  3.9452477e-08 1.0637744e-05 9.5817468e-06 5.8299503e-09 2.6061520e-05]]\n",
            "\n"
          ],
          "name": "stdout"
        },
        {
          "output_type": "execute_result",
          "data": {
            "text/plain": [
              "array([0.9999776, 0.9999999, 0.9991697, 0.9999038], dtype=float32)"
            ]
          },
          "metadata": {
            "tags": []
          },
          "execution_count": 35
        }
      ]
    },
    {
      "cell_type": "code",
      "metadata": {
        "id": "DgjY1OF7s9vi",
        "colab_type": "code",
        "colab": {
          "base_uri": "https://localhost:8080/",
          "height": 90
        },
        "outputId": "b5043b0c-03be-46d9-8feb-f2ff8be6b63e"
      },
      "source": [
        "print(test_images.shape)\n",
        "print('Dude you must understand that there are Ten Thousand(10,000) Test Images!')\n",
        "print('Oh My God! Too many Images')\n",
        "type(test_images)"
      ],
      "execution_count": 39,
      "outputs": [
        {
          "output_type": "stream",
          "text": [
            "(10000, 784)\n",
            "Dude you must understand that there are Ten Thousand(10,000) Test Images!\n",
            "Oh My God! Too many Images\n"
          ],
          "name": "stdout"
        },
        {
          "output_type": "execute_result",
          "data": {
            "text/plain": [
              "numpy.ndarray"
            ]
          },
          "metadata": {
            "tags": []
          },
          "execution_count": 39
        }
      ]
    },
    {
      "cell_type": "markdown",
      "metadata": {
        "id": "eUUslnPCxrRl",
        "colab_type": "text"
      },
      "source": [
        "##### - Visualization"
      ]
    },
    {
      "cell_type": "code",
      "metadata": {
        "id": "L4IDr7OUxi-U",
        "colab_type": "code",
        "colab": {}
      },
      "source": [
        "# For visualization we will load the mnist dataset again"
      ],
      "execution_count": 0,
      "outputs": []
    },
    {
      "cell_type": "code",
      "metadata": {
        "id": "T6hMQ2NlxkGY",
        "colab_type": "code",
        "colab": {}
      },
      "source": [
        "from tensorflow.keras.datasets import mnist\n",
        "(train_images, train_labels), (test_images, test_labels) = mnist.load_data()"
      ],
      "execution_count": 0,
      "outputs": []
    },
    {
      "cell_type": "code",
      "metadata": {
        "id": "gPYK9m7M2lPr",
        "colab_type": "code",
        "colab": {
          "base_uri": "https://localhost:8080/",
          "height": 35
        },
        "outputId": "7498c890-7668-492f-be91-89d90c08d1c6"
      },
      "source": [
        "test_images.shape"
      ],
      "execution_count": 41,
      "outputs": [
        {
          "output_type": "execute_result",
          "data": {
            "text/plain": [
              "(10000, 28, 28)"
            ]
          },
          "metadata": {
            "tags": []
          },
          "execution_count": 41
        }
      ]
    },
    {
      "cell_type": "code",
      "metadata": {
        "id": "kA7r1cFZ2lSp",
        "colab_type": "code",
        "colab": {
          "base_uri": "https://localhost:8080/",
          "height": 53
        },
        "outputId": "bccf12bd-ea77-4645-e10b-4e57ba523271"
      },
      "source": [
        "train_labels[0:25]"
      ],
      "execution_count": 175,
      "outputs": [
        {
          "output_type": "execute_result",
          "data": {
            "text/plain": [
              "array([5, 0, 4, 1, 9, 2, 1, 3, 1, 4, 3, 5, 3, 6, 1, 7, 2, 8, 6, 9, 4, 0,\n",
              "       9, 1, 1], dtype=uint8)"
            ]
          },
          "metadata": {
            "tags": []
          },
          "execution_count": 175
        }
      ]
    },
    {
      "cell_type": "code",
      "metadata": {
        "id": "7vUhoX1t3TJo",
        "colab_type": "code",
        "colab": {
          "base_uri": "https://localhost:8080/",
          "height": 269
        },
        "outputId": "77536bd2-a96c-4eb9-f74f-0a4eaab522fb"
      },
      "source": [
        "# displaying the first 25 images of train_images:\n",
        "import matplotlib.pyplot as plt\n",
        "\n",
        "# digit = train_images[0]\n",
        "# plt.imshow(digit, cmap=plt.cm.binary)\n",
        "\n",
        "f, axarr = plt.subplots(5,5)\n",
        "for i in range(5):\n",
        "  axarr[0,i].imshow(test_images[i], cmap=plt.cm.binary)\n",
        "for i in range(5):\n",
        "  axarr[1,i].imshow(test_images[5+i], cmap=plt.cm.binary)\n",
        "for i in range(5):\n",
        "  axarr[2,i].imshow(test_images[10+i], cmap=plt.cm.binary)\n",
        "for i in range(5):\n",
        "  axarr[3,i].imshow(test_images[15+i], cmap=plt.cm.binary)\n",
        "for i in range(5):\n",
        "  axarr[4,i].imshow(test_images[20+i], cmap=plt.cm.binary)"
      ],
      "execution_count": 181,
      "outputs": [
        {
          "output_type": "display_data",
          "data": {
            "image/png": "[encoded data removed]",
            "text/plain": [
              "<Figure size 432x288 with 25 Axes>"
            ]
          },
          "metadata": {
            "tags": []
          }
        }
      ]
    },
    {
      "cell_type": "code",
      "metadata": {
        "id": "352oxJuhq2et",
        "colab_type": "code",
        "colab": {
          "base_uri": "https://localhost:8080/",
          "height": 269
        },
        "outputId": "f9120056-2413-418f-d135-080d86de1832"
      },
      "source": [
        "f, axarr = plt.subplots(5,5)\n",
        "for i in range(5):\n",
        "  axarr[0,i].imshow(test_images[25+i], cmap=plt.cm.binary)\n",
        "for i in range(5):\n",
        "  axarr[1,i].imshow(test_images[30+i], cmap=plt.cm.binary)\n",
        "for i in range(5):\n",
        "  axarr[2,i].imshow(test_images[35+i], cmap=plt.cm.binary)\n",
        "for i in range(5):\n",
        "  axarr[3,i].imshow(test_images[40+i], cmap=plt.cm.binary)\n",
        "for i in range(5):\n",
        "  axarr[4,i].imshow(test_images[45+i], cmap=plt.cm.binary)"
      ],
      "execution_count": 182,
      "outputs": [
        {
          "output_type": "display_data",
          "data": {
            "image/png": "[encoded data removed]",
            "text/plain": [
              "<Figure size 432x288 with 25 Axes>"
            ]
          },
          "metadata": {
            "tags": []
          }
        }
      ]
    },
    {
      "cell_type": "markdown",
      "metadata": {
        "id": "LDB1-Qi8h1P0",
        "colab_type": "text"
      },
      "source": [
        "#\n",
        "## An Extra Thing:\n",
        "#### Comparing prediction with test_labels"
      ]
    },
    {
      "cell_type": "code",
      "metadata": {
        "id": "DNsjRor7e7Af",
        "colab_type": "code",
        "colab": {
          "base_uri": "https://localhost:8080/",
          "height": 90
        },
        "outputId": "af10e0fb-d76c-43dd-e3f4-fe7f4d5137ca"
      },
      "source": [
        "actual_test_labels = test_labels[0:500]\n",
        "print(test_labels[0:100])\n",
        "print(test_labels[0:100].mean())"
      ],
      "execution_count": 123,
      "outputs": [
        {
          "output_type": "stream",
          "text": [
            "[7 2 1 0 4 1 4 9 5 9 0 6 9 0 1 5 9 7 3 4 9 6 6 5 4 0 7 4 0 1 3 1 3 4 7 2 7\n",
            " 1 2 1 1 7 4 2 3 5 1 2 4 4 6 3 5 5 6 0 4 1 9 5 7 8 9 3 7 4 6 4 3 0 7 0 2 9\n",
            " 1 7 3 2 9 7 7 6 2 7 8 4 7 3 6 1 3 6 9 3 1 4 1 7 6 9]\n",
            "4.34\n"
          ],
          "name": "stdout"
        }
      ]
    },
    {
      "cell_type": "code",
      "metadata": {
        "id": "6mWbVJYne7DH",
        "colab_type": "code",
        "colab": {}
      },
      "source": [
        "# For PREDICTION:\n",
        "# To observe the Prediction, we will prepare the image data:\n",
        "train_images = train_images.reshape((60000,28*28))   # converting 3d to 2d\n",
        "train_images = train_images.astype('float32') / 255\n",
        "\n",
        "test_images = test_images.reshape((10000,28*28))\n",
        "test_images = test_images.astype('float32') / 255\n"
      ],
      "execution_count": 0,
      "outputs": []
    },
    {
      "cell_type": "code",
      "metadata": {
        "id": "dpKivPQ9fCrN",
        "colab_type": "code",
        "colab": {
          "base_uri": "https://localhost:8080/",
          "height": 417
        },
        "outputId": "9bd3f5fa-6a03-42e8-a0f1-dacdb217ec86"
      },
      "source": [
        "# I've already run the training of my_network that's why prediction is done directly here:\n",
        "#print(my_network.predict(test_images)[0:4])\n",
        "predicted_test_labels = my_network.predict(test_images)[:].argmax(axis=1)\n",
        "print('Max:')\n",
        "print(my_network.predict(test_images)[0:100].max(axis=1))\n",
        "print('Argmax:')\n",
        "print(my_network.predict(test_images)[0:100].argmax(axis=1))"
      ],
      "execution_count": 185,
      "outputs": [
        {
          "output_type": "stream",
          "text": [
            "Max:\n",
            "[0.9999776  0.9999999  0.9991697  0.9999038  0.99511236 0.9996101\n",
            " 0.9990048  0.9991309  0.9955525  0.9998933  0.99999905 0.99995375\n",
            " 0.9999747  0.99996877 0.9999919  0.9987495  0.99940586 0.9999286\n",
            " 0.59945714 0.9999398  0.9971077  0.9977946  0.99999833 0.9999994\n",
            " 0.9915549  0.99999845 0.9998222  0.9999207  0.9999807  0.9999441\n",
            " 0.9999839  0.9991229  0.99999523 0.9405101  0.99998593 0.99998474\n",
            " 0.99943596 0.99995816 0.98948425 0.9999918  0.9985268  0.99978226\n",
            " 0.9993068  0.99942315 0.9990823  0.9981699  0.99991536 0.9999912\n",
            " 0.99997735 0.9985416  0.9988506  0.9998248  0.9999435  0.9965005\n",
            " 1.         0.99997485 0.9999951  0.998494   0.9999404  0.9973627\n",
            " 0.99999726 0.969517   0.9073806  0.9852046  0.99985373 0.91045785\n",
            " 0.99932873 0.9999511  0.99998057 0.99999845 0.99999595 1.\n",
            " 0.99993014 0.9997317  0.99990404 0.9997507  0.99991024 0.99992967\n",
            " 0.99836    0.9994282  0.98449117 0.99976    1.         0.99979466\n",
            " 0.9999263  0.9999962  0.99994624 0.99987805 1.         0.9998085\n",
            " 0.99606836 0.99999845 0.99254465 0.94740486 0.9999951  0.9918609\n",
            " 0.96084386 0.9998017  0.9985044  0.99999225]\n",
            "Argmax:\n",
            "[7 2 1 0 4 1 4 9 5 9 0 6 9 0 1 5 9 7 3 4 9 6 6 5 4 0 7 4 0 1 3 1 3 4 7 2 7\n",
            " 1 2 1 1 7 4 2 3 5 1 2 4 4 6 3 5 5 6 0 4 1 9 5 7 8 9 3 7 4 6 4 3 0 7 0 2 9\n",
            " 1 7 3 2 9 7 7 6 2 7 8 4 7 3 6 1 3 6 9 3 1 4 1 7 6 9]\n"
          ],
          "name": "stdout"
        }
      ]
    },
    {
      "cell_type": "code",
      "metadata": {
        "id": "4eTkQQUvrKHd",
        "colab_type": "code",
        "colab": {
          "base_uri": "https://localhost:8080/",
          "height": 436
        },
        "outputId": "77b432d4-b6dd-48e3-97b8-5eb58ebad675"
      },
      "source": [
        "print('Comparing first 500 test labels:')\n",
        "op = actual_test_labels - predicted_test_labels\n",
        "print(op)\n",
        "len(op)"
      ],
      "execution_count": 130,
      "outputs": [
        {
          "output_type": "stream",
          "text": [
            "Comparing first 500 test labels:\n",
            "[ 0  0  0  0  0  0  0  0  0  0  0  0  0  0  0  0  0  0  0  0  0  0  0  0\n",
            "  0  0  0  0  0  0  0  0  0  0  0  0  0  0  0  0  0  0  0  0  0  0  0  0\n",
            "  0  0  0  0  0  0  0  0  0  0  0  0  0  0  0  0  0  0  0  0  0  0  0  0\n",
            "  0  0  0  0  0  0  0  0  0  0  0  0  0  0  0  0  0  0  0  0  0  0  0  0\n",
            "  0  0  0  0  0  0  0  0  0  0  0  0  0  0  0  0  0  0  0 -5  0  0  0  0\n",
            "  0  0  0  0  0  0  0  0  0  0  0  0  0  0  0  0  0  0  0  0  0  0  0  0\n",
            "  0  0  0  0  0  0  0  0  0  0  0  0  0  0  1  0  0  0  0  0  0  0  0  0\n",
            "  0  0  0  0  0  0  0  0  0  0  0  0  0  0  0  0  0  0  0  0  0  0  0  0\n",
            "  0  0  0  0  0  0  0  0  0  0  0  0  0  0  0  0  0  0  0  0  0  0  0  0\n",
            "  0  0  0  0  0  0  0  0  0  0  0  0  0  0  0  0  0  0  0  0  0  0  0  0\n",
            "  0  0  0  0  0  0  0  2  0  0  0  0  0  0  0  0  0  0  0  6  0  0  0  0\n",
            "  0  0  0  0  0  0  0  0  0  0  0  0  0  0  0  0  0  0  0  0  0  0  0  0\n",
            "  0  0  0  0  0  0  0  0  0  0  0  0  0  0  0  0  0  0  0  0  0  0  0  0\n",
            "  0  0  0  0  0  0  0  0  0 -5  0  0  0  0  0  0  0  0  0  0  0  0  0  0\n",
            "  0  0  0  0  2  0  0  0  0  0  0  0  0  0  0  0  0  0  0  0  0  0  0  0\n",
            "  0  0  0  0  0  0  0  0  0  0  0  0  0  0  0  0  0  0  0  0  0 -4  0  0\n",
            "  0  0  0  0  0  0  0  0  0  0  0  0  0  0  0  0  0  0  0  0  0  0  0  0\n",
            "  0  0  0  0  0  0  0  0  0  0  0  0  0  0  0  0  0  2  0  0  0  0  0  0\n",
            "  0  0  0  0  0  0  0  0  0  0  0  0  0  6  0 -5  0  0  0  0  0  0  0  0\n",
            "  0  0  0  0  0  0  0  0  0  0  0  0  0  0  0  0  0  0  0  0  0  0  0  0\n",
            "  0  0  0  0  0  0  0  0  0  0  0  0  0  0  0  6  0  0  0  0]\n"
          ],
          "name": "stdout"
        },
        {
          "output_type": "execute_result",
          "data": {
            "text/plain": [
              "500"
            ]
          },
          "metadata": {
            "tags": []
          },
          "execution_count": 130
        }
      ]
    },
    {
      "cell_type": "code",
      "metadata": {
        "id": "-qQkSBWRuy95",
        "colab_type": "code",
        "colab": {
          "base_uri": "https://localhost:8080/",
          "height": 72
        },
        "outputId": "89b33199-c3b3-4261-c1bb-90b25844ae80"
      },
      "source": [
        "op[[114,115,116,117,118]]\n",
        "print(op[115])\n",
        "print(actual_test_labels[115])\n",
        "print(predicted_test_labels[115])"
      ],
      "execution_count": 137,
      "outputs": [
        {
          "output_type": "stream",
          "text": [
            "-5\n",
            "4\n",
            "9\n"
          ],
          "name": "stdout"
        }
      ]
    },
    {
      "cell_type": "code",
      "metadata": {
        "id": "AUuVIINvrJTC",
        "colab_type": "code",
        "colab": {
          "base_uri": "https://localhost:8080/",
          "height": 283
        },
        "outputId": "a754d48c-077f-41e5-ace6-23c1e2a3bb51"
      },
      "source": [
        "# For visualization of nonsense:\n",
        "\n",
        "from tensorflow.keras.datasets import mnist\n",
        "(train_images, train_labels), (test_images, test_labels) = mnist.load_data()\n",
        "\n",
        "digit = test_images[115]\n",
        "plt.imshow(digit, cmap=plt.cm.binary)"
      ],
      "execution_count": 183,
      "outputs": [
        {
          "output_type": "execute_result",
          "data": {
            "text/plain": [
              "<matplotlib.image.AxesImage at 0x7f73705f39e8>"
            ]
          },
          "metadata": {
            "tags": []
          },
          "execution_count": 183
        },
        {
          "output_type": "display_data",
          "data": {
            "image/png": "[encoded data removed]",
            "text/plain": [
              "<Figure size 432x288 with 1 Axes>"
            ]
          },
          "metadata": {
            "tags": []
          }
        }
      ]
    },
    {
      "cell_type": "code",
      "metadata": {
        "id": "2Jbqa8fTBUGp",
        "colab_type": "code",
        "colab": {
          "base_uri": "https://localhost:8080/",
          "height": 320
        },
        "outputId": "9b02edeb-0ecb-4576-af5f-eb77d4aa1b9d"
      },
      "source": [
        "# more nonsense samples\n",
        "op[158]  # =1\n",
        "print(actual_test_labels[158])\n",
        "print(predicted_test_labels[158])\n",
        "\n",
        "digit = test_images[158]\n",
        "plt.imshow(digit, cmap=plt.cm.binary)"
      ],
      "execution_count": 151,
      "outputs": [
        {
          "output_type": "stream",
          "text": [
            "3\n",
            "2\n"
          ],
          "name": "stdout"
        },
        {
          "output_type": "execute_result",
          "data": {
            "text/plain": [
              "<matplotlib.image.AxesImage at 0x7f73742696a0>"
            ]
          },
          "metadata": {
            "tags": []
          },
          "execution_count": 151
        },
        {
          "output_type": "display_data",
          "data": {
            "image/png": "[encoded data removed]",
            "text/plain": [
              "<Figure size 432x288 with 1 Axes>"
            ]
          },
          "metadata": {
            "tags": []
          }
        }
      ]
    },
    {
      "cell_type": "code",
      "metadata": {
        "id": "XSqBWz_lCSC-",
        "colab_type": "code",
        "colab": {
          "base_uri": "https://localhost:8080/",
          "height": 320
        },
        "outputId": "616acf9c-0e1a-47a2-e180-5a2cb2fe4d15"
      },
      "source": [
        "# more nonsense samples\n",
        "op[247]  # =2\n",
        "print(actual_test_labels[247])\n",
        "print(predicted_test_labels[247])\n",
        "\n",
        "digit = test_images[247]\n",
        "plt.imshow(digit, cmap=plt.cm.binary)"
      ],
      "execution_count": 157,
      "outputs": [
        {
          "output_type": "stream",
          "text": [
            "4\n",
            "2\n"
          ],
          "name": "stdout"
        },
        {
          "output_type": "execute_result",
          "data": {
            "text/plain": [
              "<matplotlib.image.AxesImage at 0x7f737423c550>"
            ]
          },
          "metadata": {
            "tags": []
          },
          "execution_count": 157
        },
        {
          "output_type": "display_data",
          "data": {
            "image/png": "[encoded data removed]",
            "text/plain": [
              "<Figure size 432x288 with 1 Axes>"
            ]
          },
          "metadata": {
            "tags": []
          }
        }
      ]
    },
    {
      "cell_type": "code",
      "metadata": {
        "id": "fVJP4_DtCSFo",
        "colab_type": "code",
        "colab": {
          "base_uri": "https://localhost:8080/",
          "height": 320
        },
        "outputId": "2ebb3edb-9a32-4d69-9eda-f54ff1312a94"
      },
      "source": [
        "# more nonsense samples\n",
        "op[259]  # = 6\n",
        "print(actual_test_labels[259])\n",
        "print(predicted_test_labels[259])\n",
        "\n",
        "digit = test_images[259]\n",
        "plt.imshow(digit, cmap=plt.cm.binary)"
      ],
      "execution_count": 159,
      "outputs": [
        {
          "output_type": "stream",
          "text": [
            "6\n",
            "0\n"
          ],
          "name": "stdout"
        },
        {
          "output_type": "execute_result",
          "data": {
            "text/plain": [
              "<matplotlib.image.AxesImage at 0x7f73720950f0>"
            ]
          },
          "metadata": {
            "tags": []
          },
          "execution_count": 159
        },
        {
          "output_type": "display_data",
          "data": {
            "image/png": "[encoded data removed]",
            "text/plain": [
              "<Figure size 432x288 with 1 Axes>"
            ]
          },
          "metadata": {
            "tags": []
          }
        }
      ]
    },
    {
      "cell_type": "code",
      "metadata": {
        "id": "RT9ZE0wFBUMO",
        "colab_type": "code",
        "colab": {
          "base_uri": "https://localhost:8080/",
          "height": 320
        },
        "outputId": "796644a7-f2b7-445e-f5b3-7c871baef2ce"
      },
      "source": [
        "# more nonsense samples\n",
        "op[321]  # = -5\n",
        "print(actual_test_labels[321])\n",
        "print(predicted_test_labels[321])\n",
        "\n",
        "digit = test_images[321]\n",
        "plt.imshow(digit, cmap=plt.cm.binary)"
      ],
      "execution_count": 162,
      "outputs": [
        {
          "output_type": "stream",
          "text": [
            "2\n",
            "7\n"
          ],
          "name": "stdout"
        },
        {
          "output_type": "execute_result",
          "data": {
            "text/plain": [
              "<matplotlib.image.AxesImage at 0x7f7371222d30>"
            ]
          },
          "metadata": {
            "tags": []
          },
          "execution_count": 162
        },
        {
          "output_type": "display_data",
          "data": {
            "image/png": "[encoded data removed]",
            "text/plain": [
              "<Figure size 432x288 with 1 Axes>"
            ]
          },
          "metadata": {
            "tags": []
          }
        }
      ]
    },
    {
      "cell_type": "code",
      "metadata": {
        "id": "xvOdhus4BUJ_",
        "colab_type": "code",
        "colab": {
          "base_uri": "https://localhost:8080/",
          "height": 320
        },
        "outputId": "8b915b68-3750-486d-a4bf-60fa289e5c41"
      },
      "source": [
        "# more nonsense samples\n",
        "op[340]  # = 2\n",
        "print(actual_test_labels[340])\n",
        "print(predicted_test_labels[340])\n",
        "\n",
        "digit = test_images[340]\n",
        "plt.imshow(digit, cmap=plt.cm.binary)"
      ],
      "execution_count": 167,
      "outputs": [
        {
          "output_type": "stream",
          "text": [
            "5\n",
            "3\n"
          ],
          "name": "stdout"
        },
        {
          "output_type": "execute_result",
          "data": {
            "text/plain": [
              "<matplotlib.image.AxesImage at 0x7f73711fcac8>"
            ]
          },
          "metadata": {
            "tags": []
          },
          "execution_count": 167
        },
        {
          "output_type": "display_data",
          "data": {
            "image/png": "[encoded data removed]",
            "text/plain": [
              "<Figure size 432x288 with 1 Axes>"
            ]
          },
          "metadata": {
            "tags": []
          }
        }
      ]
    },
    {
      "cell_type": "code",
      "metadata": {
        "id": "msQ-6GDnQJod",
        "colab_type": "code",
        "colab": {
          "base_uri": "https://localhost:8080/",
          "height": 320
        },
        "outputId": "94433b07-372c-4996-e191-97e264047700"
      },
      "source": [
        "# more nonsense samples\n",
        "op[381]  # = -4\n",
        "print(actual_test_labels[381])\n",
        "print(predicted_test_labels[381])\n",
        "\n",
        "digit = test_images[381]\n",
        "plt.imshow(digit, cmap=plt.cm.binary)"
      ],
      "execution_count": 171,
      "outputs": [
        {
          "output_type": "stream",
          "text": [
            "3\n",
            "7\n"
          ],
          "name": "stdout"
        },
        {
          "output_type": "execute_result",
          "data": {
            "text/plain": [
              "<matplotlib.image.AxesImage at 0x7f737115ebe0>"
            ]
          },
          "metadata": {
            "tags": []
          },
          "execution_count": 171
        },
        {
          "output_type": "display_data",
          "data": {
            "image/png": "[encoded data removed]",
            "text/plain": [
              "<Figure size 432x288 with 1 Axes>"
            ]
          },
          "metadata": {
            "tags": []
          }
        }
      ]
    },
    {
      "cell_type": "code",
      "metadata": {
        "id": "xNxYZBZDQKHR",
        "colab_type": "code",
        "colab": {}
      },
      "source": [
        ""
      ],
      "execution_count": 0,
      "outputs": []
    },
    {
      "cell_type": "code",
      "metadata": {
        "id": "-qM_DmZgtyFw",
        "colab_type": "code",
        "colab": {
          "base_uri": "https://localhost:8080/",
          "height": 126
        },
        "outputId": "1e9f13e9-5c30-4948-953e-ee0b6e9de548"
      },
      "source": [
        "print('Comparing all test labels:')\n",
        "op = test_labels - predicted_test_labels\n",
        "len(op) # = 10,000\n",
        "print('No. of wrong predictions out of 10,000:')\n",
        "print(len(op[op != 0])) # = 223\n",
        "(223*100)/10000 # = 2.23\n",
        "print('This is just 2.23% loss \\nSo the Accuracy is:')\n",
        "100-2.23"
      ],
      "execution_count": 208,
      "outputs": [
        {
          "output_type": "stream",
          "text": [
            "Comparing all test labels:\n",
            "No. of wrong predictions out of 10,000:\n",
            "223\n",
            "This is just 2.23% loss \n",
            "So the Accuracy is:\n"
          ],
          "name": "stdout"
        },
        {
          "output_type": "execute_result",
          "data": {
            "text/plain": [
              "97.77"
            ]
          },
          "metadata": {
            "tags": []
          },
          "execution_count": 208
        }
      ]
    },
    {
      "cell_type": "markdown",
      "metadata": {
        "id": "Y5xH9OAVxh5t",
        "colab_type": "text"
      },
      "source": [
        "#\n",
        "### Here I'm pleased to say that our calculated accuracy is matching with the accuracy provided by the evaluate funtion.\n",
        "## Alhamdulillah ^^^ Alhamdulillah ^^^ Alhamdulillah\n",
        "### First project has been completed here successfully!\n",
        "## Congratulations SAAD!!!\n",
        "## ALHAMDULILLAH means **Thanks to ALLAH**"
      ]
    }
  ]
}