{
 "cells": [
  {
   "cell_type": "markdown",
   "metadata": {
    "colab_type": "text",
    "id": "WivbrB-Zj91n"
   },
   "source": [
    "## 5.3 Using a pre-trained convnet"
   ]
  },
  {
   "cell_type": "markdown",
   "metadata": {
    "colab_type": "text",
    "id": "BFnh1HfRkQfj"
   },
   "source": [
    "Consider VGG-16 (convnet architecture developed in 2014) made for ImageNet dataset"
   ]
  },
  {
   "cell_type": "markdown",
   "metadata": {
    "colab_type": "text",
    "id": "8dusKjUPkQiO"
   },
   "source": [
    "There are two ways to use a pretrained network: 1- feature extraction 2- fine-tuning"
   ]
  },
  {
   "cell_type": "code",
   "execution_count": 0,
   "metadata": {
    "colab": {
     "base_uri": "https://localhost:8080/",
     "height": 128
    },
    "colab_type": "code",
    "executionInfo": {
     "elapsed": 27998,
     "status": "ok",
     "timestamp": 1590151001841,
     "user": {
      "displayName": "Saad Bhai",
      "photoUrl": "https://lh3.googleusercontent.com/a-/AOh14GiLfpvuiSwhAy7yVDislPLLwiXBqw2qqZWdd2Xr6Q=s64",
      "userId": "13174767008672359346"
     },
     "user_tz": -300
    },
    "id": "yfIDzreC6ZCU",
    "outputId": "fddcc7c9-7fd2-4cdc-f879-3d0fefd3a578"
   },
   "outputs": [
    {
     "name": "stdout",
     "output_type": "stream",
     "text": [
      "Go to this URL in a browser: https://accounts.google.com/o/oauth2/auth?client_id=947318989803-6bn6qk8qdgf4n4g3pfee6491hc0brc4i.apps.googleusercontent.com&redirect_uri=urn%3aietf%3awg%3aoauth%3a2.0%3aoob&response_type=code&scope=email%20https%3a%2f%2fwww.googleapis.com%2fauth%2fdocs.test%20https%3a%2f%2fwww.googleapis.com%2fauth%2fdrive%20https%3a%2f%2fwww.googleapis.com%2fauth%2fdrive.photos.readonly%20https%3a%2f%2fwww.googleapis.com%2fauth%2fpeopleapi.readonly\n",
      "\n",
      "Enter your authorization code:\n",
      "··········\n",
      "Mounted at /content/drive\n"
     ]
    }
   ],
   "source": [
    "from google.colab import drive\n",
    "drive.mount('/content/drive')"
   ]
  },
  {
   "cell_type": "code",
   "execution_count": 0,
   "metadata": {
    "colab": {
     "base_uri": "https://localhost:8080/",
     "height": 108
    },
    "colab_type": "code",
    "executionInfo": {
     "elapsed": 19319,
     "status": "ok",
     "timestamp": 1590143707436,
     "user": {
      "displayName": "Saad Bhai",
      "photoUrl": "https://lh3.googleusercontent.com/a-/AOh14GiLfpvuiSwhAy7yVDislPLLwiXBqw2qqZWdd2Xr6Q=s64",
      "userId": "13174767008672359346"
     },
     "user_tz": -300
    },
    "id": "yV9MUYsQ6caO",
    "outputId": "a59df96f-ce76-4ec3-c7a8-4bf50d632c77"
   },
   "outputs": [
    {
     "name": "stdout",
     "output_type": "stream",
     "text": [
      "/content\n",
      "Archive:  drive/My Drive/Colab Notebooks/dogs-vs-cats.zip\n",
      "  inflating: sampleSubmission.csv    \n",
      "  inflating: test1.zip               \n",
      "  inflating: train.zip               \n"
     ]
    }
   ],
   "source": [
    "!pwd\n",
    "!unzip \"drive/My Drive/Colab Notebooks/dogs-vs-cats.zip\"\n",
    "# It unzips the data in root drive"
   ]
  },
  {
   "cell_type": "code",
   "execution_count": 0,
   "metadata": {
    "colab": {},
    "colab_type": "code",
    "id": "gwUq1qyg6cdL"
   },
   "outputs": [],
   "source": [
    "!unzip train.zip\n",
    "# After the following two line source_data/train would have train folder data\n",
    "!mkdir source_data\n",
    "!mv train source_data\n",
    "\n",
    "#!rm -Rf cats_and_dogs_small"
   ]
  },
  {
   "cell_type": "code",
   "execution_count": 0,
   "metadata": {
    "colab": {},
    "colab_type": "code",
    "id": "7maQgXfL6cf2"
   },
   "outputs": [],
   "source": [
    "import os, shutil\n",
    "\n",
    "def createIfNot(pathName):\n",
    "    if os.path.exists(pathName):\n",
    "        print(pathName, \" Already Exists\")\n",
    "    else:\n",
    "        os.mkdir(pathName)\n",
    "\n",
    "\n",
    "base_dir = 'cats_and_dogs_small'\n",
    "createIfNot(base_dir)\n",
    "train_dir = os.path.join(base_dir, 'train')\n",
    "createIfNot(train_dir)\n",
    "validation_dir = os.path.join(base_dir, 'validation')\n",
    "createIfNot(validation_dir)\n",
    "test_dir = os.path.join(base_dir, 'test')\n",
    "createIfNot(test_dir)\n",
    "\n",
    "train_cats_dir = os.path.join(train_dir, 'cats')\n",
    "createIfNot(train_cats_dir)\n",
    "train_dogs_dir = os.path.join(train_dir, 'dogs')\n",
    "createIfNot(train_dogs_dir)\n",
    "validation_cats_dir = os.path.join(validation_dir, 'cats')\n",
    "createIfNot(validation_cats_dir)\n",
    "validation_dogs_dir = os.path.join(validation_dir, 'dogs')\n",
    "createIfNot(validation_dogs_dir)\n",
    "test_cats_dir = os.path.join(test_dir, 'cats')\n",
    "createIfNot(test_cats_dir)\n",
    "test_dogs_dir = os.path.join(test_dir, 'dogs')\n",
    "createIfNot(test_dogs_dir)"
   ]
  },
  {
   "cell_type": "code",
   "execution_count": 0,
   "metadata": {
    "colab": {
     "base_uri": "https://localhost:8080/",
     "height": 126
    },
    "colab_type": "code",
    "executionInfo": {
     "elapsed": 1673,
     "status": "ok",
     "timestamp": 1590143928483,
     "user": {
      "displayName": "Saad Bhai",
      "photoUrl": "https://lh3.googleusercontent.com/a-/AOh14GiLfpvuiSwhAy7yVDislPLLwiXBqw2qqZWdd2Xr6Q=s64",
      "userId": "13174767008672359346"
     },
     "user_tz": -300
    },
    "id": "nkqj6V7P6ZFA",
    "outputId": "9f7ca1ae-1e6e-48e8-f448-a4ac6d4d0d12"
   },
   "outputs": [
    {
     "name": "stdout",
     "output_type": "stream",
     "text": [
      "total training cat images: 1000\n",
      "total training dog images: 1000\n",
      "total validation cat images: 500\n",
      "total validation dog images: 500\n",
      "total test cat images: 500\n",
      "total test dog images: 500\n"
     ]
    }
   ],
   "source": [
    "original_dataset_dir = 'source_data/train'\n",
    "\n",
    "\n",
    "#getting 1000 cats pictures for training\n",
    "fnames = ['cat.{}.jpg'.format(i) for i in range(1000)]\n",
    "\n",
    "for fname in fnames:\n",
    "    src = os.path.join(original_dataset_dir, fname)\n",
    "    dst = os.path.join(train_cats_dir, fname)\n",
    "    shutil.copyfile(src, dst)\n",
    "#!ls cats_and_dogs_small/train/cats\n",
    "\n",
    "#getting 500 cats pictures for validation\n",
    "fnames = ['cat.{}.jpg'.format(i) for i in range(1000, 1500)]\n",
    "for fname in fnames:\n",
    "    src = os.path.join(original_dataset_dir, fname)\n",
    "    dst = os.path.join(validation_cats_dir, fname)\n",
    "    shutil.copyfile(src, dst)\n",
    "\n",
    "#getting 500 cats pictures for testing\n",
    "fnames = ['cat.{}.jpg'.format(i) for i in range(1500, 2000)]\n",
    "for fname in fnames:\n",
    "    src = os.path.join(original_dataset_dir, fname)\n",
    "    dst = os.path.join(test_cats_dir, fname)\n",
    "    shutil.copyfile(src, dst)\n",
    "\n",
    "#getting 1000 dogs pics for training\n",
    "fnames = ['dog.{}.jpg'.format(i) for i in range(1000)]\n",
    "for fname in fnames:\n",
    "    src = os.path.join(original_dataset_dir, fname)\n",
    "    dst = os.path.join(train_dogs_dir, fname)\n",
    "    shutil.copyfile(src, dst)\n",
    "\n",
    "#getting 500 dogs pics for testing\n",
    "fnames = ['dog.{}.jpg'.format(i) for i in range(1000, 1500)]\n",
    "for fname in fnames:\n",
    "    src = os.path.join(original_dataset_dir, fname)\n",
    "    dst = os.path.join(validation_dogs_dir, fname)\n",
    "    shutil.copyfile(src, dst)\n",
    "\n",
    "##getting 500 dogs pics for validation\n",
    "fnames = ['dog.{}.jpg'.format(i) for i in range(1500, 2000)]\n",
    "for fname in fnames:\n",
    "    src = os.path.join(original_dataset_dir, fname)\n",
    "    dst = os.path.join(test_dogs_dir, fname)\n",
    "    shutil.copyfile(src, dst)\n",
    "\n",
    "\n",
    "print('total training cat images:', len(os.listdir(train_cats_dir)))\n",
    "print('total training dog images:', len(os.listdir(train_dogs_dir)))\n",
    "print('total validation cat images:', len(os.listdir(validation_cats_dir)))\n",
    "print('total validation dog images:', len(os.listdir(validation_dogs_dir)))\n",
    "print('total test cat images:', len(os.listdir(test_cats_dir)))\n",
    "print('total test dog images:', len(os.listdir(test_dogs_dir)))"
   ]
  },
  {
   "cell_type": "code",
   "execution_count": 0,
   "metadata": {
    "colab": {},
    "colab_type": "code",
    "id": "EPk891oI8Uqv"
   },
   "outputs": [],
   "source": [
    "!mv cats_and_dogs_small \"/content/drive/My Drive/Colab Notebooks/\"\n",
    "\n",
    "# Congratulations: \n",
    "# Finally we've saved our small data in my drive, now it will never loss\n",
    "# but the base directory is changed now: \n",
    "# base_dir = 'drive/My Drive/Colab Notebooks/cats_and_dogs_small'"
   ]
  },
  {
   "cell_type": "markdown",
   "metadata": {
    "colab_type": "text",
    "id": "x5Ce2_2dxiEN"
   },
   "source": [
    "### 1- Feature Extraction"
   ]
  },
  {
   "cell_type": "code",
   "execution_count": 0,
   "metadata": {
    "colab": {
     "base_uri": "https://localhost:8080/",
     "height": 73
    },
    "colab_type": "code",
    "executionInfo": {
     "elapsed": 15473,
     "status": "ok",
     "timestamp": 1590150743949,
     "user": {
      "displayName": "Saad Bhai",
      "photoUrl": "https://lh3.googleusercontent.com/a-/AOh14GiLfpvuiSwhAy7yVDislPLLwiXBqw2qqZWdd2Xr6Q=s64",
      "userId": "13174767008672359346"
     },
     "user_tz": -300
    },
    "id": "IffVZsVBjFzU",
    "outputId": "c7bb2053-ad29-4fce-f8be-3b752d5fbe1e"
   },
   "outputs": [
    {
     "name": "stdout",
     "output_type": "stream",
     "text": [
      "Downloading data from https://github.com/fchollet/deep-learning-models/releases/download/v0.1/vgg16_weights_tf_dim_ordering_tf_kernels_notop.h5\n",
      "58892288/58889256 [==============================] - 5s 0us/step\n"
     ]
    }
   ],
   "source": [
    "# Listing 5.16 - Instantiating the VGG16 convolutional base\n",
    "\n",
    "from keras.applications import VGG16\n",
    "conv_base = VGG16(weights = 'imagenet', include_top=False, input_shape=(150,150,3))\n",
    "\n",
    "# weights: specifies the weight checkpoint from which to initialize the model\n",
    "# time taken = same as blink of eyes"
   ]
  },
  {
   "cell_type": "code",
   "execution_count": 0,
   "metadata": {
    "colab": {
     "base_uri": "https://localhost:8080/",
     "height": 854
    },
    "colab_type": "code",
    "executionInfo": {
     "elapsed": 1299,
     "status": "ok",
     "timestamp": 1590144738437,
     "user": {
      "displayName": "Saad Bhai",
      "photoUrl": "https://lh3.googleusercontent.com/a-/AOh14GiLfpvuiSwhAy7yVDislPLLwiXBqw2qqZWdd2Xr6Q=s64",
      "userId": "13174767008672359346"
     },
     "user_tz": -300
    },
    "id": "-fhbWaZ9xsSg",
    "outputId": "79f6cc97-de1a-4c2b-a78f-2d70fb647337"
   },
   "outputs": [
    {
     "name": "stdout",
     "output_type": "stream",
     "text": [
      "Model: \"vgg16\"\n",
      "_________________________________________________________________\n",
      "Layer (type)                 Output Shape              Param #   \n",
      "=================================================================\n",
      "input_1 (InputLayer)         (None, 150, 150, 3)       0         \n",
      "_________________________________________________________________\n",
      "block1_conv1 (Conv2D)        (None, 150, 150, 64)      1792      \n",
      "_________________________________________________________________\n",
      "block1_conv2 (Conv2D)        (None, 150, 150, 64)      36928     \n",
      "_________________________________________________________________\n",
      "block1_pool (MaxPooling2D)   (None, 75, 75, 64)        0         \n",
      "_________________________________________________________________\n",
      "block2_conv1 (Conv2D)        (None, 75, 75, 128)       73856     \n",
      "_________________________________________________________________\n",
      "block2_conv2 (Conv2D)        (None, 75, 75, 128)       147584    \n",
      "_________________________________________________________________\n",
      "block2_pool (MaxPooling2D)   (None, 37, 37, 128)       0         \n",
      "_________________________________________________________________\n",
      "block3_conv1 (Conv2D)        (None, 37, 37, 256)       295168    \n",
      "_________________________________________________________________\n",
      "block3_conv2 (Conv2D)        (None, 37, 37, 256)       590080    \n",
      "_________________________________________________________________\n",
      "block3_conv3 (Conv2D)        (None, 37, 37, 256)       590080    \n",
      "_________________________________________________________________\n",
      "block3_pool (MaxPooling2D)   (None, 18, 18, 256)       0         \n",
      "_________________________________________________________________\n",
      "block4_conv1 (Conv2D)        (None, 18, 18, 512)       1180160   \n",
      "_________________________________________________________________\n",
      "block4_conv2 (Conv2D)        (None, 18, 18, 512)       2359808   \n",
      "_________________________________________________________________\n",
      "block4_conv3 (Conv2D)        (None, 18, 18, 512)       2359808   \n",
      "_________________________________________________________________\n",
      "block4_pool (MaxPooling2D)   (None, 9, 9, 512)         0         \n",
      "_________________________________________________________________\n",
      "block5_conv1 (Conv2D)        (None, 9, 9, 512)         2359808   \n",
      "_________________________________________________________________\n",
      "block5_conv2 (Conv2D)        (None, 9, 9, 512)         2359808   \n",
      "_________________________________________________________________\n",
      "block5_conv3 (Conv2D)        (None, 9, 9, 512)         2359808   \n",
      "_________________________________________________________________\n",
      "block5_pool (MaxPooling2D)   (None, 4, 4, 512)         0         \n",
      "=================================================================\n",
      "Total params: 14,714,688\n",
      "Trainable params: 14,714,688\n",
      "Non-trainable params: 0\n",
      "_________________________________________________________________\n"
     ]
    }
   ],
   "source": [
    "conv_base.summary()\n",
    "\n",
    "\n",
    "# Observation: There are a total of 5 blocks. Block 1 and 2 have 2,2 conv2d layers,\n",
    "# Block 3 till block 5 have 3,3 conv2d layers.\n",
    "\n",
    "# Summary of output shape after each block:\n",
    "# - 150,150,3 (input of convolutional base)\n",
    "# - 75,75,64\n",
    "# - 37,37,128\n",
    "# - 18,18,256\n",
    "# - 9,9,256\n",
    "# - 4,4,512   (output of convolutional base)"
   ]
  },
  {
   "cell_type": "markdown",
   "metadata": {
    "colab_type": "text",
    "id": "7earqPn3FClN"
   },
   "source": [
    "Two ways to proceed:\n",
    "1- fast feature extraction without data augmentation\n",
    "2- feature extraction with data augmentation"
   ]
  },
  {
   "cell_type": "markdown",
   "metadata": {
    "colab_type": "text",
    "id": "1QCP6zfjFQ7f"
   },
   "source": [
    "#### Fast feature extraction without data augmentation "
   ]
  },
  {
   "cell_type": "code",
   "execution_count": 0,
   "metadata": {
    "colab": {},
    "colab_type": "code",
    "id": "NtwTQ9f6xtv_"
   },
   "outputs": [],
   "source": [
    "# Listing 5.17 - Extracting features using the pretrained convolutional base\n",
    "\n",
    "import os\n",
    "import numpy as np\n",
    "from keras.preprocessing.image import ImageDataGenerator\n",
    "\n",
    "base_dir = 'drive/My Drive/Colab Notebooks/cats_and_dogs_small'\n",
    "train_dir = os.path.join(base_dir, 'train')\n",
    "validation_dir = os.path.join(base_dir, 'validation')\n",
    "test_dir = os.path.join(base_dir, 'test')\n",
    "\n",
    "datagen = ImageDataGenerator(rescale = 1./255)\n",
    "# batch size is equal to 20\n",
    "\n",
    "def extract_features(directory, sample_count):\n",
    "  features = np.zeros((sample_count,4,4,512))\n",
    "  labels = np.zeros((sample_count))            # excluding syntax: shape\n",
    "\n",
    "  generator = datagen.flow_from_directory(\n",
    "      directory,\n",
    "      target_size = (150,150),\n",
    "      batch_size = 20,\n",
    "      class_mode = 'binary')\n",
    "  \n",
    "  i=0\n",
    "  for inputs_batch, labels_batch in generator:      # i want to check what is the datatype of both batches\n",
    "    features_batch = conv_base.predict(inputs_batch)\n",
    "    features[i*20 : (i+1)*20] = features_batch\n",
    "    labels[i*20 : (i+1)*20] = labels_batch\n",
    "    i+=1           \n",
    "    if i*20 >= sample_count:\n",
    "      break                # for train data 100 is the range of i\n",
    "  return features, labels\n",
    "  "
   ]
  },
  {
   "cell_type": "code",
   "execution_count": 0,
   "metadata": {
    "colab": {
     "base_uri": "https://localhost:8080/",
     "height": 72
    },
    "colab_type": "code",
    "executionInfo": {
     "elapsed": 43090,
     "status": "ok",
     "timestamp": 1590144891110,
     "user": {
      "displayName": "Saad Bhai",
      "photoUrl": "https://lh3.googleusercontent.com/a-/AOh14GiLfpvuiSwhAy7yVDislPLLwiXBqw2qqZWdd2Xr6Q=s64",
      "userId": "13174767008672359346"
     },
     "user_tz": -300
    },
    "id": "qn0gyz_DH2Ec",
    "outputId": "fff6547b-812a-499e-c789-3891be538d56"
   },
   "outputs": [
    {
     "name": "stdout",
     "output_type": "stream",
     "text": [
      "Found 2000 images belonging to 2 classes.\n",
      "Found 1000 images belonging to 2 classes.\n",
      "Found 1000 images belonging to 2 classes.\n"
     ]
    }
   ],
   "source": [
    "train_features, train_labels = extract_features(train_dir, 2000)\n",
    "validation_features, validation_labels = extract_features(validation_dir, 1000)\n",
    "test_features, test_labels = extract_features(test_dir, 1000)\n",
    "# Flattening:\n",
    "train_features = np.reshape(train_features, (2000,4*4*512))\n",
    "validation_features = np.reshape(validation_features, (1000,4*4*512))\n",
    "test_features = np.reshape(test_features, (1000,4*4*512))\n",
    "\n",
    "#time taken = around 10s"
   ]
  },
  {
   "cell_type": "code",
   "execution_count": 0,
   "metadata": {
    "colab": {
     "base_uri": "https://localhost:8080/",
     "height": 1000
    },
    "colab_type": "code",
    "executionInfo": {
     "elapsed": 24451,
     "status": "ok",
     "timestamp": 1590145030437,
     "user": {
      "displayName": "Saad Bhai",
      "photoUrl": "https://lh3.googleusercontent.com/a-/AOh14GiLfpvuiSwhAy7yVDislPLLwiXBqw2qqZWdd2Xr6Q=s64",
      "userId": "13174767008672359346"
     },
     "user_tz": -300
    },
    "id": "kB_3IVs2NtGX",
    "outputId": "d6e85a2c-193e-48f2-ba30-d03642cae1f4"
   },
   "outputs": [
    {
     "name": "stdout",
     "output_type": "stream",
     "text": [
      "Train on 2000 samples, validate on 1000 samples\n",
      "Epoch 1/30\n",
      "2000/2000 [==============================] - 1s 519us/step - loss: 0.6804 - acc: 0.6075 - val_loss: 0.4755 - val_acc: 0.8150\n",
      "Epoch 2/30\n",
      "2000/2000 [==============================] - 1s 371us/step - loss: 0.4514 - acc: 0.7910 - val_loss: 0.3792 - val_acc: 0.8600\n",
      "Epoch 3/30\n",
      "2000/2000 [==============================] - 1s 368us/step - loss: 0.3725 - acc: 0.8355 - val_loss: 0.3447 - val_acc: 0.8530\n",
      "Epoch 4/30\n",
      "2000/2000 [==============================] - 1s 366us/step - loss: 0.3183 - acc: 0.8645 - val_loss: 0.3100 - val_acc: 0.8820\n",
      "Epoch 5/30\n",
      "2000/2000 [==============================] - 1s 362us/step - loss: 0.2905 - acc: 0.8810 - val_loss: 0.2996 - val_acc: 0.8750\n",
      "Epoch 6/30\n",
      "2000/2000 [==============================] - 1s 376us/step - loss: 0.2698 - acc: 0.8940 - val_loss: 0.2750 - val_acc: 0.9000\n",
      "Epoch 7/30\n",
      "2000/2000 [==============================] - 1s 364us/step - loss: 0.2456 - acc: 0.9040 - val_loss: 0.2741 - val_acc: 0.8930\n",
      "Epoch 8/30\n",
      "2000/2000 [==============================] - 1s 372us/step - loss: 0.2304 - acc: 0.9120 - val_loss: 0.2603 - val_acc: 0.9000\n",
      "Epoch 9/30\n",
      "2000/2000 [==============================] - 1s 364us/step - loss: 0.2163 - acc: 0.9200 - val_loss: 0.2546 - val_acc: 0.9020\n",
      "Epoch 10/30\n",
      "2000/2000 [==============================] - 1s 372us/step - loss: 0.2109 - acc: 0.9205 - val_loss: 0.2512 - val_acc: 0.9040\n",
      "Epoch 11/30\n",
      "2000/2000 [==============================] - 1s 362us/step - loss: 0.2016 - acc: 0.9200 - val_loss: 0.2478 - val_acc: 0.9070\n",
      "Epoch 12/30\n",
      "2000/2000 [==============================] - 1s 368us/step - loss: 0.1864 - acc: 0.9350 - val_loss: 0.2442 - val_acc: 0.9070\n",
      "Epoch 13/30\n",
      "2000/2000 [==============================] - 1s 379us/step - loss: 0.1816 - acc: 0.9350 - val_loss: 0.2442 - val_acc: 0.9060\n",
      "Epoch 14/30\n",
      "2000/2000 [==============================] - 1s 373us/step - loss: 0.1669 - acc: 0.9415 - val_loss: 0.2409 - val_acc: 0.9080\n",
      "Epoch 15/30\n",
      "2000/2000 [==============================] - 1s 373us/step - loss: 0.1678 - acc: 0.9410 - val_loss: 0.2389 - val_acc: 0.9100\n",
      "Epoch 16/30\n",
      "2000/2000 [==============================] - 1s 370us/step - loss: 0.1552 - acc: 0.9470 - val_loss: 0.2376 - val_acc: 0.9110\n",
      "Epoch 17/30\n",
      "2000/2000 [==============================] - 1s 364us/step - loss: 0.1526 - acc: 0.9505 - val_loss: 0.2379 - val_acc: 0.9090\n",
      "Epoch 18/30\n",
      "2000/2000 [==============================] - 1s 363us/step - loss: 0.1437 - acc: 0.9465 - val_loss: 0.2372 - val_acc: 0.9070\n",
      "Epoch 19/30\n",
      "2000/2000 [==============================] - 1s 367us/step - loss: 0.1366 - acc: 0.9555 - val_loss: 0.2386 - val_acc: 0.9110\n",
      "Epoch 20/30\n",
      "2000/2000 [==============================] - 1s 371us/step - loss: 0.1275 - acc: 0.9565 - val_loss: 0.2376 - val_acc: 0.9030\n",
      "Epoch 21/30\n",
      "2000/2000 [==============================] - 1s 377us/step - loss: 0.1271 - acc: 0.9535 - val_loss: 0.2359 - val_acc: 0.9050\n",
      "Epoch 22/30\n",
      "2000/2000 [==============================] - 1s 371us/step - loss: 0.1253 - acc: 0.9620 - val_loss: 0.2391 - val_acc: 0.9080\n",
      "Epoch 23/30\n",
      "2000/2000 [==============================] - 1s 380us/step - loss: 0.1195 - acc: 0.9640 - val_loss: 0.2369 - val_acc: 0.9090\n",
      "Epoch 24/30\n",
      "2000/2000 [==============================] - 1s 379us/step - loss: 0.1098 - acc: 0.9635 - val_loss: 0.2356 - val_acc: 0.9080\n",
      "Epoch 25/30\n",
      "2000/2000 [==============================] - 1s 379us/step - loss: 0.1102 - acc: 0.9640 - val_loss: 0.2447 - val_acc: 0.9060\n",
      "Epoch 26/30\n",
      "2000/2000 [==============================] - 1s 374us/step - loss: 0.1025 - acc: 0.9655 - val_loss: 0.2518 - val_acc: 0.9020\n",
      "Epoch 27/30\n",
      "2000/2000 [==============================] - 1s 379us/step - loss: 0.1010 - acc: 0.9650 - val_loss: 0.2370 - val_acc: 0.9030\n",
      "Epoch 28/30\n",
      "2000/2000 [==============================] - 1s 378us/step - loss: 0.0961 - acc: 0.9690 - val_loss: 0.2386 - val_acc: 0.9100\n",
      "Epoch 29/30\n",
      "2000/2000 [==============================] - 1s 372us/step - loss: 0.0908 - acc: 0.9725 - val_loss: 0.2418 - val_acc: 0.9070\n",
      "Epoch 30/30\n",
      "2000/2000 [==============================] - 1s 378us/step - loss: 0.0892 - acc: 0.9745 - val_loss: 0.2376 - val_acc: 0.9080\n"
     ]
    }
   ],
   "source": [
    "# Listing 5.18 - Defining and training the densely connected classifier\n",
    "\n",
    "from keras import models, layers, optimizers\n",
    "\n",
    "model = models.Sequential()\n",
    "model.add(layers.Dense(256, activation = 'relu', input_dim = 4*4*512))\n",
    "model.add(layers.Dropout(0.5))  # why dropout in between here?\n",
    "model.add(layers.Dense(1, activation = 'sigmoid'))\n",
    "\n",
    "model.compile(optimizer = optimizers.RMSprop(lr=2e-5),\n",
    "              loss = 'binary_crossentropy',\n",
    "              metrics = ['acc'])\n",
    "history = model.fit(train_features, train_labels,    # both are numpy arrays\n",
    "                    epochs = 30,\n",
    "                    batch_size = 20,\n",
    "                    validation_data = (validation_features, validation_labels))\n",
    "\n",
    "# This fit doesn't needs steps_per_epoch and validation_steps\n",
    "# Seems like steps_per_epoch is 2000 here. But not sure."
   ]
  },
  {
   "cell_type": "markdown",
   "metadata": {
    "colab_type": "text",
    "id": "Ux4RrkZMF-Ii"
   },
   "source": [
    "Validation accuracy = 90%"
   ]
  },
  {
   "cell_type": "code",
   "execution_count": 0,
   "metadata": {
    "colab": {
     "base_uri": "https://localhost:8080/",
     "height": 545
    },
    "colab_type": "code",
    "executionInfo": {
     "elapsed": 1858,
     "status": "ok",
     "timestamp": 1590146005077,
     "user": {
      "displayName": "Saad Bhai",
      "photoUrl": "https://lh3.googleusercontent.com/a-/AOh14GiLfpvuiSwhAy7yVDislPLLwiXBqw2qqZWdd2Xr6Q=s64",
      "userId": "13174767008672359346"
     },
     "user_tz": -300
    },
    "id": "YAqXU-I-Dpvr",
    "outputId": "6166b292-00bd-4a52-d449-8997a4dd24a6"
   },
   "outputs": [
    {
     "data": {
      "image/png": "[encoded data removed]",
      "text/plain": [
       "<Figure size 432x288 with 1 Axes>"
      ]
     },
     "metadata": {
      "needs_background": "light",
      "tags": []
     },
     "output_type": "display_data"
    },
    {
     "data": {
      "image/png": "[encoded data removed]",
      "text/plain": [
       "<Figure size 432x288 with 1 Axes>"
      ]
     },
     "metadata": {
      "needs_background": "light",
      "tags": []
     },
     "output_type": "display_data"
    }
   ],
   "source": [
    "# Plotting the results\n",
    "import matplotlib.pyplot as plt\n",
    "\n",
    "acc = history.history['acc']\n",
    "val_acc = history.history['val_acc']\n",
    "loss = history.history['loss']\n",
    "val_loss = history.history['val_loss']\n",
    "\n",
    "epochs = range(1, len(acc)+1)\n",
    "\n",
    "plt.plot(epochs, acc, 'bo', label = 'Training acc')\n",
    "plt.plot(epochs, val_acc, 'b', label = 'Validation acc')\n",
    "plt.title('Training and Validation acc')\n",
    "plt.legend()\n",
    "\n",
    "plt.figure() # for second plot\n",
    "plt.plot(epochs, loss, 'bo', label = 'Training loss')\n",
    "plt.plot(epochs, val_loss, 'b', label = 'Validation loss')\n",
    "plt.title('Training and Validation acc')  # future work: change it to loss\n",
    "plt.legend()\n",
    "\n",
    "plt.show()"
   ]
  },
  {
   "cell_type": "code",
   "execution_count": 0,
   "metadata": {
    "colab": {},
    "colab_type": "code",
    "id": "3P_dfjooDpya"
   },
   "outputs": [],
   "source": [
    "# Nice graph!\n",
    "# Me: It tells that we do not need more epochs, and it is overfitting from the start"
   ]
  },
  {
   "cell_type": "markdown",
   "metadata": {
    "colab_type": "text",
    "id": "beD7AIiTHdAA"
   },
   "source": [
    "But the plots also indicate\n",
    "that you’re overfitting almost from the start—despite using dropout with a fairly large\n",
    "rate."
   ]
  },
  {
   "cell_type": "markdown",
   "metadata": {
    "colab_type": "text",
    "id": "BiaLxWDqHgFe"
   },
   "source": [
    " That’s because this technique doesn’t use data augmentation, which is essential\n",
    "for preventing overfitting with small image datasets."
   ]
  },
  {
   "cell_type": "code",
   "execution_count": 0,
   "metadata": {
    "colab": {},
    "colab_type": "code",
    "id": "lvi70OquIKlf"
   },
   "outputs": [],
   "source": []
  },
  {
   "cell_type": "markdown",
   "metadata": {
    "colab_type": "text",
    "id": "Gd5UOcSvH9Qg"
   },
   "source": [
    "#### Feature extraction with data augmentation"
   ]
  },
  {
   "cell_type": "code",
   "execution_count": 0,
   "metadata": {
    "colab": {
     "base_uri": "https://localhost:8080/",
     "height": 308
    },
    "colab_type": "code",
    "executionInfo": {
     "elapsed": 1219,
     "status": "ok",
     "timestamp": 1590150768850,
     "user": {
      "displayName": "Saad Bhai",
      "photoUrl": "https://lh3.googleusercontent.com/a-/AOh14GiLfpvuiSwhAy7yVDislPLLwiXBqw2qqZWdd2Xr6Q=s64",
      "userId": "13174767008672359346"
     },
     "user_tz": -300
    },
    "id": "Kh-ScoZYGI4F",
    "outputId": "155d02ca-72f8-4b92-ca03-28ae5ad5987b"
   },
   "outputs": [
    {
     "name": "stdout",
     "output_type": "stream",
     "text": [
      "Model: \"sequential_2\"\n",
      "_________________________________________________________________\n",
      "Layer (type)                 Output Shape              Param #   \n",
      "=================================================================\n",
      "vgg16 (Model)                (None, 4, 4, 512)         14714688  \n",
      "_________________________________________________________________\n",
      "flatten_1 (Flatten)          (None, 8192)              0         \n",
      "_________________________________________________________________\n",
      "dense_1 (Dense)              (None, 256)               2097408   \n",
      "_________________________________________________________________\n",
      "dense_2 (Dense)              (None, 1)                 257       \n",
      "=================================================================\n",
      "Total params: 16,812,353\n",
      "Trainable params: 16,812,353\n",
      "Non-trainable params: 0\n",
      "_________________________________________________________________\n"
     ]
    }
   ],
   "source": [
    "# Listing 5.20 Adding a densely connected classifier on top of the convolutional base\n",
    "\n",
    "from keras import models, layers, optimizers\n",
    "\n",
    "model = models.Sequential()\n",
    "model.add(conv_base)\n",
    "model.add(layers.Flatten())\n",
    "model.add(layers.Dense(256, activation = 'relu'))     #not using dropout after this layer\n",
    "model.add(layers.Dense(1, activation = 'sigmoid'))  \n",
    "\n",
    "model.summary()"
   ]
  },
  {
   "cell_type": "code",
   "execution_count": 0,
   "metadata": {
    "colab": {
     "base_uri": "https://localhost:8080/",
     "height": 53
    },
    "colab_type": "code",
    "executionInfo": {
     "elapsed": 1403,
     "status": "ok",
     "timestamp": 1590150779626,
     "user": {
      "displayName": "Saad Bhai",
      "photoUrl": "https://lh3.googleusercontent.com/a-/AOh14GiLfpvuiSwhAy7yVDislPLLwiXBqw2qqZWdd2Xr6Q=s64",
      "userId": "13174767008672359346"
     },
     "user_tz": -300
    },
    "id": "wwg_tEpwGI6q",
    "outputId": "d0ab7d32-7e63-4fcd-e871-9bdd60d89799"
   },
   "outputs": [
    {
     "name": "stdout",
     "output_type": "stream",
     "text": [
      "This is the number of trainable weights before freezing the conv base: 30\n",
      "This is the number of trainable weights after freezing the conv base: 4\n"
     ]
    }
   ],
   "source": [
    "# conv_base.trainable = False, and  No. of weight tensors\n",
    "print('This is the number of trainable weights '\n",
    "'before freezing the conv base:', len(model.trainable_weights))\n",
    "conv_base.trainable = False\n",
    "print('This is the number of trainable weights '\n",
    "'after freezing the conv base:', len(model.trainable_weights))"
   ]
  },
  {
   "cell_type": "code",
   "execution_count": 0,
   "metadata": {
    "colab": {},
    "colab_type": "code",
    "id": "BLrdzTS6ZDp3"
   },
   "outputs": [],
   "source": [
    "# Copied from one of the previous cells:\n",
    "import os\n",
    "base_dir = 'drive/My Drive/Colab Notebooks/cats_and_dogs_small'\n",
    "train_dir = os.path.join(base_dir, 'train')\n",
    "validation_dir = os.path.join(base_dir, 'validation')\n",
    "test_dir = os.path.join(base_dir, 'test')"
   ]
  },
  {
   "cell_type": "code",
   "execution_count": 0,
   "metadata": {
    "colab": {
     "base_uri": "https://localhost:8080/",
     "height": 1000
    },
    "colab_type": "code",
    "executionInfo": {
     "elapsed": 2024350,
     "status": "ok",
     "timestamp": 1590153194719,
     "user": {
      "displayName": "Saad Bhai",
      "photoUrl": "https://lh3.googleusercontent.com/a-/AOh14GiLfpvuiSwhAy7yVDislPLLwiXBqw2qqZWdd2Xr6Q=s64",
      "userId": "13174767008672359346"
     },
     "user_tz": -300
    },
    "id": "viitgWHtGI9f",
    "outputId": "152a5813-5180-4f59-c756-b5d207d740d1"
   },
   "outputs": [
    {
     "name": "stdout",
     "output_type": "stream",
     "text": [
      "Found 2000 images belonging to 2 classes.\n",
      "Found 1000 images belonging to 2 classes.\n",
      "Epoch 1/30\n",
      "100/100 [==============================] - 1460s 15s/step - loss: 0.6062 - acc: 0.6755 - val_loss: 0.4416 - val_acc: 0.8200\n",
      "Epoch 2/30\n",
      "100/100 [==============================] - 20s 203ms/step - loss: 0.4899 - acc: 0.7835 - val_loss: 0.3951 - val_acc: 0.8620\n",
      "Epoch 3/30\n",
      "100/100 [==============================] - 20s 200ms/step - loss: 0.4400 - acc: 0.8115 - val_loss: 0.3319 - val_acc: 0.8810\n",
      "Epoch 4/30\n",
      "100/100 [==============================] - 20s 202ms/step - loss: 0.4057 - acc: 0.8255 - val_loss: 0.2466 - val_acc: 0.8760\n",
      "Epoch 5/30\n",
      "100/100 [==============================] - 20s 203ms/step - loss: 0.3929 - acc: 0.8170 - val_loss: 0.2071 - val_acc: 0.8870\n",
      "Epoch 6/30\n",
      "100/100 [==============================] - 20s 197ms/step - loss: 0.3750 - acc: 0.8395 - val_loss: 0.3906 - val_acc: 0.8900\n",
      "Epoch 7/30\n",
      "100/100 [==============================] - 20s 197ms/step - loss: 0.3595 - acc: 0.8445 - val_loss: 0.4349 - val_acc: 0.8920\n",
      "Epoch 8/30\n",
      "100/100 [==============================] - 20s 197ms/step - loss: 0.3420 - acc: 0.8505 - val_loss: 0.3121 - val_acc: 0.8970\n",
      "Epoch 9/30\n",
      "100/100 [==============================] - 19s 195ms/step - loss: 0.3328 - acc: 0.8605 - val_loss: 0.1982 - val_acc: 0.8900\n",
      "Epoch 10/30\n",
      "100/100 [==============================] - 19s 194ms/step - loss: 0.3312 - acc: 0.8520 - val_loss: 0.1888 - val_acc: 0.8960\n",
      "Epoch 11/30\n",
      "100/100 [==============================] - 19s 194ms/step - loss: 0.3334 - acc: 0.8485 - val_loss: 0.1993 - val_acc: 0.8960\n",
      "Epoch 12/30\n",
      "100/100 [==============================] - 19s 193ms/step - loss: 0.3271 - acc: 0.8580 - val_loss: 0.1906 - val_acc: 0.8960\n",
      "Epoch 13/30\n",
      "100/100 [==============================] - 19s 191ms/step - loss: 0.3334 - acc: 0.8515 - val_loss: 0.3482 - val_acc: 0.8970\n",
      "Epoch 14/30\n",
      "100/100 [==============================] - 19s 191ms/step - loss: 0.3211 - acc: 0.8600 - val_loss: 0.3209 - val_acc: 0.8990\n",
      "Epoch 15/30\n",
      "100/100 [==============================] - 19s 191ms/step - loss: 0.3107 - acc: 0.8540 - val_loss: 0.2288 - val_acc: 0.8860\n",
      "Epoch 16/30\n",
      "100/100 [==============================] - 19s 192ms/step - loss: 0.3054 - acc: 0.8620 - val_loss: 0.2999 - val_acc: 0.8980\n",
      "Epoch 17/30\n",
      "100/100 [==============================] - 19s 191ms/step - loss: 0.3038 - acc: 0.8635 - val_loss: 0.4037 - val_acc: 0.9000\n",
      "Epoch 18/30\n",
      "100/100 [==============================] - 19s 189ms/step - loss: 0.3075 - acc: 0.8680 - val_loss: 0.1900 - val_acc: 0.8990\n",
      "Epoch 19/30\n",
      "100/100 [==============================] - 19s 192ms/step - loss: 0.3045 - acc: 0.8635 - val_loss: 0.1098 - val_acc: 0.9070\n",
      "Epoch 20/30\n",
      "100/100 [==============================] - 19s 189ms/step - loss: 0.3062 - acc: 0.8660 - val_loss: 0.2854 - val_acc: 0.9030\n",
      "Epoch 21/30\n",
      "100/100 [==============================] - 20s 196ms/step - loss: 0.2899 - acc: 0.8770 - val_loss: 0.1463 - val_acc: 0.9000\n",
      "Epoch 22/30\n",
      "100/100 [==============================] - 19s 189ms/step - loss: 0.2844 - acc: 0.8765 - val_loss: 0.1900 - val_acc: 0.8960\n",
      "Epoch 23/30\n",
      "100/100 [==============================] - 19s 188ms/step - loss: 0.2970 - acc: 0.8695 - val_loss: 0.1110 - val_acc: 0.9030\n",
      "Epoch 24/30\n",
      "100/100 [==============================] - 19s 190ms/step - loss: 0.2911 - acc: 0.8805 - val_loss: 0.1827 - val_acc: 0.9050\n",
      "Epoch 25/30\n",
      "100/100 [==============================] - 19s 190ms/step - loss: 0.2860 - acc: 0.8790 - val_loss: 0.1274 - val_acc: 0.9080\n",
      "Epoch 26/30\n",
      "100/100 [==============================] - 19s 189ms/step - loss: 0.2965 - acc: 0.8685 - val_loss: 0.1089 - val_acc: 0.8990\n",
      "Epoch 27/30\n",
      "100/100 [==============================] - 19s 189ms/step - loss: 0.2942 - acc: 0.8700 - val_loss: 0.1014 - val_acc: 0.9050\n",
      "Epoch 28/30\n",
      "100/100 [==============================] - 19s 188ms/step - loss: 0.2820 - acc: 0.8770 - val_loss: 0.2343 - val_acc: 0.9010\n",
      "Epoch 29/30\n",
      "100/100 [==============================] - 19s 190ms/step - loss: 0.2980 - acc: 0.8720 - val_loss: 0.2775 - val_acc: 0.9050\n",
      "Epoch 30/30\n",
      "100/100 [==============================] - 19s 188ms/step - loss: 0.2860 - acc: 0.8780 - val_loss: 0.4104 - val_acc: 0.9020\n"
     ]
    }
   ],
   "source": [
    "# Listing 5.21 - Training the model end to end with a frozen convolutional base\n",
    "from keras.preprocessing.image import ImageDataGenerator\n",
    "\n",
    "train_datagen = ImageDataGenerator(\n",
    "    rescale=1./255,\n",
    "    rotation_range=40,\n",
    "    width_shift_range=0.2,\n",
    "    height_shift_range=0.2,\n",
    "    shear_range=0.2,\n",
    "    zoom_range=0.2,\n",
    "    horizontal_flip=True,\n",
    "    fill_mode='nearest')\n",
    "\n",
    "test_datagen = ImageDataGenerator(rescale=1./255)\n",
    "\n",
    "train_generator = train_datagen.flow_from_directory(\n",
    "    train_dir,\n",
    "    target_size=(150, 150),\n",
    "    batch_size=20,\n",
    "    class_mode='binary')\n",
    "validation_generator = test_datagen.flow_from_directory(\n",
    "    validation_dir,\n",
    "    target_size=(150, 150),\n",
    "    batch_size=20,\n",
    "    class_mode='binary')\n",
    "\n",
    "model.compile(loss='binary_crossentropy',\n",
    "    optimizer=optimizers.RMSprop(lr=2e-5),\n",
    "    metrics=['acc'])\n",
    "\n",
    "history = model.fit(train_generator,\n",
    "    steps_per_epoch=100,\n",
    "    epochs=30,\n",
    "    validation_data=validation_generator,\n",
    "    validation_steps=50)"
   ]
  },
  {
   "cell_type": "code",
   "execution_count": 0,
   "metadata": {
    "colab": {},
    "colab_type": "code",
    "id": "nDfyWRBTakqQ"
   },
   "outputs": [],
   "source": [
    "# Use GPU only.\n",
    "\n",
    "# Observation on fit:\n",
    "# time taken = 35mins (25mins by first epoch and 20s,20s by other epochs)\n",
    "# Each epoch shows the current status out of 100 while training."
   ]
  },
  {
   "cell_type": "code",
   "execution_count": 0,
   "metadata": {
    "colab": {
     "base_uri": "https://localhost:8080/",
     "height": 545
    },
    "colab_type": "code",
    "executionInfo": {
     "elapsed": 1454,
     "status": "ok",
     "timestamp": 1590153972579,
     "user": {
      "displayName": "Saad Bhai",
      "photoUrl": "https://lh3.googleusercontent.com/a-/AOh14GiLfpvuiSwhAy7yVDislPLLwiXBqw2qqZWdd2Xr6Q=s64",
      "userId": "13174767008672359346"
     },
     "user_tz": -300
    },
    "id": "JzfLlVE-XZWv",
    "outputId": "14c82708-b2bc-4d61-cb00-0d0d6868d168"
   },
   "outputs": [
    {
     "data": {
      "image/png": "[encoded data removed]",
      "text/plain": [
       "<Figure size 432x288 with 1 Axes>"
      ]
     },
     "metadata": {
      "needs_background": "light",
      "tags": []
     },
     "output_type": "display_data"
    },
    {
     "data": {
      "image/png": "[encoded data removed]",
      "text/plain": [
       "<Figure size 432x288 with 1 Axes>"
      ]
     },
     "metadata": {
      "needs_background": "light",
      "tags": []
     },
     "output_type": "display_data"
    }
   ],
   "source": [
    "# Plotting the results\n",
    "import matplotlib.pyplot as plt\n",
    "\n",
    "acc = history.history['acc']\n",
    "val_acc = history.history['val_acc']\n",
    "loss = history.history['loss']\n",
    "val_loss = history.history['val_loss']\n",
    "\n",
    "epochs = range(1, len(acc)+1)\n",
    "\n",
    "plt.plot(epochs, acc, 'bo', label = 'Training acc')\n",
    "plt.plot(epochs, val_acc, 'b', label = 'Validation acc')\n",
    "plt.title('Training and Validation acc')\n",
    "plt.legend()\n",
    "\n",
    "plt.figure() # for second plot\n",
    "plt.plot(epochs, loss, 'bo', label = 'Training loss')\n",
    "plt.plot(epochs, val_loss, 'b', label = 'Validation loss')\n",
    "plt.title('Training and Validation loss')\n",
    "plt.legend()\n",
    "\n",
    "plt.show()"
   ]
  },
  {
   "cell_type": "code",
   "execution_count": 0,
   "metadata": {
    "colab": {},
    "colab_type": "code",
    "id": "Ob2y70sSlRKi"
   },
   "outputs": [],
   "source": []
  },
  {
   "cell_type": "code",
   "execution_count": 0,
   "metadata": {
    "colab": {},
    "colab_type": "code",
    "id": "Hd3nC0nelPEB"
   },
   "outputs": [],
   "source": [
    "# Saving:"
   ]
  },
  {
   "cell_type": "code",
   "execution_count": 0,
   "metadata": {
    "colab": {},
    "colab_type": "code",
    "id": "tcnuC2uOXcdN"
   },
   "outputs": [],
   "source": [
    "model.save('cats_and_dogs_small_4.h5')"
   ]
  },
  {
   "cell_type": "code",
   "execution_count": 0,
   "metadata": {
    "colab": {},
    "colab_type": "code",
    "id": "1LwjXfS7lNeV"
   },
   "outputs": [],
   "source": [
    "import pickle\n",
    "\n",
    "modelStoragePath = ''\n",
    "def saveData(model, history, iteration):\n",
    "    modelFile = modelStoragePath + \"model_cats_dogs_small\" + str(iteration).strip() + \".h5\"\n",
    "    historyFile = modelStoragePath + \"History_cats_and_dogs_small\" + str(iteration).strip() + \".pkle\"\n",
    "    model.save(modelFile)\n",
    "    #saving history file too\n",
    "    with open(historyFile, 'wb') as file_pi:\n",
    "        pickle.dump(history.history, file_pi)\n",
    "    return modelFile, historyFile\n",
    "\n",
    "import tensorflow.keras.models\n",
    "def loadData(iteration):\n",
    "    modelFile = modelStoragePath + \"model_cats_dogs_small\" + str(iteration).strip() + \".h5\"\n",
    "    historyFile = modelStoragePath + \"History_cats_and_dogs_small\" + str(iteration).strip() + \".pkle\"\n",
    "    model = models.load_model(modelFile)\n",
    "    with open(historyFile, 'rb') as file_pi:\n",
    "        history = pickle.load(file_pi)\n",
    "    return model, history"
   ]
  },
  {
   "cell_type": "code",
   "execution_count": 0,
   "metadata": {
    "colab": {
     "base_uri": "https://localhost:8080/",
     "height": 35
    },
    "colab_type": "code",
    "executionInfo": {
     "elapsed": 1244,
     "status": "ok",
     "timestamp": 1590154514684,
     "user": {
      "displayName": "Saad Bhai",
      "photoUrl": "https://lh3.googleusercontent.com/a-/AOh14GiLfpvuiSwhAy7yVDislPLLwiXBqw2qqZWdd2Xr6Q=s64",
      "userId": "13174767008672359346"
     },
     "user_tz": -300
    },
    "id": "iRd0z6l5lT8u",
    "outputId": "7f15b436-c59b-4bf9-e325-30491ff89ca6"
   },
   "outputs": [
    {
     "name": "stdout",
     "output_type": "stream",
     "text": [
      "model_cats_dogs_small41.h5 History_cats_and_dogs_small41.pkle  Saved\n"
     ]
    }
   ],
   "source": [
    "modelFile, historyFile = saveData(model, history, iteration = 41)\n",
    "print(modelFile, historyFile, \" Saved\")"
   ]
  },
  {
   "cell_type": "code",
   "execution_count": 0,
   "metadata": {
    "colab": {},
    "colab_type": "code",
    "id": "uX2VXiSKmYS9"
   },
   "outputs": [],
   "source": [
    "# Congrats: Saving successful\n",
    "# Single line command and sir's huge function results in a model of equal size"
   ]
  },
  {
   "cell_type": "code",
   "execution_count": 0,
   "metadata": {
    "colab": {},
    "colab_type": "code",
    "id": "DHaxgabDUAHo"
   },
   "outputs": [],
   "source": [
    "# Rough\n",
    "# I remember that I have disabled auto filling in settings"
   ]
  }
 ],
 "metadata": {
  "accelerator": "GPU",
  "colab": {
   "authorship_tag": "ABX9TyOg+hUXTJdkZT09cg9h0Vjm",
   "collapsed_sections": [],
   "name": "cnn_5.ipynb",
   "provenance": []
  },
  "kernelspec": {
   "display_name": "Python 3",
   "language": "python",
   "name": "python3"
  },
  "language_info": {
   "codemirror_mode": {
    "name": "ipython",
    "version": 3
   },
   "file_extension": ".py",
   "mimetype": "text/x-python",
   "name": "python",
   "nbconvert_exporter": "python",
   "pygments_lexer": "ipython3",
   "version": "3.7.3"
  }
 },
 "nbformat": 4,
 "nbformat_minor": 1
}
