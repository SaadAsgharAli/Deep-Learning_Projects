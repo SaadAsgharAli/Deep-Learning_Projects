{
  "nbformat": 4,
  "nbformat_minor": 0,
  "metadata": {
    "colab": {
      "name": "CIFAR10 wrong preds.ipynb",
      "provenance": [],
      "collapsed_sections": [
        "NXyDgLTBmiPs"
      ]
    },
    "kernelspec": {
      "name": "python3",
      "display_name": "Python 3"
    },
    "language_info": {
      "name": "python"
    },
    "gpuClass": "standard",
    "accelerator": "GPU"
  },
  "cells": [
    {
      "cell_type": "markdown",
      "source": [
        "This notebook is related to **\"TESTING\"**"
      ],
      "metadata": {
        "id": "dNSyb4OKaPTb"
      }
    },
    {
      "cell_type": "code",
      "execution_count": null,
      "metadata": {
        "id": "wYxs6loqTpr-"
      },
      "outputs": [],
      "source": [
        "# FIRST build and train the model to run the cells in TESTING section"
      ]
    },
    {
      "cell_type": "code",
      "source": [
        "# Skip Model section"
      ],
      "metadata": {
        "id": "kZm3y_oJ6Jtf"
      },
      "execution_count": null,
      "outputs": []
    },
    {
      "cell_type": "markdown",
      "source": [
        "#### **MODEL**"
      ],
      "metadata": {
        "id": "NXyDgLTBmiPs"
      }
    },
    {
      "cell_type": "code",
      "source": [
        "from tensorflow.keras.datasets import cifar10\n",
        "import matplotlib.pyplot as plt\n",
        "from tensorflow.keras.optimizers import Adam\n",
        "from tensorflow.keras.models import Model, Sequential\n",
        "from tensorflow.keras.layers import Conv2D, BatchNormalization, MaxPooling2D, Dropout, Dense, Flatten"
      ],
      "metadata": {
        "id": "MhiQv1Xwaccf"
      },
      "execution_count": 3,
      "outputs": []
    },
    {
      "cell_type": "code",
      "source": [
        "# The CIFAR10 dataset contains 60,000 color images in 10 classes, \n",
        "# with 6,000 images in each class. The dataset is divided into 50,000 training\n",
        "# images and 10,000 testing images.\n",
        "data = cifar10\n",
        "(X_train, Y_train), (X_test, Y_test) = data.load_data()"
      ],
      "metadata": {
        "id": "Tt2vW15cace3",
        "colab": {
          "base_uri": "https://localhost:8080/"
        },
        "outputId": "9e0ccb7b-17a2-4f1c-a4a8-320efe1c8eb1"
      },
      "execution_count": 4,
      "outputs": [
        {
          "output_type": "stream",
          "name": "stdout",
          "text": [
            "Downloading data from https://www.cs.toronto.edu/~kriz/cifar-10-python.tar.gz\n",
            "170500096/170498071 [==============================] - 6s 0us/step\n",
            "170508288/170498071 [==============================] - 6s 0us/step\n"
          ]
        }
      ]
    },
    {
      "cell_type": "code",
      "source": [
        "from tensorflow import keras\n",
        "from tensorflow.keras import layers\n",
        "inputs = keras.Input(shape=(32, 32, 3))\n",
        "x = layers.Conv2D(filters=32, kernel_size=3, activation=\"relu\")(inputs)\n",
        "x = layers.BatchNormalization()(x)      \n",
        "x = layers.Conv2D(filters=32, kernel_size=3, activation=\"relu\", padding='same')(x)\n",
        "x = layers.BatchNormalization()(x)      \n",
        "  # removed MaxPooling                                        \n",
        "x = layers.Dropout(0.2)(x)             \n",
        "\n",
        "x = layers.Conv2D(filters=64, kernel_size=3, activation=\"relu\", padding='same')(x)\n",
        "x = layers.BatchNormalization()(x)      \n",
        "x = layers.Conv2D(filters=64, kernel_size=3, activation=\"relu\", padding='same')(x)\n",
        "x = layers.BatchNormalization()(x)      \n",
        "x = layers.MaxPooling2D(pool_size=2)(x)\n",
        "x = layers.Dropout(0.3)(x)         \n",
        "\n",
        "x = layers.Conv2D(filters=128, kernel_size=3, activation=\"relu\", padding='same')(x)\n",
        "x = layers.BatchNormalization()(x)   \n",
        "x = layers.Conv2D(filters=128, kernel_size=3, activation=\"relu\", padding='same')(x)\n",
        "x = layers.BatchNormalization()(x)   \n",
        "x = layers.MaxPooling2D(pool_size=2)(x)\n",
        "x = layers.Dropout(0.4)(x)\n",
        "\n",
        "x = layers.Conv2D(filters=256, kernel_size=3, activation=\"relu\", padding='same')(x)\n",
        "x = layers.BatchNormalization()(x)   \n",
        "x = layers.Conv2D(filters=256, kernel_size=3, activation=\"relu\", padding='same')(x)\n",
        "x = layers.BatchNormalization()(x)   \n",
        "x = layers.MaxPooling2D(pool_size=2)(x)\n",
        "x = layers.Dropout(0.5)(x)     \n",
        "\n",
        "x = layers.Flatten()(x)\n",
        "x = layers.Dense(128, activation='relu')(x)\n",
        "x = layers.BatchNormalization()(x)\n",
        "x = layers.Dropout(0.5)(x)              # added\n",
        "outputs = layers.Dense(10, activation=\"softmax\")(x)\n",
        "\n",
        "model = keras.Model(inputs=inputs, outputs=outputs)\n",
        "model.summary()"
      ],
      "metadata": {
        "id": "V4nezC2oniok",
        "colab": {
          "base_uri": "https://localhost:8080/"
        },
        "outputId": "57f0c89e-6cec-43ff-b2c7-c691c66c853d"
      },
      "execution_count": null,
      "outputs": [
        {
          "output_type": "stream",
          "name": "stdout",
          "text": [
            "Model: \"model\"\n",
            "_________________________________________________________________\n",
            " Layer (type)                Output Shape              Param #   \n",
            "=================================================================\n",
            " input_1 (InputLayer)        [(None, 32, 32, 3)]       0         \n",
            "                                                                 \n",
            " conv2d (Conv2D)             (None, 30, 30, 32)        896       \n",
            "                                                                 \n",
            " batch_normalization (BatchN  (None, 30, 30, 32)       128       \n",
            " ormalization)                                                   \n",
            "                                                                 \n",
            " conv2d_1 (Conv2D)           (None, 30, 30, 32)        9248      \n",
            "                                                                 \n",
            " batch_normalization_1 (Batc  (None, 30, 30, 32)       128       \n",
            " hNormalization)                                                 \n",
            "                                                                 \n",
            " dropout (Dropout)           (None, 30, 30, 32)        0         \n",
            "                                                                 \n",
            " conv2d_2 (Conv2D)           (None, 30, 30, 64)        18496     \n",
            "                                                                 \n",
            " batch_normalization_2 (Batc  (None, 30, 30, 64)       256       \n",
            " hNormalization)                                                 \n",
            "                                                                 \n",
            " conv2d_3 (Conv2D)           (None, 30, 30, 64)        36928     \n",
            "                                                                 \n",
            " batch_normalization_3 (Batc  (None, 30, 30, 64)       256       \n",
            " hNormalization)                                                 \n",
            "                                                                 \n",
            " max_pooling2d (MaxPooling2D  (None, 15, 15, 64)       0         \n",
            " )                                                               \n",
            "                                                                 \n",
            " dropout_1 (Dropout)         (None, 15, 15, 64)        0         \n",
            "                                                                 \n",
            " conv2d_4 (Conv2D)           (None, 15, 15, 128)       73856     \n",
            "                                                                 \n",
            " batch_normalization_4 (Batc  (None, 15, 15, 128)      512       \n",
            " hNormalization)                                                 \n",
            "                                                                 \n",
            " conv2d_5 (Conv2D)           (None, 15, 15, 128)       147584    \n",
            "                                                                 \n",
            " batch_normalization_5 (Batc  (None, 15, 15, 128)      512       \n",
            " hNormalization)                                                 \n",
            "                                                                 \n",
            " max_pooling2d_1 (MaxPooling  (None, 7, 7, 128)        0         \n",
            " 2D)                                                             \n",
            "                                                                 \n",
            " dropout_2 (Dropout)         (None, 7, 7, 128)         0         \n",
            "                                                                 \n",
            " conv2d_6 (Conv2D)           (None, 7, 7, 256)         295168    \n",
            "                                                                 \n",
            " batch_normalization_6 (Batc  (None, 7, 7, 256)        1024      \n",
            " hNormalization)                                                 \n",
            "                                                                 \n",
            " conv2d_7 (Conv2D)           (None, 7, 7, 256)         590080    \n",
            "                                                                 \n",
            " batch_normalization_7 (Batc  (None, 7, 7, 256)        1024      \n",
            " hNormalization)                                                 \n",
            "                                                                 \n",
            " max_pooling2d_2 (MaxPooling  (None, 3, 3, 256)        0         \n",
            " 2D)                                                             \n",
            "                                                                 \n",
            " dropout_3 (Dropout)         (None, 3, 3, 256)         0         \n",
            "                                                                 \n",
            " flatten (Flatten)           (None, 2304)              0         \n",
            "                                                                 \n",
            " dense (Dense)               (None, 128)               295040    \n",
            "                                                                 \n",
            " batch_normalization_8 (Batc  (None, 128)              512       \n",
            " hNormalization)                                                 \n",
            "                                                                 \n",
            " dropout_4 (Dropout)         (None, 128)               0         \n",
            "                                                                 \n",
            " dense_1 (Dense)             (None, 10)                1290      \n",
            "                                                                 \n",
            "=================================================================\n",
            "Total params: 1,472,938\n",
            "Trainable params: 1,470,762\n",
            "Non-trainable params: 2,176\n",
            "_________________________________________________________________\n"
          ]
        }
      ]
    },
    {
      "cell_type": "code",
      "source": [
        "model.compile(loss='sparse_categorical_crossentropy', optimizer=\"Adam\", metrics=['accuracy'])"
      ],
      "metadata": {
        "id": "kGVAqI5anK70"
      },
      "execution_count": null,
      "outputs": []
    },
    {
      "cell_type": "code",
      "source": [
        "history = model.fit(X_train,Y_train,epochs=50,batch_size=64)"
      ],
      "metadata": {
        "id": "n_iq1X_QnK-a",
        "colab": {
          "base_uri": "https://localhost:8080/"
        },
        "outputId": "ca9a6ac5-8514-4347-c220-d61e491416b0"
      },
      "execution_count": null,
      "outputs": [
        {
          "output_type": "stream",
          "name": "stdout",
          "text": [
            "Epoch 1/50\n",
            "782/782 [==============================] - 36s 26ms/step - loss: 1.6966 - accuracy: 0.4231\n",
            "Epoch 2/50\n",
            "782/782 [==============================] - 17s 21ms/step - loss: 1.0383 - accuracy: 0.6331\n",
            "Epoch 3/50\n",
            "782/782 [==============================] - 16s 21ms/step - loss: 0.8266 - accuracy: 0.7123\n",
            "Epoch 4/50\n",
            "782/782 [==============================] - 17s 21ms/step - loss: 0.7153 - accuracy: 0.7552\n",
            "Epoch 5/50\n",
            "782/782 [==============================] - 17s 21ms/step - loss: 0.6387 - accuracy: 0.7840\n",
            "Epoch 6/50\n",
            "782/782 [==============================] - 17s 22ms/step - loss: 0.5775 - accuracy: 0.8017\n",
            "Epoch 7/50\n",
            "782/782 [==============================] - 17s 22ms/step - loss: 0.5275 - accuracy: 0.8210\n",
            "Epoch 8/50\n",
            "782/782 [==============================] - 17s 22ms/step - loss: 0.4804 - accuracy: 0.8390\n",
            "Epoch 9/50\n",
            "782/782 [==============================] - 17s 22ms/step - loss: 0.4469 - accuracy: 0.8455\n",
            "Epoch 10/50\n",
            "782/782 [==============================] - 17s 22ms/step - loss: 0.4198 - accuracy: 0.8558\n",
            "Epoch 11/50\n",
            "782/782 [==============================] - 17s 22ms/step - loss: 0.3944 - accuracy: 0.8652\n",
            "Epoch 12/50\n",
            "782/782 [==============================] - 17s 22ms/step - loss: 0.3580 - accuracy: 0.8781\n",
            "Epoch 13/50\n",
            "782/782 [==============================] - 17s 22ms/step - loss: 0.3411 - accuracy: 0.8845\n",
            "Epoch 14/50\n",
            "782/782 [==============================] - 17s 22ms/step - loss: 0.3264 - accuracy: 0.8870\n",
            "Epoch 15/50\n",
            "782/782 [==============================] - 17s 21ms/step - loss: 0.3061 - accuracy: 0.8963\n",
            "Epoch 16/50\n",
            "782/782 [==============================] - 17s 22ms/step - loss: 0.2900 - accuracy: 0.9001\n",
            "Epoch 17/50\n",
            "782/782 [==============================] - 17s 22ms/step - loss: 0.2770 - accuracy: 0.9047\n",
            "Epoch 18/50\n",
            "782/782 [==============================] - 17s 22ms/step - loss: 0.2647 - accuracy: 0.9091\n",
            "Epoch 19/50\n",
            "782/782 [==============================] - 17s 22ms/step - loss: 0.2481 - accuracy: 0.9144\n",
            "Epoch 20/50\n",
            "782/782 [==============================] - 17s 22ms/step - loss: 0.2424 - accuracy: 0.9173\n",
            "Epoch 21/50\n",
            "782/782 [==============================] - 17s 22ms/step - loss: 0.2361 - accuracy: 0.9188\n",
            "Epoch 22/50\n",
            "782/782 [==============================] - 17s 22ms/step - loss: 0.2192 - accuracy: 0.9246\n",
            "Epoch 23/50\n",
            "782/782 [==============================] - 17s 22ms/step - loss: 0.2142 - accuracy: 0.9263\n",
            "Epoch 24/50\n",
            "782/782 [==============================] - 17s 22ms/step - loss: 0.2037 - accuracy: 0.9296\n",
            "Epoch 25/50\n",
            "782/782 [==============================] - 17s 22ms/step - loss: 0.1951 - accuracy: 0.9330\n",
            "Epoch 26/50\n",
            "782/782 [==============================] - 17s 22ms/step - loss: 0.1956 - accuracy: 0.9336\n",
            "Epoch 27/50\n",
            "782/782 [==============================] - 17s 22ms/step - loss: 0.1819 - accuracy: 0.9370\n",
            "Epoch 28/50\n",
            "782/782 [==============================] - 18s 23ms/step - loss: 0.1816 - accuracy: 0.9365\n",
            "Epoch 29/50\n",
            "782/782 [==============================] - 18s 23ms/step - loss: 0.1738 - accuracy: 0.9411\n",
            "Epoch 30/50\n",
            "782/782 [==============================] - 18s 23ms/step - loss: 0.1648 - accuracy: 0.9430\n",
            "Epoch 31/50\n",
            "782/782 [==============================] - 17s 22ms/step - loss: 0.1658 - accuracy: 0.9415\n",
            "Epoch 32/50\n",
            "782/782 [==============================] - 17s 22ms/step - loss: 0.1590 - accuracy: 0.9451\n",
            "Epoch 33/50\n",
            "782/782 [==============================] - 17s 22ms/step - loss: 0.1587 - accuracy: 0.9443\n",
            "Epoch 34/50\n",
            "782/782 [==============================] - 17s 22ms/step - loss: 0.1522 - accuracy: 0.9481\n",
            "Epoch 35/50\n",
            "782/782 [==============================] - 17s 22ms/step - loss: 0.1447 - accuracy: 0.9502\n",
            "Epoch 36/50\n",
            "782/782 [==============================] - 17s 22ms/step - loss: 0.1420 - accuracy: 0.9515\n",
            "Epoch 37/50\n",
            "782/782 [==============================] - 17s 22ms/step - loss: 0.1396 - accuracy: 0.9526\n",
            "Epoch 38/50\n",
            "782/782 [==============================] - 17s 22ms/step - loss: 0.1378 - accuracy: 0.9520\n",
            "Epoch 39/50\n",
            "782/782 [==============================] - 17s 22ms/step - loss: 0.1330 - accuracy: 0.9550\n",
            "Epoch 40/50\n",
            "782/782 [==============================] - 17s 22ms/step - loss: 0.1247 - accuracy: 0.9572\n",
            "Epoch 41/50\n",
            "782/782 [==============================] - 17s 22ms/step - loss: 0.1278 - accuracy: 0.9562\n",
            "Epoch 42/50\n",
            "782/782 [==============================] - 17s 22ms/step - loss: 0.1243 - accuracy: 0.9570\n",
            "Epoch 43/50\n",
            "782/782 [==============================] - 17s 22ms/step - loss: 0.1198 - accuracy: 0.9597\n",
            "Epoch 44/50\n",
            "782/782 [==============================] - 17s 22ms/step - loss: 0.1205 - accuracy: 0.9580\n",
            "Epoch 45/50\n",
            "782/782 [==============================] - 17s 22ms/step - loss: 0.1161 - accuracy: 0.9591\n",
            "Epoch 46/50\n",
            "782/782 [==============================] - 17s 22ms/step - loss: 0.1130 - accuracy: 0.9612\n",
            "Epoch 47/50\n",
            "782/782 [==============================] - 17s 22ms/step - loss: 0.1121 - accuracy: 0.9612\n",
            "Epoch 48/50\n",
            "782/782 [==============================] - 17s 22ms/step - loss: 0.1153 - accuracy: 0.9598\n",
            "Epoch 49/50\n",
            "782/782 [==============================] - 17s 22ms/step - loss: 0.1087 - accuracy: 0.9628\n",
            "Epoch 50/50\n",
            "782/782 [==============================] - 17s 22ms/step - loss: 0.1051 - accuracy: 0.9642\n"
          ]
        }
      ]
    },
    {
      "cell_type": "code",
      "source": [
        "# Plot Model Loss and Accuracy During Training\n",
        "%matplotlib inline\n",
        "acc = history.history['accuracy']\n",
        "loss = history.history['loss']\n",
        "epochs = range(1, len(acc) + 1)\n",
        "plt.plot(epochs, acc, 'b', label='Training accuracy')\n",
        "plt.title('Training accuracy')\n",
        "plt.legend()\n",
        "plt.figure()\n",
        "plt.plot(epochs, loss, 'b', label='Training loss', color='r')\n",
        "plt.title('Training loss')\n",
        "plt.legend()\n",
        "plt.show()"
      ],
      "metadata": {
        "id": "5xMFbYIYnLAl",
        "colab": {
          "base_uri": "https://localhost:8080/",
          "height": 545
        },
        "outputId": "c172860c-800d-414c-b20c-801f9098e09e"
      },
      "execution_count": null,
      "outputs": [
        {
          "output_type": "display_data",
          "data": {
            "text/plain": [
              "<Figure size 432x288 with 1 Axes>"
            ],
            "image/png": "[encoded data removed]"
          },
          "metadata": {
            "needs_background": "light"
          }
        },
        {
          "output_type": "display_data",
          "data": {
            "text/plain": [
              "<Figure size 432x288 with 1 Axes>"
            ],
            "image/png": "[encoded data removed]"
          },
          "metadata": {
            "needs_background": "light"
          }
        }
      ]
    },
    {
      "cell_type": "code",
      "source": [
        "# ACCURACY = 88.8%\n",
        "model.evaluate(X_test,Y_test)"
      ],
      "metadata": {
        "id": "2cs6AH9LnrIs",
        "colab": {
          "base_uri": "https://localhost:8080/"
        },
        "outputId": "f7d43718-89dd-4ab2-b154-5e2d67333dbd"
      },
      "execution_count": null,
      "outputs": [
        {
          "output_type": "stream",
          "name": "stdout",
          "text": [
            "313/313 [==============================] - 2s 5ms/step - loss: 0.4399 - accuracy: 0.8884\n"
          ]
        },
        {
          "output_type": "execute_result",
          "data": {
            "text/plain": [
              "[0.43988457322120667, 0.8884000182151794]"
            ]
          },
          "metadata": {},
          "execution_count": 7
        }
      ]
    },
    {
      "cell_type": "markdown",
      "source": [
        "#### **TESTING**"
      ],
      "metadata": {
        "id": "Mi0iRUTEogaV"
      }
    },
    {
      "cell_type": "code",
      "source": [
        "# Model predictions:\n",
        "import numpy as np\n",
        "y_pred = model.predict(X_test)\n",
        "  # Each element of y_pred is a list of 10 numbers(probabilities)\n",
        "\n",
        "y_pclasses = [np.argmax(element) for element in y_pred]\n",
        "  # This shows the class of max probability"
      ],
      "metadata": {
        "id": "K6mlNLpiaDeb"
      },
      "execution_count": null,
      "outputs": []
    },
    {
      "cell_type": "code",
      "source": [
        "# Actual predictions:\n",
        "#Y_test.reshape(-1,)\n",
        "  # This is a list of actual labels of the test data"
      ],
      "metadata": {
        "id": "O-UAkny3aDhH"
      },
      "execution_count": null,
      "outputs": []
    },
    {
      "cell_type": "code",
      "source": [
        "# Creating a list which contains the indexes of wrong predictions:\n",
        "predictions_diff = Y_test.reshape(-1,) - y_pclasses\n",
        "i = 0\n",
        "a = []\n",
        "for single_pd in predictions_diff:\n",
        "  if single_pd != 0:\n",
        "    a.append(i)\n",
        "  i+=1;\n",
        "\n",
        "# Length of wrong predictions:\n",
        "len(a)"
      ],
      "metadata": {
        "id": "klHCYOF4bGvK",
        "colab": {
          "base_uri": "https://localhost:8080/"
        },
        "outputId": "6d8a5ff5-486b-477d-9251-dbf5819cfcf7"
      },
      "execution_count": null,
      "outputs": [
        {
          "output_type": "execute_result",
          "data": {
            "text/plain": [
              "1149"
            ]
          },
          "metadata": {},
          "execution_count": 13
        }
      ]
    },
    {
      "cell_type": "code",
      "source": [
        "#rough\n",
        "# indexes of the beginning and the end\n",
        "# print(a[:5],a[-5:])\n",
        "\n",
        "# Everything is clear untill now"
      ],
      "metadata": {
        "id": "mbog4v2e_YDH"
      },
      "execution_count": null,
      "outputs": []
    },
    {
      "cell_type": "code",
      "source": [
        "# Plotting the input image for the wrong prediction\n",
        "classes = [\"airplane\",\"automobile\",\"bird\",\"cat\",\"deer\",\"dog\",\"frog\",\"horse\",\"ship\",\"truck\"]\n",
        "\n",
        "\"\"\"\n",
        "def plot_sample(X, y, index):\n",
        "    plt.figure(figsize = (15,2))\n",
        "    plt.imshow(X[index])\n",
        "    plt.xlabel(classes[y[index]])\n",
        "\n",
        "plot_sample(X_test, Y_test.reshape(-1,), 24)\n",
        "\"\"\""
      ],
      "metadata": {
        "id": "D6oQT72ea6A7",
        "colab": {
          "base_uri": "https://localhost:8080/",
          "height": 53
        },
        "outputId": "909a2102-70ae-42d1-a6ed-d6d6fcd67215"
      },
      "execution_count": null,
      "outputs": [
        {
          "output_type": "execute_result",
          "data": {
            "text/plain": [
              "'\\ndef plot_sample(X, y, index):\\n    plt.figure(figsize = (15,2))\\n    plt.imshow(X[index])\\n    plt.xlabel(classes[y[index]])\\n\\nplot_sample(X_test, Y_test.reshape(-1,), 24)\\n'"
            ],
            "application/vnd.google.colaboratory.intrinsic+json": {
              "type": "string"
            }
          },
          "metadata": {},
          "execution_count": 15
        }
      ]
    },
    {
      "cell_type": "code",
      "source": [
        "# What was the wrong prediction?\n",
        "# classes[y_pclasses[index]]\n",
        "\n",
        "# What was the right prediction?\n",
        "# classes[Y_test.reshape(-1,)[index]]"
      ],
      "metadata": {
        "id": "4auJZQujaDmM"
      },
      "execution_count": null,
      "outputs": []
    },
    {
      "cell_type": "code",
      "source": [
        "# Probabilities of wrong predictions only:\n",
        "y_wpred = model.predict(X_test[a])\n",
        "len(y_wpred)"
      ],
      "metadata": {
        "id": "KSDtcJaKnrX7",
        "colab": {
          "base_uri": "https://localhost:8080/"
        },
        "outputId": "eba6bd1b-1fba-45e0-9bd3-dcfdb626f284"
      },
      "execution_count": null,
      "outputs": [
        {
          "output_type": "execute_result",
          "data": {
            "text/plain": [
              "1149"
            ]
          },
          "metadata": {},
          "execution_count": 17
        }
      ]
    },
    {
      "cell_type": "code",
      "source": [
        "# Max:\n",
        "max_ypred = np.max(y_wpred, axis=1)\n",
        "len(max_ypred)"
      ],
      "metadata": {
        "colab": {
          "base_uri": "https://localhost:8080/"
        },
        "id": "XbWGxVk6uD9X",
        "outputId": "273b91a6-2c2a-497f-ff5a-4bff5d11c280"
      },
      "execution_count": null,
      "outputs": [
        {
          "output_type": "execute_result",
          "data": {
            "text/plain": [
              "1149"
            ]
          },
          "metadata": {},
          "execution_count": 18
        }
      ]
    },
    {
      "cell_type": "code",
      "source": [
        "# Average, top5, and bottom5\n",
        "print('Average:', np.round(np.average(max_ypred),2))\n",
        "\n",
        "sorted_index_array = np.argsort(max_ypred)\n",
        "sorted_array = max_ypred[sorted_index_array]\n",
        "rslt1 = sorted_array[-50 : ]\n",
        "rslt2 = sorted_array[ : 5]\n",
        "print('top 50:', np.round(rslt1,10))\n",
        "print('bottom 5:', np.round(rslt2,2))"
      ],
      "metadata": {
        "colab": {
          "base_uri": "https://localhost:8080/"
        },
        "id": "fJTiutFKuEAH",
        "outputId": "667c5175-007e-4751-e8c3-37bd1d658c4b"
      },
      "execution_count": null,
      "outputs": [
        {
          "output_type": "stream",
          "name": "stdout",
          "text": [
            "Average: 0.78\n",
            "top 50: [0.9992758  0.9992785  0.9993092  0.9993136  0.9993281  0.9993461\n",
            " 0.99937886 0.9993967  0.99941367 0.99942654 0.99945945 0.999461\n",
            " 0.9994666  0.9995162  0.9995949  0.9996004  0.99960905 0.9996102\n",
            " 0.99962175 0.99966544 0.9996763  0.99971104 0.9997177  0.99975765\n",
            " 0.99980575 0.999818   0.99983823 0.99985695 0.9998584  0.999889\n",
            " 0.9998927  0.9998932  0.9998946  0.9998983  0.9999268  0.999929\n",
            " 0.99994695 0.99995667 0.9999618  0.9999665  0.9999698  0.99997294\n",
            " 0.9999746  0.99998856 0.999992   0.999993   0.9999954  0.9999976\n",
            " 0.9999984  1.        ]\n",
            "bottom 5: [0.27 0.29 0.3  0.3  0.31]\n"
          ]
        }
      ]
    },
    {
      "cell_type": "code",
      "source": [
        "# THE END OF TASK 01:\n",
        "set1, set2, set3, set4 = ([] for i in range(4))\n",
        "\n",
        "for p in max_ypred:\n",
        "  if p < 0.7:\n",
        "    set1.append(p)\n",
        "  elif p < 0.9:\n",
        "    set2.append(p)\n",
        "  elif p < 0.95:\n",
        "    set3.append(p)\n",
        "  else:\n",
        "    set4.append(p)\n",
        "\n",
        "print('Wrong Probabilities lying in ranges 0-70%, 70-90%, 90-95%, 95-100% are:')\n",
        "print(len(set1), len(set2), len(set3), len(set4), sep=' -- ')"
      ],
      "metadata": {
        "colab": {
          "base_uri": "https://localhost:8080/"
        },
        "id": "QkYxOpdLuEC2",
        "outputId": "ba7f64f1-6f82-4d41-8408-995d8ece656b"
      },
      "execution_count": null,
      "outputs": [
        {
          "output_type": "stream",
          "name": "stdout",
          "text": [
            "Wrong Probabilities lying in ranges 0-70%, 70-90%, 90-95%, 95-100% are:\n",
            "401 -- 283 -- 112 -- 353\n"
          ]
        }
      ]
    },
    {
      "cell_type": "code",
      "source": [
        "#rough\n",
        "#376+291+477"
      ],
      "metadata": {
        "id": "KwPRcf733-EI"
      },
      "execution_count": null,
      "outputs": []
    },
    {
      "cell_type": "code",
      "source": [
        "# Max of all pred:\n",
        "max_ypred_all = np.max(y_pred, axis=1)"
      ],
      "metadata": {
        "id": "54Xi0LMo3-GU"
      },
      "execution_count": null,
      "outputs": []
    },
    {
      "cell_type": "code",
      "source": [
        "#rough\n",
        "set5 = []\n",
        "set6 = []\n",
        "\n",
        "for p in max_ypred_all:\n",
        "  if p > 0.95:\n",
        "    set5.append(p)\n",
        "  else:\n",
        "    set6.append(p)\n",
        "\n",
        "print('no. of all predictions having max probability > 95% =', len(set5))\n",
        "print('right predictions having probability less than 95% =', end=' ')\n",
        "len(set6) - 401 - 283 - 112"
      ],
      "metadata": {
        "colab": {
          "base_uri": "https://localhost:8080/"
        },
        "id": "eLWXvQCTGcB0",
        "outputId": "f26bb698-ccb5-4855-e462-d12396a3a4ed"
      },
      "execution_count": null,
      "outputs": [
        {
          "output_type": "stream",
          "name": "stdout",
          "text": [
            "no. of all predictions having max probability > 95% = 8230\n",
            "right predictions having probability less than 95% = "
          ]
        },
        {
          "output_type": "execute_result",
          "data": {
            "text/plain": [
              "974"
            ]
          },
          "metadata": {},
          "execution_count": 26
        }
      ]
    },
    {
      "cell_type": "code",
      "source": [
        "#rough\n",
        "# 401 + 283 + 112 = 796"
      ],
      "metadata": {
        "id": "KsTiih1HqNJd"
      },
      "execution_count": null,
      "outputs": []
    },
    {
      "cell_type": "code",
      "source": [
        "#rough\n",
        "set5 = []\n",
        "\n",
        "for p in max_ypred:\n",
        "  if p < 0.5:\n",
        "    set5.append(p)\n",
        "\n",
        "print('no. of all predictions having max probability < 70% = 678')\n",
        "print('right predictions having probability less than 70% = 277')\n",
        "print('wrong predictions having probability less than 70% = 401', end='\\n\\n')\n",
        "\n",
        "print('no. of all predictions having max probability < 50% = 147')\n",
        "print('right predictions having probability less than 50% =', 147-97)\n",
        "print('wrong predictions having probability less than 50% =', len(set5))"
      ],
      "metadata": {
        "id": "Z5thla2JJ9kt"
      },
      "execution_count": null,
      "outputs": []
    },
    {
      "cell_type": "code",
      "source": [
        "# CONCLUSION:\n",
        "\"\"\"\n",
        "- Average wrong max probability = 78%\n",
        "- Minimum wrong max probalility = 27%\n",
        "- So many entries are around ~100% for wrong max probabilities\n",
        "\n",
        "- Right predictions having probability less than 95% = 974\n",
        "- Wrong predictions having probability less than 95% = 796\n",
        "\n",
        "- Not good results for less than 50 and 70 probabilities also\n",
        "\"\"\""
      ],
      "metadata": {
        "id": "GNVLHIBIJ9iQ"
      },
      "execution_count": null,
      "outputs": []
    },
    {
      "cell_type": "markdown",
      "source": [
        "**FOR TASK2:**"
      ],
      "metadata": {
        "id": "s86lFtxfqIYf"
      }
    },
    {
      "cell_type": "code",
      "source": [
        "classes = [\"airplane\",\"automobile\",\"bird\",\"cat\",\"deer\",\"dog\",\"frog\",\"horse\",\"ship\",\"truck\"]"
      ],
      "metadata": {
        "id": "BGHhhcLJqXoW"
      },
      "execution_count": null,
      "outputs": []
    },
    {
      "cell_type": "code",
      "source": [
        "# What was the wrong prediction?\n",
        "# classes[y_pclasses[index]]\n",
        "\n",
        "# What was the right prediction?\n",
        "# classes[Y_test.reshape(-1,)[index]]"
      ],
      "metadata": {
        "id": "DLv3Ud3WqfOw"
      },
      "execution_count": null,
      "outputs": []
    },
    {
      "cell_type": "code",
      "source": [
        "import numpy as np\n",
        "y_pred = model.predict(X_test)\n",
        "y_pclasses = [np.argmax(element) for element in y_pred]"
      ],
      "metadata": {
        "id": "eXjlwinUnr6J"
      },
      "execution_count": null,
      "outputs": []
    },
    {
      "cell_type": "code",
      "source": [
        "# Creating a list which contains the indexes of wrong predictions:\n",
        "predictions_diff = Y_test.reshape(-1,) - y_pclasses\n",
        "i = 0\n",
        "a = []\n",
        "for single_pd in predictions_diff:\n",
        "  if single_pd != 0:\n",
        "    a.append(i)\n",
        "  i+=1;\n",
        "\n",
        "# Length of wrong predictions:\n",
        "len(a)"
      ],
      "metadata": {
        "colab": {
          "base_uri": "https://localhost:8080/"
        },
        "id": "FGGCdolcqHE2",
        "outputId": "a871c683-408d-4add-f44a-e68338be74d7"
      },
      "execution_count": null,
      "outputs": [
        {
          "output_type": "execute_result",
          "data": {
            "text/plain": [
              "1116"
            ]
          },
          "metadata": {},
          "execution_count": 11
        }
      ]
    },
    {
      "cell_type": "code",
      "source": [
        "# actual classes for wrong predictions:\n",
        "actual_classes_wypred = []\n",
        "for i in range(len(a)):\n",
        "  actual_classes_wypred.append(classes[Y_test.reshape(-1,)[a[i]]])\n",
        "  # 'a' is the indexes for the wrong predictions\n",
        "  # actual_classes_wypred is a list of string containing the acutal names instead of integers"
      ],
      "metadata": {
        "id": "jUm553eBJ9nJ"
      },
      "execution_count": null,
      "outputs": []
    },
    {
      "cell_type": "code",
      "source": [
        "len(actual_classes_wypred)"
      ],
      "metadata": {
        "colab": {
          "base_uri": "https://localhost:8080/"
        },
        "id": "FpyUcy12MxTP",
        "outputId": "037771fd-fc23-42cf-ae03-725e8a4e43c9"
      },
      "execution_count": null,
      "outputs": [
        {
          "output_type": "execute_result",
          "data": {
            "text/plain": [
              "1116"
            ]
          },
          "metadata": {},
          "execution_count": 13
        }
      ]
    },
    {
      "cell_type": "code",
      "source": [
        "# function to find the most common element:\n",
        "import statistics\n",
        "from statistics import mode\n",
        " \n",
        "def most_common(List):\n",
        "    return(mode(List))\n",
        "   \n",
        "print(most_common(actual_classes_wypred))"
      ],
      "metadata": {
        "colab": {
          "base_uri": "https://localhost:8080/"
        },
        "id": "kbu6lnFOvUX2",
        "outputId": "63186a9d-eb45-4512-d1ef-fd7982976604"
      },
      "execution_count": null,
      "outputs": [
        {
          "output_type": "stream",
          "name": "stdout",
          "text": [
            "cat\n"
          ]
        }
      ]
    },
    {
      "cell_type": "code",
      "source": [
        "reducing_list_a = actual_classes_wypred[:]\n",
        "top3_mc= []\n",
        "\n",
        "for i in range(3):\n",
        "  top3_mc.append(most_common(reducing_list_a))\n",
        "  counter = 0\n",
        "  while top3_mc[i] in reducing_list_a:\n",
        "    reducing_list_a.remove(top3_mc[i])\n",
        "    counter+=1\n",
        "  print('counter',i, '=', counter)\n",
        "print(top3_mc)"
      ],
      "metadata": {
        "id": "iD2_SSITvUcp",
        "colab": {
          "base_uri": "https://localhost:8080/"
        },
        "outputId": "83e6882b-2765-47b4-efef-132b8c5a48d9"
      },
      "execution_count": null,
      "outputs": [
        {
          "output_type": "stream",
          "name": "stdout",
          "text": [
            "counter 0 = 223\n",
            "counter 1 = 165\n",
            "counter 2 = 162\n",
            "['cat', 'bird', 'dog']\n"
          ]
        }
      ]
    },
    {
      "cell_type": "code",
      "source": [
        "# Problem solved:\n",
        "# If you want to copy a list, you can use slice operation:\n",
        "\"\"\"\n",
        "list11 = [1,2,3,4,5,3,4,6,8,1,3,4,7,5,3,7,9,6,2]\n",
        "list12 = list11[:]\n",
        "while 3 in list12:\n",
        "  list12.remove(3)\n",
        "print(list11)\n",
        "print(list12)\n",
        "\"\"\""
      ],
      "metadata": {
        "colab": {
          "base_uri": "https://localhost:8080/",
          "height": 53
        },
        "id": "mZtUBkZQNBLw",
        "outputId": "4bf34fd0-3fdc-48c9-c41f-51a8d4752bb4"
      },
      "execution_count": null,
      "outputs": [
        {
          "output_type": "execute_result",
          "data": {
            "text/plain": [
              "'\\nlist11 = [1,2,3,4,5,3,4,6,8,1,3,4,7,5,3,7,9,6,2]\\nlist12 = list11[:]\\nwhile 3 in list12:\\n  list12.remove(3)\\nprint(list11)\\nprint(list12)\\n'"
            ],
            "application/vnd.google.colaboratory.intrinsic+json": {
              "type": "string"
            }
          },
          "metadata": {},
          "execution_count": 16
        }
      ]
    },
    {
      "cell_type": "markdown",
      "source": [
        "**IMP RESULT:**"
      ],
      "metadata": {
        "id": "FfAjuaGJpgDw"
      }
    },
    {
      "cell_type": "code",
      "source": [
        "# Another way:\n",
        "import pandas as pd\n",
        "count = pd.Series(actual_classes_wypred).value_counts()\n",
        "print (\"Element    Count\", count, sep='\\n')"
      ],
      "metadata": {
        "colab": {
          "base_uri": "https://localhost:8080/"
        },
        "id": "DnekW1rKslak",
        "outputId": "c4b499a5-b7aa-4d8e-aa53-04b950e35de7"
      },
      "execution_count": null,
      "outputs": [
        {
          "output_type": "stream",
          "name": "stdout",
          "text": [
            "Element    Count\n",
            "cat           223\n",
            "bird          165\n",
            "dog           162\n",
            "frog          109\n",
            "airplane      107\n",
            "horse          93\n",
            "deer           91\n",
            "truck          66\n",
            "ship           59\n",
            "automobile     41\n",
            "dtype: int64\n"
          ]
        }
      ]
    },
    {
      "cell_type": "code",
      "source": [
        "# Percentages:\n",
        "pd.Series(actual_classes_wypred).value_counts(normalize=True)"
      ],
      "metadata": {
        "colab": {
          "base_uri": "https://localhost:8080/"
        },
        "id": "pDfdAhNvrVWd",
        "outputId": "ec6c11a4-4159-430d-a149-5d9031387e57"
      },
      "execution_count": null,
      "outputs": [
        {
          "output_type": "execute_result",
          "data": {
            "text/plain": [
              "cat           0.199821\n",
              "bird          0.147849\n",
              "dog           0.145161\n",
              "frog          0.097670\n",
              "airplane      0.095878\n",
              "horse         0.083333\n",
              "deer          0.081541\n",
              "truck         0.059140\n",
              "ship          0.052867\n",
              "automobile    0.036738\n",
              "dtype: float64"
            ]
          },
          "metadata": {},
          "execution_count": 90
        }
      ]
    },
    {
      "cell_type": "markdown",
      "source": [
        "**CONCLUSION:**"
      ],
      "metadata": {
        "id": "0Vw6gpRisRTe"
      }
    },
    {
      "cell_type": "code",
      "source": [
        "# CONCLUSION:\n",
        "  # The predictions for 'automobile' are 05 times better than the predictions of 'cat'\n",
        "  # There is a difference of 16% from highest to lowest"
      ],
      "metadata": {
        "id": "_BA7r2dRprZ-"
      },
      "execution_count": null,
      "outputs": []
    },
    {
      "cell_type": "code",
      "source": [
        "# ALHAMDULILLAH! \n",
        "  # ALL CLEAR TILL THIS STAGE"
      ],
      "metadata": {
        "id": "lCxwFhW6QFTg"
      },
      "execution_count": null,
      "outputs": []
    },
    {
      "cell_type": "code",
      "source": [
        "#rough\n",
        "  # finding indices of same repetitive elements\n",
        "#list2 = ['cat', 'bat', 'mat', 'bat', 'cat', 'pet', 'bat', 'mat']\n",
        "#[i for i, x in enumerate(list2) if x == \"bat\"]"
      ],
      "metadata": {
        "id": "3agVXcLOslfS"
      },
      "execution_count": null,
      "outputs": []
    },
    {
      "cell_type": "code",
      "source": [
        "# b's are indices for top 3 most common actual indices\n",
        "# and\n",
        "# c's are the predicted classes against the top3 actual classes\n",
        "b = []\n",
        "c = []\n",
        "for k in range(3):\n",
        "  b.append([i for i, x in enumerate(actual_classes_wypred) if x == top3_mc[k]])\n",
        "  c.append([classes[y_pclasses[b[k][j]]] for j in range(len(b[k]))])"
      ],
      "metadata": {
        "id": "z0DjojVcslix"
      },
      "execution_count": null,
      "outputs": []
    },
    {
      "cell_type": "code",
      "source": [
        "# Problem Solved!\n",
        "# loop's 'i' was clashing with the enumerate's 'i'"
      ],
      "metadata": {
        "id": "AyihlPGKlBzH"
      },
      "execution_count": null,
      "outputs": []
    },
    {
      "cell_type": "code",
      "source": [
        "print(len(b[0]), len(b[1]), len(b[2]))\n",
        "print(b[0][:10], b[1][:10], b[2][:10], sep='\\n')"
      ],
      "metadata": {
        "colab": {
          "base_uri": "https://localhost:8080/"
        },
        "id": "YsZP5zrdfkVq",
        "outputId": "09779c88-b943-43fc-f2fe-5903bcd6bc07"
      },
      "execution_count": null,
      "outputs": [
        {
          "output_type": "stream",
          "name": "stdout",
          "text": [
            "223 165 162\n",
            "[4, 7, 9, 22, 26, 29, 33, 38, 42, 50]\n",
            "[1, 10, 13, 19, 39, 40, 46, 49, 60, 65]\n",
            "[0, 3, 11, 14, 16, 56, 59, 64, 66, 85]\n"
          ]
        }
      ]
    },
    {
      "cell_type": "code",
      "source": [
        "print(len(c[0]), len(c[1]), len(c[2]))\n",
        "print(c[0][:10], c[1][:10], c[2][:10], sep='\\n')"
      ],
      "metadata": {
        "colab": {
          "base_uri": "https://localhost:8080/"
        },
        "id": "ocyT0-qFcZ64",
        "outputId": "baaa929f-72f1-4c02-ab0b-a51a916bae39"
      },
      "execution_count": null,
      "outputs": [
        {
          "output_type": "stream",
          "name": "stdout",
          "text": [
            "223 165 162\n",
            "['frog', 'frog', 'automobile', 'deer', 'deer', 'frog', 'dog', 'truck', 'cat', 'truck']\n",
            "['ship', 'airplane', 'horse', 'frog', 'dog', 'deer', 'cat', 'frog', 'horse', 'bird']\n",
            "['cat', 'airplane', 'truck', 'truck', 'dog', 'horse', 'frog', 'frog', 'automobile', 'dog']\n"
          ]
        }
      ]
    },
    {
      "cell_type": "code",
      "source": [
        "#rough\n",
        "# np.array([])\n",
        "# np.append([])"
      ],
      "metadata": {
        "id": "MaG4ruDBYH1y"
      },
      "execution_count": null,
      "outputs": []
    },
    {
      "cell_type": "code",
      "source": [
        "# rough\n",
        "#classes[[5,6,4,2,3,8,9,1,2,6,5,1]]\n",
        "#a=[1,2,3]\n",
        "#classes[a]\n",
        "# Above will give error because you are accessing a list instead of a numpy array through multiple indexes\n",
        "\n",
        "'''\n",
        "import numpy as np\n",
        "list3 = np.array([\"airplane\",\"automobile\",\"bird\",\"cat\",\"deer\",\"dog\",\"frog\",\"horse\",\"ship\",\"truck\"])\n",
        "a=[1,2,3]\n",
        "list3[a]\n",
        "'''"
      ],
      "metadata": {
        "id": "U7PMM-08j_L5"
      },
      "execution_count": null,
      "outputs": []
    },
    {
      "cell_type": "code",
      "source": [
        "# rough\n",
        "# Count occurrences of an element in a list\n",
        "# list2 = ['cat', 'bat', 'mat', 'bat', 'cat', 'pet', 'bat', 'mat']\n",
        "# list2.count('bat')"
      ],
      "metadata": {
        "id": "qm0EpRTSsrIF"
      },
      "execution_count": null,
      "outputs": []
    },
    {
      "cell_type": "code",
      "source": [
        "'''\n",
        "for i in range(3):\n",
        "  mci = most_common(c[i])\n",
        "  print('Most common prediction against actual class', top3_mc[i], '=', mci)\n",
        "  print('    its numbers =', c[i].count(mci), 'out of', len(mci))\n",
        "'''\n",
        "# ERROR for c[1]:\n",
        "  # \"no unique mode; found 2 equally common values\"\n",
        "# Solution is in the following three cells"
      ],
      "metadata": {
        "id": "1N981JpqsrED"
      },
      "execution_count": null,
      "outputs": []
    },
    {
      "cell_type": "code",
      "source": [
        "# Wrong predictions against actual class 'CAT'\n",
        "print('No. of wrong predictions against actual class CAT =', len(c[0]), end='\\n\\n')\n",
        "count2 = pd.Series(c[0]).value_counts()\n",
        "print (\"Element    Count\", count2, sep='\\n')"
      ],
      "metadata": {
        "colab": {
          "base_uri": "https://localhost:8080/"
        },
        "id": "uzKUKN3OlolF",
        "outputId": "04f1f6b8-d0be-4d37-bc3a-7e73fdf01385"
      },
      "execution_count": null,
      "outputs": [
        {
          "output_type": "stream",
          "name": "stdout",
          "text": [
            "No. of wrong predictions against actual class CAT = 223\n",
            "\n",
            "Element    Count\n",
            "bird          26\n",
            "horse         25\n",
            "airplane      24\n",
            "frog          23\n",
            "cat           23\n",
            "automobile    22\n",
            "truck         21\n",
            "dog           20\n",
            "ship          20\n",
            "deer          19\n",
            "dtype: int64\n"
          ]
        }
      ]
    },
    {
      "cell_type": "code",
      "source": [
        "# Observation: Difference of 3% from highest to lowest in the above result"
      ],
      "metadata": {
        "id": "KFP_xuu7vDDu"
      },
      "execution_count": null,
      "outputs": []
    },
    {
      "cell_type": "code",
      "source": [
        "# Wrong predictions against actual class 'BIRD'\n",
        "print('No. of wrong predictions against actual class BIRD =', len(c[1]), end='\\n\\n')\n",
        "count3 = pd.Series(c[1]).value_counts()\n",
        "print (\"Element    Count\", count3, sep='\\n')"
      ],
      "metadata": {
        "colab": {
          "base_uri": "https://localhost:8080/"
        },
        "id": "DxCwHc9Iltyf",
        "outputId": "bc4f417a-be9f-4d79-a0b2-bfec2a0bb85b"
      },
      "execution_count": null,
      "outputs": [
        {
          "output_type": "stream",
          "name": "stdout",
          "text": [
            "No. of wrong predictions against actual class BIRD = 165\n",
            "\n",
            "Element    Count\n",
            "airplane      23\n",
            "cat           23\n",
            "frog          20\n",
            "truck         19\n",
            "deer          16\n",
            "horse         15\n",
            "ship          14\n",
            "dog           12\n",
            "bird          12\n",
            "automobile    11\n",
            "dtype: int64\n"
          ]
        }
      ]
    },
    {
      "cell_type": "code",
      "source": [
        "# Observation: Difference of 7% from highest to lowest in the above result"
      ],
      "metadata": {
        "id": "SovZ5NqHvbw3"
      },
      "execution_count": null,
      "outputs": []
    },
    {
      "cell_type": "code",
      "source": [
        "# Wrong predictions against actual class 'DOG'\n",
        "print('No. of wrong predictions against actual class DOG =', len(c[2]), end='\\n\\n')\n",
        "count4 = pd.Series(c[2]).value_counts()\n",
        "print (\"Element    Count\", count4, sep='\\n')"
      ],
      "metadata": {
        "colab": {
          "base_uri": "https://localhost:8080/"
        },
        "id": "6CLu6215lt05",
        "outputId": "adf28cfb-45cc-4099-85e9-dd06bc7ba45c"
      },
      "execution_count": null,
      "outputs": [
        {
          "output_type": "stream",
          "name": "stdout",
          "text": [
            "No. of wrong predictions against actual class DOG = 162\n",
            "\n",
            "Element    Count\n",
            "dog           20\n",
            "airplane      18\n",
            "automobile    18\n",
            "truck         17\n",
            "frog          17\n",
            "horse         16\n",
            "deer          15\n",
            "ship          15\n",
            "cat           13\n",
            "bird          13\n",
            "dtype: int64\n"
          ]
        }
      ]
    },
    {
      "cell_type": "code",
      "source": [
        "# Observation: Difference of 4% from highest to lowest in the above result"
      ],
      "metadata": {
        "id": "bqos6xAOvq4m"
      },
      "execution_count": null,
      "outputs": []
    },
    {
      "cell_type": "code",
      "source": [
        "#rough\n",
        "# pd.Series(c[2]).value_counts(normalize=True)"
      ],
      "metadata": {
        "id": "qP8ELtgKu0Eq"
      },
      "execution_count": null,
      "outputs": []
    },
    {
      "cell_type": "code",
      "source": [
        "# Last task\n",
        "# Plot 12 random images from X train or X test for Cats and Automobile\n",
        "classes = [\"airplane\",\"automobile\",\"bird\",\"cat\",\"deer\",\"dog\",\"frog\",\"horse\",\"ship\",\"truck\"]"
      ],
      "metadata": {
        "id": "d5pEqiQJDRtb"
      },
      "execution_count": null,
      "outputs": []
    },
    {
      "cell_type": "code",
      "source": [
        "#[i for i, x in enumerate(list2) if x == \"bat\"]"
      ],
      "metadata": {
        "id": "2oCNW8e_iOWT"
      },
      "execution_count": null,
      "outputs": []
    },
    {
      "cell_type": "code",
      "source": [
        "import random\n",
        "cat_classes = [i for i, x in enumerate(Y_train) if x == 3]\n",
        "automobile_classes = [i for i, x in enumerate(Y_train) if x == 1]\n",
        "res1 = random.sample(cat_classes, 12)\n",
        "res2 = random.sample(automobile_classes, 12)\n",
        "print(res1, res2, sep='\\n')"
      ],
      "metadata": {
        "colab": {
          "base_uri": "https://localhost:8080/"
        },
        "id": "7zKwTgQicxeH",
        "outputId": "4733ba0b-4733-43b9-aa42-670ba9b1b384"
      },
      "execution_count": 14,
      "outputs": [
        {
          "output_type": "stream",
          "name": "stdout",
          "text": [
            "[21914, 33177, 8786, 29439, 20505, 7121, 42408, 37236, 17557, 10070, 13953, 34061]\n",
            "[9932, 23313, 23107, 38958, 48000, 45910, 40184, 30103, 5616, 19710, 212, 12685]\n"
          ]
        }
      ]
    },
    {
      "cell_type": "code",
      "source": [
        "# PLOTTING CATS\n",
        "fig=plt.figure(figsize=(8, 8))\n",
        "columns = 4\n",
        "rows = 3\n",
        "for i in range(1, columns*rows +1):\n",
        "    img = X_train[res1[i-1]]\n",
        "    fig.add_subplot(rows, columns, i)\n",
        "    plt.imshow(img)\n",
        "plt.show()"
      ],
      "metadata": {
        "colab": {
          "base_uri": "https://localhost:8080/",
          "height": 454
        },
        "id": "u-Xlztxaw7je",
        "outputId": "9e9b3ab7-73d0-4dea-d987-97b6d9535439"
      },
      "execution_count": 16,
      "outputs": [
        {
          "output_type": "display_data",
          "data": {
            "text/plain": [
              "<Figure size 576x576 with 12 Axes>"
            ],
            "image/png": "[encoded data removed]"
          },
          "metadata": {
            "needs_background": "light"
          }
        }
      ]
    },
    {
      "cell_type": "code",
      "source": [
        "# PLOTTING AUTOMOBILES\n",
        "fig=plt.figure(figsize=(8, 8))\n",
        "for i in range(1, columns*rows +1):\n",
        "    img = X_train[res2[i-1]]\n",
        "    fig.add_subplot(rows, columns, i)\n",
        "    plt.imshow(img)\n",
        "plt.show()"
      ],
      "metadata": {
        "colab": {
          "base_uri": "https://localhost:8080/",
          "height": 454
        },
        "id": "nUnFJsNjjdnm",
        "outputId": "064a7fb6-cf43-461e-fc98-ec6c7a026d7f"
      },
      "execution_count": 18,
      "outputs": [
        {
          "output_type": "display_data",
          "data": {
            "text/plain": [
              "<Figure size 576x576 with 12 Axes>"
            ],
            "image/png": "[encoded data removed]"
          },
          "metadata": {
            "needs_background": "light"
          }
        }
      ]
    },
    {
      "cell_type": "markdown",
      "source": [
        "**THE END**"
      ],
      "metadata": {
        "id": "3vx6dWJ5leSq"
      }
    }
  ]
}